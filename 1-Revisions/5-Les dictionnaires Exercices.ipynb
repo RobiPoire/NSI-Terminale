{
 "cells": [
  {
   "cell_type": "markdown",
   "metadata": {},
   "source": [
    "# Les dictionnaires - Exercices"
   ]
  },
  {
   "cell_type": "markdown",
   "metadata": {},
   "source": [
    "## Exercice 1"
   ]
  },
  {
   "cell_type": "markdown",
   "metadata": {},
   "source": [
    "Les animaux de la ferme de Gaston sont representés par un dictionnaire dont les clés sont le nom des animaux et les valeurs\n",
    "le nombre d’animaux. On donne :"
   ]
  },
  {
   "cell_type": "code",
   "execution_count": 2,
   "metadata": {},
   "outputs": [],
   "source": [
    "ferme_gaston = {'lapin': 5, 'vache': 7, 'cochon': 2, 'cheval': 4}\n"
   ]
  },
  {
   "cell_type": "markdown",
   "metadata": {},
   "source": [
    "1. Quelle instruction permet d’obtenir le nombre de chevaux de Gaston ?"
   ]
  },
  {
   "cell_type": "code",
   "execution_count": 63,
   "metadata": {},
   "outputs": [
    {
     "name": "stdout",
     "output_type": "stream",
     "text": [
      "4\n"
     ]
    }
   ],
   "source": [
    "ferme_gaston = {'lapin': 5, 'vache': 7, 'cochon': 2, 'cheval': 4}\n",
    "\n",
    "print(ferme_gaston['cheval'])\n"
   ]
  },
  {
   "cell_type": "markdown",
   "metadata": {},
   "source": [
    "2. Gaston achète 12 poules. Quelle instruction permet de les ajouter à ferme_gaston ?"
   ]
  },
  {
   "cell_type": "code",
   "execution_count": 5,
   "metadata": {},
   "outputs": [
    {
     "name": "stdout",
     "output_type": "stream",
     "text": [
      "{'lapin': 5, 'vache': 7, 'cochon': 2, 'cheval': 4, 'poule': 12}\n"
     ]
    }
   ],
   "source": [
    "ferme_gaston = {'lapin': 5, 'vache': 7, 'cochon': 2, 'cheval': 4}\n",
    "\n",
    "\n",
    "def ajout_poules(ferme, nb_poules):\n",
    "    ferme['poule'] = nb_poules\n",
    "    return ferme\n",
    "\n",
    "\n",
    "print(ajout_poules(ferme_gaston, 12))\n"
   ]
  },
  {
   "cell_type": "markdown",
   "metadata": {},
   "source": [
    "3. Quelle instruction permet d’obtenir la liste des animaux de la ferme de Gaston ?"
   ]
  },
  {
   "cell_type": "code",
   "execution_count": 6,
   "metadata": {},
   "outputs": [
    {
     "name": "stdout",
     "output_type": "stream",
     "text": [
      "['lapin', 'vache', 'cochon', 'cheval', 'poule']\n"
     ]
    }
   ],
   "source": [
    "print(list(ferme_gaston.keys()))\n"
   ]
  },
  {
   "cell_type": "markdown",
   "metadata": {},
   "source": [
    "4. Ecrire une fonction nombre_animaux(ferme) qui a pour argument ferme, un dictionnaire représentant le nombre d’animaux\n",
    "de la ferme et qui renvoie le nombre total d’animaux.\n",
    "Par exemple nombre_animaux(ferme_gaston) renvoie 18 (ou 30 après l’ajout des 12 poules)."
   ]
  },
  {
   "cell_type": "code",
   "execution_count": 7,
   "metadata": {},
   "outputs": [
    {
     "name": "stdout",
     "output_type": "stream",
     "text": [
      "30\n"
     ]
    }
   ],
   "source": [
    "def nombre_animaux(ferme):\n",
    "    return sum(ferme.values())\n",
    "\n",
    "\n",
    "print(nombre_animaux(ferme_gaston))\n"
   ]
  },
  {
   "cell_type": "markdown",
   "metadata": {},
   "source": [
    "5. Ecrire une fonction nombre_animal(ferme,animal) qui a pour arguments ferme, un dictionnaire representant le nombre\n",
    "d’animaux de la ferme et animal, une variable de type str. Cette fonction renvoie le nombre d’animal dans la ferme si cet\n",
    "animal est dans la ferme sinon 0.\n",
    "Par exemple nombre_animal(ferme_gaston,'cochon') renvoie 2 et nombre_animal(ferme_gaston,'oie')\n",
    "renvoie 0."
   ]
  },
  {
   "cell_type": "code",
   "execution_count": 8,
   "metadata": {},
   "outputs": [
    {
     "name": "stdout",
     "output_type": "stream",
     "text": [
      "7\n"
     ]
    }
   ],
   "source": [
    "def nombre_animal(ferme, animal):\n",
    "    if animal in ferme:\n",
    "        return ferme[animal]\n",
    "    else:\n",
    "        return 0\n",
    "\n",
    "\n",
    "print(nombre_animal(ferme_gaston, 'vache'))\n",
    "\n"
   ]
  },
  {
   "cell_type": "markdown",
   "metadata": {},
   "source": [
    "## Exercice 2"
   ]
  },
  {
   "cell_type": "markdown",
   "metadata": {},
   "source": [
    "Un magasin vend des déguisements et accessoires. On donne le tableau suivant indiquant le nom des produits et le prix correspondant :"
   ]
  },
  {
   "attachments": {
    "image.png": {
     "image/png": "[encoded data removed]"
    }
   },
   "cell_type": "markdown",
   "metadata": {},
   "source": [
    "![image.png](attachment:image.png)"
   ]
  },
  {
   "cell_type": "markdown",
   "metadata": {},
   "source": [
    "1. Construire un dictionnaire BDPrix correspondant au tableau ci-dessus."
   ]
  },
  {
   "cell_type": "code",
   "execution_count": 11,
   "metadata": {},
   "outputs": [],
   "source": [
    "BDPrix = {'Sabre laser': 229, 'Etoile de ninja': 29.95, 'Cape': 75,\n",
    "          'Baguette': 35, 'Chapeau': 12, 'Bandeau': 12, 'Balai': 130}\n"
   ]
  },
  {
   "cell_type": "markdown",
   "metadata": {},
   "source": [
    "2. Définir une fonction Dispo(p, D) renvoyant True si le produit p est présent dans le dictionnaire D de prix et False sinon."
   ]
  },
  {
   "cell_type": "code",
   "execution_count": 13,
   "metadata": {},
   "outputs": [
    {
     "name": "stdout",
     "output_type": "stream",
     "text": [
      "True\n"
     ]
    }
   ],
   "source": [
    "def Dispob(p, D):\n",
    "    return p in D\n",
    "\n",
    "\n",
    "print(Dispob('Sabre laser', BDPrix))\n"
   ]
  },
  {
   "cell_type": "markdown",
   "metadata": {},
   "source": [
    "3. Définir une fonction PrixMoyen(D) qui calcule le prix moyen des produits proposés dans le dictionnaire D (qui contient au moins un produit).\n"
   ]
  },
  {
   "cell_type": "code",
   "execution_count": 15,
   "metadata": {},
   "outputs": [
    {
     "name": "stdout",
     "output_type": "stream",
     "text": [
      "74.70714285714287\n"
     ]
    }
   ],
   "source": [
    "def PrixMoyen(D):\n",
    "    return sum(D.values())/len(D)\n",
    "\n",
    "\n",
    "print(PrixMoyen(BDPrix))\n"
   ]
  },
  {
   "cell_type": "markdown",
   "metadata": {},
   "source": [
    "4. Définir une fonction IntervallePrix(m, M, D) qui renvoie l’ensemble des produits du dictionnaire D dont le prix est\n",
    "compris entre m et M."
   ]
  },
  {
   "cell_type": "code",
   "execution_count": 17,
   "metadata": {},
   "outputs": [
    {
     "name": "stdout",
     "output_type": "stream",
     "text": [
      "{'Etoile de ninja', 'Bandeau', 'Chapeau'}\n"
     ]
    }
   ],
   "source": [
    "def IntervallePrix(m, M, D):\n",
    "    return {p for p in D if D[p] >= m and D[p] <= M}\n",
    "\n",
    "\n",
    "print(IntervallePrix(10, 30, BDPrix))\n"
   ]
  },
  {
   "cell_type": "markdown",
   "metadata": {},
   "source": [
    "5. Le **panier** est un concept omniprésent dans les sites marchands. En Python, le panier du client sera representé par un dictionnaire.\n",
    "Panier de type dict[str : int] avec :\n",
    "-le nom des produits comme clé\n",
    "-la quantité d’achat comme valeurs associées.\n",
    "Donner une expression Python correspondant à l’achat de deux sabres lasers, de trois étoiles de ninja et d’un bandeau."
   ]
  },
  {
   "cell_type": "code",
   "execution_count": 22,
   "metadata": {},
   "outputs": [],
   "source": [
    "achats = {'Sabre laser': 2, 'Etoile de ninja': 3, 'Bandeau': 1}\n"
   ]
  },
  {
   "cell_type": "markdown",
   "metadata": {},
   "source": [
    "6. Définir une fonction TousDispo(D1, D2) qui à partir du panier d’achat D2 et d’un dictionnaire des prix D1, renvoie True si\n",
    "tous les produits sont disponibles ou False sinon."
   ]
  },
  {
   "cell_type": "code",
   "execution_count": 14,
   "metadata": {},
   "outputs": [
    {
     "name": "stdout",
     "output_type": "stream",
     "text": [
      "True\n"
     ]
    }
   ],
   "source": [
    "achats = {'Sabre laser': 2, 'Etoile de ninja': 3, 'Bandeau': 1}\n",
    "BDPrix = {'Sabre laser': 229, 'Etoile de ninja': 29.95, 'Cape': 75,\n",
    "          'Baguette': 35, 'Chapeau': 12, 'Bandeau': 12, 'Balai': 130}\n",
    "\n",
    "\n",
    "def TousDispo(D1, D2):\n",
    "    for i in D2:\n",
    "        if i not in D1:\n",
    "            return False\n",
    "    return True\n",
    "\n",
    "\n",
    "print(TousDispo(achats, BDPrix))\n"
   ]
  },
  {
   "cell_type": "markdown",
   "metadata": {},
   "source": [
    "7. Définir une fonction Total(D1, D2) renvoyant le total à payer du panier dictionnaire D2 à partir des prix du dictionnaire D1\n",
    "(si tous les articles sont disponibles, et un message d'erreur sinon)."
   ]
  },
  {
   "cell_type": "code",
   "execution_count": 15,
   "metadata": {},
   "outputs": [
    {
     "name": "stdout",
     "output_type": "stream",
     "text": [
      "559.85\n"
     ]
    }
   ],
   "source": [
    "# 7. Définir une fonction Total(D1, D2) renvoyant le total à payer du panier dictionnaire D2 à partir des prix du dictionnaire D1\n",
    "# (si tous les articles sont disponibles, et un message d'erreur sinon).\n",
    "\n",
    "def Total(D1, D2):\n",
    "    if TousDispo(D2, D1):\n",
    "        return sum([D1[i]*D2[i] for i in D2])\n",
    "    else:\n",
    "        return \"Erreur\"\n",
    "\n",
    "\n",
    "print(Total(BDPrix, achats))\n"
   ]
  },
  {
   "cell_type": "markdown",
   "metadata": {},
   "source": [
    "## Exercice 3"
   ]
  },
  {
   "cell_type": "markdown",
   "metadata": {},
   "source": [
    "Voici un exemple de données permettant de manipuler un livre de recettes de cuisine à partir de la liste des ingrédients des\n",
    "recettes :"
   ]
  },
  {
   "attachments": {
    "image.png": {
     "image/png": "[encoded data removed]"
    }
   },
   "cell_type": "markdown",
   "metadata": {},
   "source": [
    "![image.png](attachment:image.png)"
   ]
  },
  {
   "cell_type": "markdown",
   "metadata": {},
   "source": [
    "On va modéliser en Python un livre de recettes, par un dictionnaire de type dict(str : list(str)) dans lequel :\n",
    "-les noms des recettes, de type str, comme clés\n",
    "-l’ensemble des ingrédients, de type list(str), comme valeurs associées.\n",
    "\n",
    "1. Construire un dictionnaire MesRecettes correspondant au tableau ci-dessus."
   ]
  },
  {
   "cell_type": "code",
   "execution_count": null,
   "metadata": {},
   "outputs": [],
   "source": [
    "mesrecettes = {'Gâteau au chocolat': ['chocolat', 'oeuf', 'farine', 'sucre', 'beurre'],\n",
    "               'Gâteau au yaourt': ['yaourt', 'oeuf', 'farine', 'sucre'],\n",
    "               'Crèpes': ['oeuf', 'farine', 'lait', 'bière'],\n",
    "               'Quatre-quarts': ['oeuf', 'farine', 'beurre', 'sucre'],\n",
    "               'Kouign-amann': ['farine', 'beurre', 'sucre']}\n"
   ]
  },
  {
   "cell_type": "markdown",
   "metadata": {},
   "source": [
    "2. Définir une fonction NbIngredients(D, nom) qui a partir d’un dictionnaire de recettes D, défini comme décrit ci-dessus,\n",
    "renvoie le nombre d’ingrédients de la recette nommée nom.\n"
   ]
  },
  {
   "cell_type": "code",
   "execution_count": 18,
   "metadata": {},
   "outputs": [
    {
     "name": "stdout",
     "output_type": "stream",
     "text": [
      "5\n"
     ]
    }
   ],
   "source": [
    "mesrecettes = {'Gâteau au chocolat': ['chocolat', 'oeuf', 'farine', 'sucre', 'beurre'],\n",
    "               'Gâteau au yaourt': ['yaourt', 'oeuf', 'farine', 'sucre'],\n",
    "               'Crèpes': ['oeuf', 'farine', 'lait', 'bière'],\n",
    "               'Quatre-quarts': ['oeuf', 'farine', 'beurre', 'sucre'],\n",
    "               'Kouign-amann': ['farine', 'beurre', 'sucre']}\n",
    "\n",
    "\n",
    "def NbIngredients(D, nom):\n",
    "    return len(D[nom])\n",
    "\n",
    "\n",
    "print(NbIngredients(mesrecettes, 'Gâteau au chocolat'))\n"
   ]
  },
  {
   "cell_type": "markdown",
   "metadata": {},
   "source": [
    "3. Définir une fonction RechercheRecettes(D,I) renvoyant l’ensemble des recettes du dictionnaire D qui utilisent l’ingrédient\n",
    "I.\n"
   ]
  },
  {
   "cell_type": "code",
   "execution_count": 20,
   "metadata": {},
   "outputs": [
    {
     "name": "stdout",
     "output_type": "stream",
     "text": [
      "{'Quatre-quarts', 'Gâteau au yaourt', 'Gâteau au chocolat', 'Crèpes'}\n"
     ]
    }
   ],
   "source": [
    "def RechercheRecettes(D, I):\n",
    "    return {i for i in D if I in D[i]}\n",
    "\n",
    "\n",
    "print(RechercheRecettes(mesrecettes, 'oeuf'))\n"
   ]
  },
  {
   "cell_type": "markdown",
   "metadata": {},
   "source": [
    "4. Définir une fonction RechercheRecettes2(D,I1,I2) renvoyant l’ensemble des recettes du dictionnaire D qui utilisent les\n",
    "ingrédients I1 et I2."
   ]
  },
  {
   "cell_type": "code",
   "execution_count": 21,
   "metadata": {},
   "outputs": [
    {
     "name": "stdout",
     "output_type": "stream",
     "text": [
      "{'Quatre-quarts', 'Gâteau au yaourt', 'Gâteau au chocolat', 'Crèpes'}\n"
     ]
    }
   ],
   "source": [
    "def RechercheRecettes2(D, I1, I2):\n",
    "    return {i for i in D if I1 in D[i] and I2 in D[i]}\n",
    "\n",
    "\n",
    "print(RechercheRecettes2(mesrecettes, 'oeuf', 'farine'))\n"
   ]
  },
  {
   "cell_type": "markdown",
   "metadata": {},
   "source": [
    "5. Définir une fonction RechercheRecettesMulti(D,LI) renvoyant l’ensemble des recettes du dictionnaire D qui utilisent\n",
    "tous les ingrédients de la liste LI.\n"
   ]
  },
  {
   "cell_type": "code",
   "execution_count": 22,
   "metadata": {},
   "outputs": [
    {
     "name": "stdout",
     "output_type": "stream",
     "text": [
      "{'Quatre-quarts', 'Gâteau au yaourt', 'Gâteau au chocolat', 'Crèpes'}\n"
     ]
    }
   ],
   "source": [
    "def RechercheRecettesMulti(D, LI):\n",
    "    return {i for i in D if all([j in D[i] for j in LI])}\n",
    "\n",
    "\n",
    "print(RechercheRecettesMulti(mesrecettes, ['oeuf', 'farine']))\n"
   ]
  },
  {
   "cell_type": "markdown",
   "metadata": {},
   "source": [
    "6. Définir une fonction RechercheRecettesSansMulti(D,LI) renvoyant l’ensemble des recettes du dictionnaire D qui\n",
    "n’utilisent aucun des ingrédients de la liste LI."
   ]
  },
  {
   "cell_type": "code",
   "execution_count": 25,
   "metadata": {},
   "outputs": [
    {
     "name": "stdout",
     "output_type": "stream",
     "text": [
      "{'Crèpes'}\n"
     ]
    }
   ],
   "source": [
    "def RechercheRecettesSansMulti(D, LI):\n",
    "    return {i for i in D if all([j not in D[i] for j in LI])}\n",
    "\n",
    "\n",
    "print(RechercheRecettesSansMulti(mesrecettes, ['chocolat', 'sucre']))\n"
   ]
  },
  {
   "cell_type": "markdown",
   "metadata": {},
   "source": [
    "## Exercice 4"
   ]
  },
  {
   "cell_type": "markdown",
   "metadata": {},
   "source": [
    "Un pokémon est modélisé par : \n",
    "-son nom (chaine de caractères), `\n",
    "-ses points de vie ou HP (nombre entier),\n",
    "-sa puissance d’attaque (nombre entier),\n",
    "-sa qualité de défense (nombre entier), ´\n",
    "-sa vitesse (nombre entier),\n",
    "-son ou ses types (liste de chaines de caractères).\n",
    "\n",
    "On représente un pokémon par un dictionnaire. Par exemple :"
   ]
  },
  {
   "cell_type": "code",
   "execution_count": 3,
   "metadata": {},
   "outputs": [],
   "source": [
    "bulbizarre = {'Nom': 'Bulbizarre', 'HP': 45, 'Attaque': 49,\n",
    "              'Défense': 49, 'Vitesse': 45, 'Type': ['Plante', 'Poison']}\n"
   ]
  },
  {
   "cell_type": "markdown",
   "metadata": {},
   "source": [
    "correspond au pokémon nommé Bulbizarre qui a 45 points de vie, une attaque et une défense de 49, une vitesse de 45 et qui a deux types : Plante et Poison."
   ]
  },
  {
   "cell_type": "markdown",
   "metadata": {},
   "source": [
    "1. On donne le pokémon suivant :"
   ]
  },
  {
   "cell_type": "code",
   "execution_count": 4,
   "metadata": {},
   "outputs": [],
   "source": [
    "mystere = {'Nom': 'Salamèche', 'HP': 39, 'Défense': 43, 'Vitesse':\n",
    "           455, 'Type': ['Feu']}\n"
   ]
  },
  {
   "cell_type": "markdown",
   "metadata": {},
   "source": [
    "(a) Quel est son nom ? Préciser l’instruction permettant de le récupérer."
   ]
  },
  {
   "cell_type": "code",
   "execution_count": 28,
   "metadata": {},
   "outputs": [
    {
     "name": "stdout",
     "output_type": "stream",
     "text": [
      "Salamèche\n"
     ]
    }
   ],
   "source": [
    "mystere = {'Nom': 'Salamèche', 'HP': 39, 'Défense': 43, 'Vitesse':\n",
    "           455, 'Type': ['Feu']}\n",
    "\n",
    "\n",
    "print(mystere['Nom'])\n"
   ]
  },
  {
   "cell_type": "markdown",
   "metadata": {},
   "source": [
    "(b) Combien a-t-il de types ? Quelle(s) instruction(s) permet de le(s) recupérer ?"
   ]
  },
  {
   "cell_type": "code",
   "execution_count": 30,
   "metadata": {},
   "outputs": [
    {
     "name": "stdout",
     "output_type": "stream",
     "text": [
      "1\n"
     ]
    }
   ],
   "source": [
    "print(len(mystere['Type']))\n"
   ]
  },
  {
   "cell_type": "markdown",
   "metadata": {},
   "source": [
    "(c) La vitesse donnée est inexacte, elle est en fait de 65. Quelle instruction permet de corriger cette erreur ?"
   ]
  },
  {
   "cell_type": "code",
   "execution_count": 33,
   "metadata": {},
   "outputs": [
    {
     "name": "stdout",
     "output_type": "stream",
     "text": [
      "65\n"
     ]
    }
   ],
   "source": [
    "mystere['Vitesse'] = 65\n",
    "print(mystere['Vitesse'])\n"
   ]
  },
  {
   "cell_type": "markdown",
   "metadata": {},
   "source": [
    "(d) Il manque la valeur de la puissance d’attaque de ce pokémon. Elle est de 52. Quelle instruction faut-il saisir pour ajouter cette information ?\n"
   ]
  },
  {
   "cell_type": "code",
   "execution_count": 35,
   "metadata": {},
   "outputs": [
    {
     "name": "stdout",
     "output_type": "stream",
     "text": [
      "52\n"
     ]
    }
   ],
   "source": [
    "mystere['Attaque'] = 52\n",
    "print(mystere['Attaque'])\n"
   ]
  },
  {
   "cell_type": "markdown",
   "metadata": {},
   "source": [
    "2. Représenter le pokémon **fragilady** qui a une défense de 75, une attaque de 60, une vitesse de 90, 70 points de vie, de type Plante."
   ]
  },
  {
   "cell_type": "code",
   "execution_count": null,
   "metadata": {},
   "outputs": [],
   "source": [
    "fragilady = {'Nom': 'Fragilady', 'HP': 70, 'Attaque': 60,\n",
    "             'Défense': 75, 'Vitesse': 90, 'Type': ['Plante']}\n"
   ]
  },
  {
   "cell_type": "markdown",
   "metadata": {},
   "source": [
    "3. Dans les questions qui suivent, on supposera que le pokémon passé en paramètre existe."
   ]
  },
  {
   "cell_type": "markdown",
   "metadata": {},
   "source": [
    "(a) Ecrire une fonction qui prend un pokémon en paramètre et renvoie sa valeur d’attaque."
   ]
  },
  {
   "cell_type": "code",
   "execution_count": null,
   "metadata": {},
   "outputs": [],
   "source": [
    "def attaque(p):\n",
    "    return p['Attaque']\n",
    "\n",
    "\n",
    "print(attaque(fragilady))\n"
   ]
  },
  {
   "cell_type": "markdown",
   "metadata": {},
   "source": [
    "(b) Ecrire une fonction qui prend un pokémon en paramètres et renvoie son nombre de types."
   ]
  },
  {
   "cell_type": "code",
   "execution_count": null,
   "metadata": {},
   "outputs": [],
   "source": [
    "def nbtype(p):\n",
    "    return len(p['Type'])\n",
    "\n",
    "\n",
    "print(nbtype(fragilady))\n"
   ]
  },
  {
   "cell_type": "markdown",
   "metadata": {},
   "source": [
    "(c) Ecrire une fonction qui prend un pokémon et une valeur entière en paramètres et renvoie True si le pokémon a une valeur de défense supérieure à la valeur passée en paramètre, False sinon."
   ]
  },
  {
   "cell_type": "code",
   "execution_count": 39,
   "metadata": {},
   "outputs": [
    {
     "name": "stdout",
     "output_type": "stream",
     "text": [
      "True\n"
     ]
    }
   ],
   "source": [
    "fragilady = {'Nom': 'Fragilady', 'HP': 70, 'Attaque': 60,\n",
    "             'Défense': 75, 'Vitesse': 90, 'Type': ['Plante']}\n",
    "\n",
    "\n",
    "def defsup(p, v):\n",
    "    return p['Défense'] > v\n",
    "\n",
    "\n",
    "print(defsup(fragilady, 70))\n"
   ]
  },
  {
   "cell_type": "markdown",
   "metadata": {},
   "source": [
    "4. On veut programmer un combat entre deux pokémons. Chaque pokémon attaquera puis défendra à tour de rôle. On verra plus tard lequel attaquera en premier.\n",
    "Nos deux combattants seront Carapuce et Evoli :"
   ]
  },
  {
   "cell_type": "code",
   "execution_count": 5,
   "metadata": {},
   "outputs": [],
   "source": [
    "pokemon1 = {'Nom': 'Carapuce', 'HP': 44, 'Attaque': 48,\n",
    "            'Défense': 65, 'Vitesse': 43, 'Type': ['Eau']}\n",
    "pokemon2 = {'Nom': 'Evoli', 'HP': 55, 'Attaque': 55,\n",
    "            'Défense': 50, 'Vitesse': 55, 'Type': ['Normal']}\n"
   ]
  },
  {
   "cell_type": "markdown",
   "metadata": {},
   "source": [
    "(a) On va commencer par définir une première fonction **CalculDegats(attaquant,defenseur)**.\n",
    "Auparavant, on importe la fonction **random** du module **random** permettant de produire un float au hasard compris entre 0 et 1, cela afin d'introduire un peu d'aléatoire dans le combat."
   ]
  },
  {
   "cell_type": "code",
   "execution_count": 44,
   "metadata": {},
   "outputs": [
    {
     "name": "stdout",
     "output_type": "stream",
     "text": [
      "4\n"
     ]
    }
   ],
   "source": [
    "from random import random\n",
    "\n",
    "pokemon1 = {'Nom': 'Carapuce', 'HP': 44, 'Attaque': 48,\n",
    "            'Défense': 65, 'Vitesse': 43, 'Type': ['Eau']}\n",
    "pokemon2 = {'Nom': 'Evoli', 'HP': 55, 'Attaque': 55,\n",
    "            'Défense': 50, 'Vitesse': 55, 'Type': ['Normal']}\n"
   ]
  },
  {
   "cell_type": "markdown",
   "metadata": {},
   "source": [
    "La fonction CalculDegats(attaquant, defenseur) va calculer les dégats en termes de points de vie 'HP' que va infliger le pokémon attaquant sur le défenseur. On commence par calculer la valeur d'attaque **attaque** de l'attaquant en multipliant les points d'attaque de l'attaquant par un nombre aléatoire entre 0 et 1. On calcule de même la valeur de défense **defense** du défenseur en multipliant les points de défense du défenseur par un nombre aléatoire entre 0 et 1. Si **defense** est inférieur à **attaque**, la fonction CalculDegats retourne la différence **attaque - defense** (le défenseur perdra autant de points de vie) sinon la fonction retourne 0 (le défenseur ne perdra aucun point de vie)\n",
    "Définir la fonction CalculDegats(attaquant, defenseur) :"
   ]
  },
  {
   "cell_type": "code",
   "execution_count": 47,
   "metadata": {},
   "outputs": [
    {
     "name": "stdout",
     "output_type": "stream",
     "text": [
      "0\n"
     ]
    }
   ],
   "source": [
    "def CalculDegats(attaquant, defenseur):\n",
    "    attaque = attaquant['Attaque']*random()\n",
    "    defense = defenseur['Défense']*random()\n",
    "    if defense < attaque:\n",
    "        return int(attaque-defense)\n",
    "    else:\n",
    "        return 0\n",
    "\n",
    "\n",
    "print(CalculDegats(pokemon1, pokemon2))\n"
   ]
  },
  {
   "cell_type": "markdown",
   "metadata": {},
   "source": [
    "(b) On va maintenant définir une fonction Combat(poke1, poke2) qui va réaliser un combat entre deux pokémons poke1 et poke2.\n",
    "Dans cette fonction, il faudra d'abord décider lequel va attaquer en premier. Par la suite, les deux pokémons attaqueront et dédendront à tour de rôle.\n",
    "Par exemple, si poke1 attaque en premier, on aura la succession suivante : <br>\n",
    "poke1 attaque et poke2 défend (assaut 1) <br>\n",
    "poke2 attaque et poke1 défend (assaut 2) <br>\n",
    "poke1 attaque et poke2 défend (assaut 3) <br>\n",
    "etc.<br>\n",
    "A chaque assaut, on calcule les dégats que l'attaquant inflige au défenseur : ses dégats seront soustraits aux points de vie du défenseur.<br>\n",
    "Le combat se poursuit jusqu'à ce qu'un des pokémons ait moins de 10 points de vie.<br>\n",
    "L'autre est déclaré vainqueur.<br>\n",
    "Pour déterminer lequel attaquera en premier, on se base sur la vitesse de chaque pokémon, sachant que le pokémon présumé le plus lent a une **probabilité** d'attaquer en premier de 20%.<br>\n",
    "A vous de définir la fonction Combat(poke1, poke2). A chaque assaut, il faudra afficher les points de vie restant de chaque pokémon, et afficher le nom du vainqueur à la fin du combat.<br>"
   ]
  },
  {
   "cell_type": "code",
   "execution_count": 61,
   "metadata": {},
   "outputs": [
    {
     "name": "stdout",
     "output_type": "stream",
     "text": [
      "Carapuce a gagné\n"
     ]
    }
   ],
   "source": [
    "def Combat(poke1, poke2):\n",
    "    if poke1['Vitesse'] < poke2['Vitesse']:\n",
    "        if random() < 0.2:\n",
    "            poke1, poke2 = poke2, poke1\n",
    "    while poke1['HP'] > 10 and poke2['HP'] > 10:\n",
    "        poke2['HP'] -= CalculDegats(poke1, poke2)\n",
    "        poke1['HP'] -= CalculDegats(poke2, poke1)\n",
    "    if poke1['HP'] > poke2['HP']:\n",
    "        print(poke1['Nom'], 'a gagné')\n",
    "    else:\n",
    "        print(poke2['Nom'], 'a gagné')\n",
    "\n",
    "\n",
    "Combat(pokemon1, pokemon2)\n"
   ]
  }
 ],
 "metadata": {
  "kernelspec": {
   "display_name": "Python 3.10.4 64-bit",
   "language": "python",
   "name": "python3"
  },
  "language_info": {
   "codemirror_mode": {
    "name": "ipython",
    "version": 3
   },
   "file_extension": ".py",
   "mimetype": "text/x-python",
   "name": "python",
   "nbconvert_exporter": "python",
   "pygments_lexer": "ipython3",
   "version": "3.10.4"
  },
  "vscode": {
   "interpreter": {
    "hash": "4f946df053fbf2b937619d3c5458e7af74262f9a954d8797ba0b27400bcafe06"
   }
  }
 },
 "nbformat": 4,
 "nbformat_minor": 2
}
