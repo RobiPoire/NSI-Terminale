{
 "cells": [
  {
   "cell_type": "markdown",
   "metadata": {},
   "source": [
    "# Rappel de première : les fonctions"
   ]
  },
  {
   "cell_type": "markdown",
   "metadata": {},
   "source": [
    "## Analogie avec les mathématiques"
   ]
  },
  {
   "cell_type": "markdown",
   "metadata": {},
   "source": [
    "Pour créer une fonction sous Python, au sens mathématique ou pas, on utilise le mot clé `def` pour définir notre fonction.\n",
    "\n",
    "Regardez l'exemple qui suit."
   ]
  },
  {
   "cell_type": "code",
   "execution_count": null,
   "metadata": {},
   "outputs": [],
   "source": [
    "#tester ce code avec Shift+Entrée\n",
    "def carre(x):\n",
    "    carre=x*x\n",
    "    return carre\n",
    "\n",
    "print(carre(2))"
   ]
  },
  {
   "cell_type": "markdown",
   "metadata": {},
   "source": [
    "Arrêtons-nous un moment sur ce code : \n",
    "- On reconnaît le mot clé `def` dont on vient de parler. On le fait suivre du nom de la fonction - ici **carre** - suivi par les arguments que cette fonction prend en entrée entre parenthèse - ici un seul argument est passé : `x`.\n",
    "- Pour savoir ou commence et ou finit la fonction, python utilise la notion de bloc, le bloc\n",
    "  - commence par `:`\n",
    "  - est décalé par rapport au début de la marge (habituellement 4 espaces)\n",
    "  \n",
    "  Ainsi notre fonction commence à la ligne `carre=`et se finit après le `return`.\n",
    "  \n",
    "  On retrouve encore les fameux blocs qui commencent par `:` et qui sont **décalés par rapport à la marge** que nous avons déjà rencontré dans les tests, les boucles for, while etc... \n",
    "  \n",
    "- La ligne `carre=x*x` est assez explicite...\n",
    "- La ligne `return carre` est importante : c'est elle qui indique ce que doit renvoyer la fonction."
   ]
  },
  {
   "cell_type": "markdown",
   "metadata": {},
   "source": [
    "Il est très facile, une fois une fonction définie d'afficher des valeurs. On tape simplement sur la ligne de saisie ce que l'on écrirait sur notre cahier de maths :"
   ]
  },
  {
   "cell_type": "code",
   "execution_count": null,
   "metadata": {},
   "outputs": [],
   "source": [
    "#tester ce code avec Shift+Entrée\n",
    "carre(10)"
   ]
  },
  {
   "cell_type": "markdown",
   "metadata": {},
   "source": [
    "La fonction *carre* est ici un moyen rapide d'exécuter le calcul `y=x*x` sans avoir à retaper la formule"
   ]
  },
  {
   "cell_type": "markdown",
   "metadata": {},
   "source": [
    "## Généralisation de la notion de fonction"
   ]
  },
  {
   "cell_type": "markdown",
   "metadata": {},
   "source": [
    "Une fonction au sens Python généralise l'exemple que nous avons vu ci-dessus au sens ou une fonction en programmation est un morceau de code auquel on peut faire appel par un nom.\n",
    "- Une fonction peut prendre un ou plusieurs arguments en entrée (paramètres passés à la fonction)\n",
    "- Une fonction, contrairement à ce qu'on voit en maths, ne retourne pas forcément de valeur. Elle effectue une tâche précise.\n",
    "- Une fonction permet de rendre le code plus facile à lire en séparant un problème complexe en plusieurs taches plus simples pouvant être traitées séparément."
   ]
  },
  {
   "cell_type": "markdown",
   "metadata": {},
   "source": [
    "Observez l'exemple ci-dessous et répondez aux questions posées ensuite :"
   ]
  },
  {
   "cell_type": "code",
   "execution_count": null,
   "metadata": {},
   "outputs": [],
   "source": [
    "def table(n,limite):\n",
    "    print(\"Table de multiplication de \",n)\n",
    "    for i in range(1,limite+1):\n",
    "        print(i,\"x\",n,\"=\",i*n)"
   ]
  },
  {
   "cell_type": "markdown",
   "metadata": {},
   "source": [
    "Comment s'appelle la fonction ?\n",
    "\n",
    "Votre réponse ... **(vous pouvez éditer ce texte en double cliquant, puis quitter l'édition avec Shift+Entrée)**\n",
    "\n",
    "Quel(s) arguments prend-elle ?\n",
    "\n",
    "...\n",
    "\n",
    "\n",
    "Que retourne t-elle ?\n",
    "\n",
    "...\n",
    "\n",
    "Que fait-elle ?\n",
    "\n",
    "...\n",
    "\n",
    "Appelez cette fonction pour sortir la table de 7 pour des facteurs allant de 1 à 9."
   ]
  },
  {
   "cell_type": "code",
   "execution_count": null,
   "metadata": {},
   "outputs": [],
   "source": [
    "#taper ici l'appel à la fonction table()\n"
   ]
  },
  {
   "cell_type": "markdown",
   "metadata": {},
   "source": [
    "## A vous de jouer"
   ]
  },
  {
   "cell_type": "markdown",
   "metadata": {},
   "source": [
    "En mathématiques, on utilise la fonction ***factorielle*** d'un nombre pour calculer le produit de tous les entiers non nuls entre 1 et ce nombre. Par exemple :\n",
    "\n",
    "Factorielle 5 (que l'on note 5!) se calcule par la formule : $5!=1\\times 2\\times 3\\times 4\\times 5=120$\n",
    "\n",
    "Ecrire une fonction ***factorielle*** prenant en argument un entier et retournant la factorielle de ce nombre."
   ]
  },
  {
   "cell_type": "code",
   "execution_count": null,
   "metadata": {},
   "outputs": [],
   "source": []
  },
  {
   "cell_type": "markdown",
   "metadata": {},
   "source": [
    "Vous avez vu (ou pas !) en première l'opérateur ***k parmi n*** noté  ${n} \\choose {k}$ permettant de comptabiliser le nombre de chemins menant à **k** succès dans une répétition de **n** expériences Succès/Echec.\n",
    "\n",
    "On peut montrer que ce nombre de chemins peut se calculer facilement au moyen de la fonction factorielle vu plus haut :\n",
    "${n \\choose k }=\\dfrac{n!}{k!(n-k)!}$\n",
    "\n",
    "Ecrire une fonction ***coefbinom*** prenant en argument deux entiers **k** et **n** et retournant la valeur de $n \\choose k$.\n",
    "\n",
    "On pourra faire appel à la fonction ***factorielle*** vue ci-dessus."
   ]
  },
  {
   "cell_type": "code",
   "execution_count": null,
   "metadata": {},
   "outputs": [],
   "source": []
  },
  {
   "cell_type": "markdown",
   "metadata": {},
   "source": [
    "Vous voyez que des fonctions peuvent s'appeler entre elles. Le code est ainsi plus concis et plus limpide. On évite les répétitions et on limite les erreurs.\n",
    "\n",
    "Il est donc **fortement** conseillé de les utiliser le plus possible dans vos programmes et votre projet.\n",
    "\n",
    "D'une manière générale, quand vous allez chercher à écrire un programme pour réaliser une tache, **avant d'écrire la moindre ligne de code**, vous allez réfléchir au découpage de votre tache en sous taches qui seront éxécutées chacune par une ou plusieurs fonctions. Une fois la spécification précise de ces fonctions réalisées, alors vous pourrez commencer à écrire ces fonctions, puis votre programme."
   ]
  },
  {
   "cell_type": "markdown",
   "metadata": {},
   "source": [
    "## Conclusion"
   ]
  },
  {
   "cell_type": "markdown",
   "metadata": {},
   "source": [
    "Les fonctions jouent un rôle fondamental en informatique. Aucun programme n'est écrit d'un bloc. Imaginez un programme comme OpenOffice qui contient plusieurs centaines de milliers de lignes de codes écrites bout à bout sans structure... \n",
    "\n",
    "Vous devrez prendre l'habitude de concevoir vos propres fonctions pour répondre à un problème donné.\n",
    "\n",
    "Plus tard, nous allons voir la notion d'objet qui est apparu au début des années 80 et qui vient encore enrichir ce concept de fonction. Aujourd'hui tous les langages modernes sont orientés Objet. La programmation par objet a permis l'émergence de systèmes d'exploitation offrant des interfaces graphiques évoluées (Linux, MacOs...). \n",
    "\n",
    "Vous allez (ou avez déja) vous-même manipuler des objets quand vous allez découvrir la programmation d'interfaces graphiques pour vos projets."
   ]
  },
  {
   "cell_type": "markdown",
   "metadata": {},
   "source": [
    "## Mise en oeuvre : Le secret de la Pyramide (sans Blake et Mortimer)\n",
    "\n",
    "Vous partez à la recherche d'un trésor caché dans une pyramide. Vous avez réussi à obtenir des informations sur les épreuves qui vous attendent à l'intérieur de celle-ci:\n",
    "\n",
    "- dans le hall d'entrée, une statue de sphinx va vous demander un code secret sous la forme suivante : \"Je n'aime que les nombres p qui sont des nombres premiers, tels que p+2 soit aussi un nombre  premier... Et mon nombre préféré de la journée est  *un nombre qui change tous les jours*. Le code secret est le plus petit nombre supérieur ou égal à mon nombre préféré parmi les nombres que j'aime.\"\n",
    "\n",
    "- une fois entré, vous parcourez un labyrinthe dont vous vous êtes déjà procuré le plan, puis vous arrivez face à une statue d'Osiris qui garde la salle du trésor. Il va vous demander un code secret sous la forme suivante: \"Je n'aime que les nombres n tels que n+1 soit une puissance de 2.... et il faut également que le reste de la division de n par 5 soit égal à 3... Mon nombre préféré de la journée est *un nombre qui change tous les jours*. Le code secret est le plus petit nombre supérieur ou égal à mon nombre préféré, parmi les nombres que j'aime.\"\n",
    "\n",
    "Pour chacune des deux énigmes, vous n'aurez que 5 secondes pour répondre, sinon la sortie sera verrouillée et vous resterez enfermés dans la pyramide à tout jamais. Pour éviter cela à tout prix, vous décidez d'écrire un programme que vous emporterez sur votre smartphone et qui vous aidera à résoudre les énigmes. Pour cela:\n",
    "\n",
    "1. Ecrire une fonction est_premier qui prend en argument un entier supérieur ou égal à 2 et qui renvoie True si l'entier en premier, False sinon.\n",
    "2. Ecrire une fonction sphinx_aime qui prend en argument un entier supérieur ou égal à 2 et qui renvoie True si l'entier est un nombre que le sphinx aime, False sinon.\n",
    "3. Ecrire une fonction code_hall qui prend en argument le nombre préféré du sphinx ce jour-là (un entier strictement positif) et qui renvoie le code secret du hall.\n",
    "4. Ecrire une fonction est_puissance2 qui prend en argument un entier positif et qui renvoie True s'il s'agit d'une puissance de 2, False sinon.\n",
    "On vous demande ici de ne pas utiliser le logarithme, et de fournir une solution efficace (par exemple, sur un immense entier impair, votre fonction doit immédiatement répondre False)\n",
    "5. Ecrire une fonction osiris_aime qui prend en argument un entier positif et qui renvoie True si Osiris aime cet entier, False sinon.\n",
    "6. Ecrire une fonction code_tresor qui prend en argument le nombre préféré d'Osiris ce jour-là (un entier strictement positif) et qui renvoie le code secret permettant d'accéder au trésor.\n",
    "\n",
    "\n",
    "Par exemple, si le nombre préféré du sphinx est 15, alors le code secret du hall ce jour-là est 17 (car 17 et 19 sont premiers). Si le nombre préféré d'Osiris ce jour-là est 20, alors le code secret de la salle du trésor est 63 (car 63+1 est une puissance de 2, et 63= 12 x 5+3)."
   ]
  },
  {
   "cell_type": "code",
   "execution_count": null,
   "metadata": {},
   "outputs": [],
   "source": []
  }
 ],
 "metadata": {
  "kernelspec": {
   "display_name": "Python 3",
   "language": "python",
   "name": "python3"
  },
  "language_info": {
   "codemirror_mode": {
    "name": "ipython",
    "version": 3
   },
   "file_extension": ".py",
   "mimetype": "text/x-python",
   "name": "python",
   "nbconvert_exporter": "python",
   "pygments_lexer": "ipython3",
   "version": "3.7.6"
  }
 },
 "nbformat": 4,
 "nbformat_minor": 1
}
