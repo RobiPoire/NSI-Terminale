{
 "cells": [
  {
   "cell_type": "markdown",
   "metadata": {},
   "source": [
    "# Utilisation des fonctions"
   ]
  },
  {
   "cell_type": "markdown",
   "metadata": {},
   "source": [
    "## Présentation  : Un générateur d’exercices de calcul mental"
   ]
  },
  {
   "cell_type": "markdown",
   "metadata": {},
   "source": [
    "Le programme choisit aléatoirement une opération et deux nombres, et vérifie la réponse de l’utilisateur. \n",
    "Améliorations :\n",
    "- On peut ensuite poser une série de questions et compter le score total. \n",
    "- On pourra enfin prévoir plusieurs niveaux de difficulté selon les opérations proposées ou la taille des nombres à calculer, et laisser l’utilisateur choisir son niveau de difficulté.\n",
    "- Attribuer des scores variables aux réponses.\n"
   ]
  },
  {
   "cell_type": "markdown",
   "metadata": {},
   "source": [
    "## Travail demandé :"
   ]
  },
  {
   "cell_type": "markdown",
   "metadata": {},
   "source": [
    "Fonctionnement général du programme :\n",
    "1.\tDemander le niveau de difficulté à l’utilisateur\n",
    "2.\tPoser une question aléatoire en fonction du niveau\n",
    "3.\tDemander le résultat à l’utilisateur\n",
    "4.\tVérifier le résultat et calcul du score\n",
    "5.\tRecommencer en 2 ou arrêter.\n",
    "6.\tAfficher le score obtenu"
   ]
  },
  {
   "cell_type": "markdown",
   "metadata": {},
   "source": [
    "### Le programme devant être composé de fonctions, il pourra être de cette forme :"
   ]
  },
  {
   "cell_type": "code",
   "execution_count": null,
   "metadata": {},
   "outputs": [],
   "source": [
    "def main() :\n",
    "    int niveau,resultat, reponse, valeur\n",
    "    int score = 0\n",
    "\n",
    "    niveau = choixNiveau()\n",
    "    resultat = question (niveau)\n",
    "    reponse = saisieReponse()\n",
    "    valeur = verifReponse (reponse, resultat)\n",
    "    score = calculScore (niveau,valeur,score)\n",
    "\n",
    "    printf(\"Le score est\", score)\n",
    "    return 0"
   ]
  },
  {
   "cell_type": "markdown",
   "metadata": {},
   "source": [
    "## Travail à faire"
   ]
  },
  {
   "cell_type": "markdown",
   "metadata": {},
   "source": [
    "Il ne reste qu’à écrire le contenu de chaque fonction :)\n",
    "\n",
    "\n",
    "\n",
    "Quelques précisions :\n",
    "Selon le niveau choisi, on peut augmenter le nombre d’opérations (addition, soustraction, multiplication) ainsi que la taille des nombres manipulés. Le programme ébauché est prévu pour des entiers mais vous pouvez le modifier.\n",
    "Le programme ci-dessus ne propose qu’un seul calcul, à vous d’implémenter une boucle pour le compléter.\n"
   ]
  }
 ],
 "metadata": {
  "kernelspec": {
   "display_name": "Python 3",
   "language": "python",
   "name": "python3"
  },
  "language_info": {
   "codemirror_mode": {
    "name": "ipython",
    "version": 3
   },
   "file_extension": ".py",
   "mimetype": "text/x-python",
   "name": "python",
   "nbconvert_exporter": "python",
   "pygments_lexer": "ipython3",
   "version": "3.7.3"
  }
 },
 "nbformat": 4,
 "nbformat_minor": 1
}
