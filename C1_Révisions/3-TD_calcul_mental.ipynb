{
 "cells": [
  {
   "cell_type": "markdown",
   "metadata": {},
   "source": [
    "# Utilisation des fonctions"
   ]
  },
  {
   "cell_type": "markdown",
   "metadata": {},
   "source": [
    "## Présentation  : Un générateur d’exercices de calcul mental"
   ]
  },
  {
   "cell_type": "markdown",
   "metadata": {},
   "source": [
    "Le programme choisit aléatoirement une opération et deux nombres, et vérifie la réponse de l’utilisateur. \n",
    "Améliorations :\n",
    "- On peut ensuite poser une série de questions et compter le score total. \n",
    "- On pourra enfin prévoir plusieurs niveaux de difficulté selon les opérations proposées ou la taille des nombres à calculer, et laisser l’utilisateur choisir son niveau de difficulté.\n",
    "- Attribuer des scores variables aux réponses.\n"
   ]
  },
  {
   "cell_type": "markdown",
   "metadata": {},
   "source": [
    "## Travail demandé :"
   ]
  },
  {
   "cell_type": "markdown",
   "metadata": {},
   "source": [
    "Fonctionnement général du programme :\n",
    "1.\tDemander le niveau de difficulté à l’utilisateur\n",
    "2.\tPoser une question aléatoire en fonction du niveau\n",
    "3.\tDemander le résultat à l’utilisateur\n",
    "4.\tVérifier le résultat et calcul du score\n",
    "5.\tRecommencer en 2 ou arrêter.\n",
    "6.\tAfficher le score obtenu"
   ]
  },
  {
   "cell_type": "markdown",
   "metadata": {},
   "source": [
    "### Le programme devant être composé de fonctions, il pourra être de cette forme :"
   ]
  },
  {
   "cell_type": "code",
   "execution_count": 4,
   "metadata": {},
   "outputs": [
    {
     "name": "stdout",
     "output_type": "stream",
     "text": [
      "Bonne réponse !\n",
      "Niveau invalide\n",
      "Niveau invalide\n",
      "Niveau invalide\n"
     ]
    },
    {
     "ename": "KeyboardInterrupt",
     "evalue": "Interrupted by user",
     "output_type": "error",
     "traceback": [
      "\u001b[0;31m---------------------------------------------------------------------------\u001b[0m",
      "\u001b[0;31mKeyboardInterrupt\u001b[0m                         Traceback (most recent call last)",
      "\u001b[1;32m/workspaces/NSI-Terminale/1-Revisions/3-TD_calcul_mental.ipynb Cellule 7\u001b[0m in \u001b[0;36m<cell line: 55>\u001b[0;34m()\u001b[0m\n\u001b[1;32m     <a href='vscode-notebook-cell://codespaces%2Brobipoire-nsi-terminale-pwj7qpgvr6xf9wr5/workspaces/NSI-Terminale/1-Revisions/3-TD_calcul_mental.ipynb#W6sdnNjb2RlLXJlbW90ZQ%3D%3D?line=51'>52</a>\u001b[0m     \u001b[39m# On affiche le score obtenu\u001b[39;00m\n\u001b[1;32m     <a href='vscode-notebook-cell://codespaces%2Brobipoire-nsi-terminale-pwj7qpgvr6xf9wr5/workspaces/NSI-Terminale/1-Revisions/3-TD_calcul_mental.ipynb#W6sdnNjb2RlLXJlbW90ZQ%3D%3D?line=52'>53</a>\u001b[0m     \u001b[39mprint\u001b[39m(\u001b[39m\"\u001b[39m\u001b[39mVotre score est de\u001b[39m\u001b[39m\"\u001b[39m, score)\n\u001b[0;32m---> <a href='vscode-notebook-cell://codespaces%2Brobipoire-nsi-terminale-pwj7qpgvr6xf9wr5/workspaces/NSI-Terminale/1-Revisions/3-TD_calcul_mental.ipynb#W6sdnNjb2RlLXJlbW90ZQ%3D%3D?line=54'>55</a>\u001b[0m main()\n",
      "\u001b[1;32m/workspaces/NSI-Terminale/1-Revisions/3-TD_calcul_mental.ipynb Cellule 7\u001b[0m in \u001b[0;36mmain\u001b[0;34m()\u001b[0m\n\u001b[1;32m     <a href='vscode-notebook-cell://codespaces%2Brobipoire-nsi-terminale-pwj7qpgvr6xf9wr5/workspaces/NSI-Terminale/1-Revisions/3-TD_calcul_mental.ipynb#W6sdnNjb2RlLXJlbW90ZQ%3D%3D?line=35'>36</a>\u001b[0m score \u001b[39m=\u001b[39m \u001b[39m0\u001b[39m\n\u001b[1;32m     <a href='vscode-notebook-cell://codespaces%2Brobipoire-nsi-terminale-pwj7qpgvr6xf9wr5/workspaces/NSI-Terminale/1-Revisions/3-TD_calcul_mental.ipynb#W6sdnNjb2RlLXJlbW90ZQ%3D%3D?line=36'>37</a>\u001b[0m \u001b[39mwhile\u001b[39;00m \u001b[39mTrue\u001b[39;00m:\n\u001b[1;32m     <a href='vscode-notebook-cell://codespaces%2Brobipoire-nsi-terminale-pwj7qpgvr6xf9wr5/workspaces/NSI-Terminale/1-Revisions/3-TD_calcul_mental.ipynb#W6sdnNjb2RlLXJlbW90ZQ%3D%3D?line=37'>38</a>\u001b[0m     \u001b[39m# Demande le niveau de difficulté à l'utilisateur\u001b[39;00m\n\u001b[0;32m---> <a href='vscode-notebook-cell://codespaces%2Brobipoire-nsi-terminale-pwj7qpgvr6xf9wr5/workspaces/NSI-Terminale/1-Revisions/3-TD_calcul_mental.ipynb#W6sdnNjb2RlLXJlbW90ZQ%3D%3D?line=38'>39</a>\u001b[0m     niveau \u001b[39m=\u001b[39m \u001b[39minput\u001b[39;49m(\u001b[39m\"\u001b[39;49m\u001b[39mChoisissez un niveau de difficulté (1, 2 ou 3) : \u001b[39;49m\u001b[39m\"\u001b[39;49m)\n\u001b[1;32m     <a href='vscode-notebook-cell://codespaces%2Brobipoire-nsi-terminale-pwj7qpgvr6xf9wr5/workspaces/NSI-Terminale/1-Revisions/3-TD_calcul_mental.ipynb#W6sdnNjb2RlLXJlbW90ZQ%3D%3D?line=39'>40</a>\u001b[0m     \u001b[39m# Si le niveau est 1, 2 ou 3\u001b[39;00m\n\u001b[1;32m     <a href='vscode-notebook-cell://codespaces%2Brobipoire-nsi-terminale-pwj7qpgvr6xf9wr5/workspaces/NSI-Terminale/1-Revisions/3-TD_calcul_mental.ipynb#W6sdnNjb2RlLXJlbW90ZQ%3D%3D?line=40'>41</a>\u001b[0m     \u001b[39mif\u001b[39;00m niveau \u001b[39min\u001b[39;00m [\u001b[39m\"\u001b[39m\u001b[39m1\u001b[39m\u001b[39m\"\u001b[39m, \u001b[39m\"\u001b[39m\u001b[39m2\u001b[39m\u001b[39m\"\u001b[39m, \u001b[39m\"\u001b[39m\u001b[39m3\u001b[39m\u001b[39m\"\u001b[39m]:\n\u001b[1;32m     <a href='vscode-notebook-cell://codespaces%2Brobipoire-nsi-terminale-pwj7qpgvr6xf9wr5/workspaces/NSI-Terminale/1-Revisions/3-TD_calcul_mental.ipynb#W6sdnNjb2RlLXJlbW90ZQ%3D%3D?line=41'>42</a>\u001b[0m         \u001b[39m# On pose une question\u001b[39;00m\n",
      "File \u001b[0;32m/opt/python/3.10.4/lib/python3.10/site-packages/ipykernel/kernelbase.py:1177\u001b[0m, in \u001b[0;36mKernel.raw_input\u001b[0;34m(self, prompt)\u001b[0m\n\u001b[1;32m   1173\u001b[0m \u001b[39mif\u001b[39;00m \u001b[39mnot\u001b[39;00m \u001b[39mself\u001b[39m\u001b[39m.\u001b[39m_allow_stdin:\n\u001b[1;32m   1174\u001b[0m     \u001b[39mraise\u001b[39;00m StdinNotImplementedError(\n\u001b[1;32m   1175\u001b[0m         \u001b[39m\"\u001b[39m\u001b[39mraw_input was called, but this frontend does not support input requests.\u001b[39m\u001b[39m\"\u001b[39m\n\u001b[1;32m   1176\u001b[0m     )\n\u001b[0;32m-> 1177\u001b[0m \u001b[39mreturn\u001b[39;00m \u001b[39mself\u001b[39;49m\u001b[39m.\u001b[39;49m_input_request(\n\u001b[1;32m   1178\u001b[0m     \u001b[39mstr\u001b[39;49m(prompt),\n\u001b[1;32m   1179\u001b[0m     \u001b[39mself\u001b[39;49m\u001b[39m.\u001b[39;49m_parent_ident[\u001b[39m\"\u001b[39;49m\u001b[39mshell\u001b[39;49m\u001b[39m\"\u001b[39;49m],\n\u001b[1;32m   1180\u001b[0m     \u001b[39mself\u001b[39;49m\u001b[39m.\u001b[39;49mget_parent(\u001b[39m\"\u001b[39;49m\u001b[39mshell\u001b[39;49m\u001b[39m\"\u001b[39;49m),\n\u001b[1;32m   1181\u001b[0m     password\u001b[39m=\u001b[39;49m\u001b[39mFalse\u001b[39;49;00m,\n\u001b[1;32m   1182\u001b[0m )\n",
      "File \u001b[0;32m/opt/python/3.10.4/lib/python3.10/site-packages/ipykernel/kernelbase.py:1219\u001b[0m, in \u001b[0;36mKernel._input_request\u001b[0;34m(self, prompt, ident, parent, password)\u001b[0m\n\u001b[1;32m   1216\u001b[0m             \u001b[39mbreak\u001b[39;00m\n\u001b[1;32m   1217\u001b[0m \u001b[39mexcept\u001b[39;00m \u001b[39mKeyboardInterrupt\u001b[39;00m:\n\u001b[1;32m   1218\u001b[0m     \u001b[39m# re-raise KeyboardInterrupt, to truncate traceback\u001b[39;00m\n\u001b[0;32m-> 1219\u001b[0m     \u001b[39mraise\u001b[39;00m \u001b[39mKeyboardInterrupt\u001b[39;00m(\u001b[39m\"\u001b[39m\u001b[39mInterrupted by user\u001b[39m\u001b[39m\"\u001b[39m) \u001b[39mfrom\u001b[39;00m \u001b[39mNone\u001b[39m\n\u001b[1;32m   1220\u001b[0m \u001b[39mexcept\u001b[39;00m \u001b[39mException\u001b[39;00m:\n\u001b[1;32m   1221\u001b[0m     \u001b[39mself\u001b[39m\u001b[39m.\u001b[39mlog\u001b[39m.\u001b[39mwarning(\u001b[39m\"\u001b[39m\u001b[39mInvalid Message:\u001b[39m\u001b[39m\"\u001b[39m, exc_info\u001b[39m=\u001b[39m\u001b[39mTrue\u001b[39;00m)\n",
      "\u001b[0;31mKeyboardInterrupt\u001b[0m: Interrupted by user"
     ]
    }
   ],
   "source": [
    "from random import randint\n",
    "\n",
    "\n",
    "def choixNiveau():\n",
    "    niveau = int(input(\"Choisissez le niveau de difficulté : 1, 2 ou 3 : \"))\n",
    "    return niveau\n",
    "\n",
    "\n",
    "def question(niveau):\n",
    "    valeur1 = randint(0, 10**niveau)\n",
    "    valeur2 = randint(0, 10**niveau)\n",
    "    operateurs = [\"+\", \"-\", \"*\"]\n",
    "    operateur = operateurs[randint(0, niveau-1)]\n",
    "    print(\n",
    "        f\"Quel est le résultat de l'addition suivante : {valeur1} {operateur} {valeur2} ?\")\n",
    "    return eval(f\"{valeur1} {operateur} {valeur2}\")\n",
    "\n",
    "\n",
    "def saisieReponse():\n",
    "    reponse = int(input(\"Entrez votre réponse : \"))\n",
    "    return reponse\n",
    "\n",
    "\n",
    "def verifReponse(reponse, resultat):\n",
    "    if reponse == resultat:\n",
    "        return 1\n",
    "    else:\n",
    "        return 0\n",
    "\n",
    "\n",
    "def calculScore(niveau, valeur, score):\n",
    "    score += valeur * niveau\n",
    "    return score\n",
    "\n",
    "\n",
    "def main():\n",
    "    score = 0\n",
    "    niveau = choixNiveau()\n",
    "    resultat = question(niveau)\n",
    "    reponse = saisieReponse()\n",
    "    valeur = verifReponse(reponse, resultat)\n",
    "    score = calculScore(niveau, valeur, score)\n",
    "\n",
    "    print(f\"Le score est {score}\")\n",
    "\n",
    "\n",
    "main()"
   ]
  },
  {
   "cell_type": "markdown",
   "metadata": {},
   "source": [
    "## Travail à faire"
   ]
  },
  {
   "cell_type": "markdown",
   "metadata": {},
   "source": [
    "Il ne reste qu’à écrire le contenu de chaque fonction :)\n",
    "\n",
    "\n",
    "\n",
    "Quelques précisions :\n",
    "Selon le niveau choisi, on peut augmenter le nombre d’opérations (addition, soustraction, multiplication) ainsi que la taille des nombres manipulés. Le programme ébauché est prévu pour des entiers mais vous pouvez le modifier.\n",
    "Le programme ci-dessus ne propose qu’un seul calcul, à vous d’implémenter une boucle pour le compléter.\n"
   ]
  }
 ],
 "metadata": {
  "kernelspec": {
   "display_name": "Python 3.10.4 64-bit",
   "language": "python",
   "name": "python3"
  },
  "language_info": {
   "codemirror_mode": {
    "name": "ipython",
    "version": 3
   },
   "file_extension": ".py",
   "mimetype": "text/x-python",
   "name": "python",
   "nbconvert_exporter": "python",
   "pygments_lexer": "ipython3",
   "version": "3.10.4"
  },
  "vscode": {
   "interpreter": {
    "hash": "4f946df053fbf2b937619d3c5458e7af74262f9a954d8797ba0b27400bcafe06"
   }
  }
 },
 "nbformat": 4,
 "nbformat_minor": 1
}
