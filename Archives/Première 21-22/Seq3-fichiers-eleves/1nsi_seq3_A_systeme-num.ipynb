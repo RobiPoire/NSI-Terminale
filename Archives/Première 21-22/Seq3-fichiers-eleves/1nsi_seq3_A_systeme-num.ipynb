{
 "cells": [
  {
   "attachments": {
    "modele_nsi-pm.png": {
     "image/png": "[encoded data removed]"
    }
   },
   "cell_type": "markdown",
   "metadata": {},
   "source": [
    "![modele_nsi-pm.png](attachment:modele_nsi-pm.png)\n",
    "<h2> <font color=\"purple\"> <div align=\"center\">Séquence 3: Système de numération </div></h2>"
   ]
  },
  {
   "cell_type": "markdown",
   "metadata": {},
   "source": [
    "<h1> <u> 1 Décomposer un nombre </u> </h1>"
   ]
  },
  {
   "cell_type": "markdown",
   "metadata": {},
   "source": [
    "<h2> <font color=\"red\"> Objectif: Décomposer un nombre décimal, binaire et hexadécimal</h2>"
   ]
  },
  {
   "cell_type": "markdown",
   "metadata": {},
   "source": [
    "<p><font color=\"green\" size=4> <b><u>Conseil:</b></u> Tout au long de ce travail vous allez devoir modifier un programme initialement fourni.<br>\n",
    "    Il est fortement conseillé de ne pas travailler sur ce même programme de départ mais d'en recréer un autre chaque fois qu'il est nécessaire et d'utiliser les fonctions copiers coller.<br>\n",
    "    Normalement des zones de saisie ont été prévues, si besoin vous pouvez en insérer des nouvelles.\n",
    "    </p>"
   ]
  },
  {
   "cell_type": "markdown",
   "metadata": {},
   "source": [
    "<p><font color=\"black\" size=4> <b><u>Rappel:</b></u> Pour sortir des zones de texte, appuyer simulatnément sur les touches <b>shift + entrée</b>.\n",
    "    </p>"
   ]
  },
  {
   "cell_type": "markdown",
   "metadata": {},
   "source": [
    "<h2> <u> 1-1 Nombre décimal </u> </h2>"
   ]
  },
  {
   "cell_type": "markdown",
   "metadata": {},
   "source": [
    "<font color=\"black\" size=3> On donne le programme suivant:<br>"
   ]
  },
  {
   "cell_type": "code",
   "execution_count": 5,
   "metadata": {},
   "outputs": [
    {
     "name": "stdout",
     "output_type": "stream",
     "text": [
      "[3, 2, 1]\n"
     ]
    }
   ],
   "source": [
    "# Entier décimal à décomposer\n",
    "n = 123\n",
    "# Initialiser\n",
    "r = n\n",
    "# Créer une liste vide\n",
    "chiffres = []\n",
    "# Décomposer en chiffres\n",
    "while r != 0:\n",
    "    chiffres.append(r % 10)\n",
    "    r = r // 10\n",
    "chiffres.reverse()"
   ]
  },
  {
   "cell_type": "markdown",
   "metadata": {},
   "source": [
    "<p> <font color=\"black\" size=3> Quelques explications:<br>\n",
    "    - la ligne de code <b>chiffres=[]</b> permet de créer une liste vide<br>\n",
    "    - la ligne de code <b>chiffres.append(r % 10)</b> permet de rajouter à la fin de la liste le résultat du calcul <b>r % 10</b><br>\n",
    "    - le calcul <b>r % 10</b> renvoie le reste de la division de r par 10 <br>\n",
    "    - la ligne de code <b> r = r // 10 </b> effectue une division entière de r par 10, le résultat est placé dans r<br>    \n",
    "    </p>"
   ]
  },
  {
   "cell_type": "markdown",
   "metadata": {},
   "source": [
    "<b> <font color=\"blue\" size=3> Tester le programme.</b>"
   ]
  },
  {
   "cell_type": "markdown",
   "metadata": {},
   "source": [
    "<b> <font color=\"black\" size=4> Normalement rien ne devrait s'afficher.</b>"
   ]
  },
  {
   "cell_type": "markdown",
   "metadata": {},
   "source": [
    "<b><font color=\"blue\" size=3> Compléter le programme afin d'afficher à l'écran le contenu de la liste <u>chiffres</u>.</b>"
   ]
  },
  {
   "cell_type": "markdown",
   "metadata": {},
   "source": [
    "<b> <font color=\"black\" size=4> Normalement vous devriez obtenir ceci:</b><br>"
   ]
  },
  {
   "attachments": {
    "image.png": {
     "image/png": "[encoded data removed]"
    }
   },
   "cell_type": "markdown",
   "metadata": {},
   "source": [
    "![image.png](attachment:image.png)"
   ]
  },
  {
   "cell_type": "markdown",
   "metadata": {},
   "source": [
    "<b><font color=\"blue\" size=3> Passer la ligne de code <b>chiffres.reverse()</b> en commentaire, quel est le rôle de cette instruction?<br>\n",
    "    Annuler la mise en commentaire de cette ligne.\n",
    "    </b>"
   ]
  },
  {
   "cell_type": "markdown",
   "metadata": {},
   "source": [
    "<p> <font color=\"black\" size=3> On souhaite compléter notre programme initial avec les lignes de code suivantes:<br>\n",
    "    - for i in range (len(chiffres)):<br>\n",
    "    - &nbsp;&nbsp;&nbsp; print(chiffres[i])<br><br>\n",
    "    - l'instruction <b> len(chiffres) </b> permet de connaitre le nombre d'éléments qui est contenu dans la liste<br><br>\n",
    "    <b>Mais avant:</b>\n",
    "    </p>"
   ]
  },
  {
   "cell_type": "markdown",
   "metadata": {},
   "source": [
    "<b><font color=\"blue\" size=3> Tester le programme ci-dessous, normalement vous devriez avoir une erreur au lancement.<br>\n",
    "    Passer en commentaire la ou les ligne(s) de code qui pose(nt) problème.<br>\n",
    "    Valider le programme.<br>\n",
    "    Expliquer pourquoi le contenu de la liste est affiché deux fois. Conserver uniquement l'affichage qui vous parrait le plus adapté. Passer les lignes inutiles en commentaire.\n",
    "    </b>"
   ]
  },
  {
   "cell_type": "code",
   "execution_count": 7,
   "metadata": {},
   "outputs": [
    {
     "name": "stdout",
     "output_type": "stream",
     "text": [
      "4\n",
      "A\n",
      "B\n",
      "C\n",
      "D\n",
      "A\n",
      "B\n",
      "C\n",
      "D\n"
     ]
    }
   ],
   "source": [
    "chiffres=[\"A\", \"B\", \"C\", \"D\"]\n",
    "nbreElem=len(chiffres)\n",
    "print(nbreElem)\n",
    "\n",
    "print(chiffres[0])\n",
    "print(chiffres[1])\n",
    "print(chiffres[2])\n",
    "print(chiffres[3])\n",
    "print(chiffres[4])\n",
    "\n",
    "for i in range (len(chiffres)):\n",
    "    print(chiffres[i])"
   ]
  },
  {
   "cell_type": "markdown",
   "metadata": {},
   "source": [
    "<b><font color=\"blue\" size=3> En vous aidant du programme ci-dessus, compléter le programme initial de façon à afficher chaque élément de la liste.<br>\n",
    "    Valider votre programme.\n",
    "    </b>"
   ]
  },
  {
   "cell_type": "code",
   "execution_count": null,
   "metadata": {},
   "outputs": [],
   "source": [
    "# Entier décimal à décomposer\n",
    "n = 123\n",
    "# Initialiser\n",
    "r = n\n",
    "# Créer une liste vide\n",
    "chiffres = []\n",
    "# Décomposer en chiffres\n",
    "while r != 0:\n",
    "    chiffres.append(r % 10)\n",
    "    r = r // 10\n",
    "chiffres.reverse()"
   ]
  },
  {
   "cell_type": "markdown",
   "metadata": {},
   "source": [
    "<p> <font color=\"black\" size=3> Dans l'optique de développer un programme de conversions plus complet, nous allons commencer à structurer celui-ci.<br>\n",
    "    C'est pour cela que nous allons créer une fonction dont le nom est <b>decompDec</b>.<br>\n",
    "    Cette fonction comporte un paramètre le nombre décimal à décomposer. Son nom est <b>nbreDec</b><br>\n",
    "    </p>"
   ]
  },
  {
   "cell_type": "markdown",
   "metadata": {},
   "source": [
    "<b><font color=\"blue\" size=3> Ecrire le programme puis le valider.</b>"
   ]
  },
  {
   "cell_type": "code",
   "execution_count": null,
   "metadata": {},
   "outputs": [],
   "source": [
    "# Ecrire votre programme ici, utiliser copier coller"
   ]
  },
  {
   "cell_type": "markdown",
   "metadata": {},
   "source": [
    "<p> <b><font color=\"blue\" size=3> Compléter le programme précédent afin d'obtenir l'affichage donné ci-dessous. Pour cela vous devez:<br>\n",
    "    - Créer une liste contenant les éléments de texte suivants: unité, dizaine, centaine, millier, dizaine de millier, centaine de millier.</b></p>"
   ]
  },
  {
   "attachments": {
    "image.png": {
     "image/png": "[encoded data removed]"
    }
   },
   "cell_type": "markdown",
   "metadata": {},
   "source": [
    "![image.png](attachment:image.png)"
   ]
  },
  {
   "cell_type": "markdown",
   "metadata": {},
   "source": [
    "<p> <font color=\"black\" size=3> Nous continuons à structurer notre programme de conversions, nous allons créer une fonction qui va gérer l'affichage des nombres décomposés.<br>\n",
    "    Le nom de cette fonction est <b>affichage</b>.<br>\n",
    "    Cette fonction comporte deux paramètres, à vous de les définir<br>\n",
    "    </b>.\n",
    "    </p>"
   ]
  },
  {
   "cell_type": "markdown",
   "metadata": {},
   "source": [
    "<p> <b><font color=\"blue\" size=3> Modifier le programme précédent afin d'obtenir le même affichage mais en utilisant la fonction <b>affichage</b>.</p>"
   ]
  },
  {
   "cell_type": "code",
   "execution_count": null,
   "metadata": {},
   "outputs": [],
   "source": [
    "# Ecrire votre programme ici, utiliser copier coller"
   ]
  },
  {
   "cell_type": "markdown",
   "metadata": {},
   "source": [
    "<h2> <u> 1-2 Nombre binaire </u> </h2>"
   ]
  },
  {
   "cell_type": "markdown",
   "metadata": {},
   "source": [
    "<p> <font color=\"black\" size=3> Nous améliorons notre programme de conversions par l'ajout d'une fonction qui décompose un nombre binaire (octet). <br>\n",
    "    C'est pour cela que nous allons créer une fonction dont le nom est <b>decompBin</b>.<br>\n",
    "    Cette fonction comporte un paramètre le nombre binaire à décomposer. Son nom est <b>nbreBin</b><br>\n",
    "    On aura besoin de créer une liste comportant les éléments de texte <b>b0:, b1: etc</b><br><br>\n",
    "    <b>L'affichage devra être:</b>\n",
    "    </p>"
   ]
  },
  {
   "attachments": {
    "image.png": {
     "image/png": "[encoded data removed]"
    }
   },
   "cell_type": "markdown",
   "metadata": {},
   "source": [
    "![image.png](attachment:image.png)"
   ]
  },
  {
   "cell_type": "markdown",
   "metadata": {},
   "source": [
    "<p> <b><font color=\"blue\" size=3> Compléter le programme précédent.</p>"
   ]
  },
  {
   "cell_type": "code",
   "execution_count": null,
   "metadata": {},
   "outputs": [],
   "source": []
  },
  {
   "cell_type": "markdown",
   "metadata": {},
   "source": [
    "<h2> <u> 1-3 Nombre hexadécimal </u> </h2>"
   ]
  },
  {
   "cell_type": "markdown",
   "metadata": {},
   "source": [
    "<p> <font color=\"black\" size=3> Nous améliorons notre programme de conversions par l'ajout d'une fonction qui décompose un nombre hexadécimal. <br>\n",
    "    C'est pour cela que nous allons créer une fonction dont le nom est <b>decompHexa</b>.<br>\n",
    "    Cette fonction comporte un paramètre le nombre hexadécimal à décomposer. Son nom est <b>nbreHexa</b><br>\n",
    "    On aura besoin de créer une liste comportant les éléments de texte <b>h0:, h1: etc</b><br><br>\n",
    "    <b>L'affichage devra être:</b>\n",
    "    </p>"
   ]
  },
  {
   "attachments": {
    "image.png": {
     "image/png": "[encoded data removed]"
    }
   },
   "cell_type": "markdown",
   "metadata": {},
   "source": [
    "![image.png](attachment:image.png)"
   ]
  },
  {
   "cell_type": "markdown",
   "metadata": {},
   "source": [
    "<p> <b><font color=\"blue\" size=3> Compléter le programme précédent.</p>"
   ]
  },
  {
   "cell_type": "code",
   "execution_count": null,
   "metadata": {},
   "outputs": [],
   "source": []
  },
  {
   "cell_type": "markdown",
   "metadata": {},
   "source": [
    "<h2> <u> 1-4 Pour aller plus loin </u> </h2>"
   ]
  },
  {
   "cell_type": "markdown",
   "metadata": {},
   "source": [
    "<p> <b><font color=\"blue\" size=3> Compléter le programme précédent afin que l'utilisateur saisisse les nombres à décomposer au clavier.</p>"
   ]
  },
  {
   "cell_type": "code",
   "execution_count": null,
   "metadata": {},
   "outputs": [],
   "source": []
  },
  {
   "cell_type": "markdown",
   "metadata": {},
   "source": [
    "<p> <b><font color=\"blue\" size=3> Modifier la fonction affichage afin que l'affichage fasse apparaitre le nombre qui est décomposé, sont type binaire, décimal, hexadécimal.</p>"
   ]
  },
  {
   "cell_type": "code",
   "execution_count": null,
   "metadata": {},
   "outputs": [],
   "source": []
  }
 ],
 "metadata": {
  "kernelspec": {
   "display_name": "Python 3",
   "language": "python",
   "name": "python3"
  },
  "language_info": {
   "codemirror_mode": {
    "name": "ipython",
    "version": 3
   },
   "file_extension": ".py",
   "mimetype": "text/x-python",
   "name": "python",
   "nbconvert_exporter": "python",
   "pygments_lexer": "ipython3",
   "version": "3.7.6"
  }
 },
 "nbformat": 4,
 "nbformat_minor": 4
}
