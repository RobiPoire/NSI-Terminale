{
 "cells": [
  {
   "cell_type": "markdown",
   "metadata": {},
   "source": [
    "<img src=\"img/modele_nsi.png\" style=\"width:220px;height:107px\" align=\"left\"/> <h2> <font color=\"purple\"> <div align=\"right\">Séquence 1 Affichage </div>  </h2> "
   ]
  },
  {
   "cell_type": "markdown",
   "metadata": {},
   "source": [
    "<h1> <u> 1 Afficher du texte </u> </h1>"
   ]
  },
  {
   "cell_type": "markdown",
   "metadata": {},
   "source": [
    "<h2> <font color=\"red\"> Objectif: Donner des consignes ou des indications à l'utilisateur d'un jeu</h2>"
   ]
  },
  {
   "cell_type": "markdown",
   "metadata": {},
   "source": [
    "<h2> <u> 1-1 Un premier programme </u> </h2>"
   ]
  },
  {
   "cell_type": "markdown",
   "metadata": {},
   "source": [
    "<b> <font color=\"blue\" size=3> Après avoir placé le curseur de la souris dans la zone \"Entrée [ ]\", saisir rigoureusement le programme suivant:</b>"
   ]
  },
  {
   "cell_type": "markdown",
   "metadata": {},
   "source": [
    "<b> <font color=\"green\" size=3> print(\"Les règles du jeu\")</b>"
   ]
  },
  {
   "cell_type": "code",
   "execution_count": null,
   "metadata": {
    "scrolled": true
   },
   "outputs": [],
   "source": []
  },
  {
   "cell_type": "markdown",
   "metadata": {},
   "source": [
    "<b> <font color=\"blue\" size=3> Tester et vérifier le programme en cliquant sur le bouton \"Exécuter\"\n",
    "    <img src=\"img/executer.png\" style=\"width:667px;height:149px\" align=\"middle\"/></b>"
   ]
  },
  {
   "cell_type": "markdown",
   "metadata": {},
   "source": [
    "<b> <font color=\"black\" size=3> Une fois le programme exécuté, le résultat s'affiche dans la console comme présenté ci-dessous.</b><br>\n",
    "    <b> <font color=\"blue\" size=3> Vérifier que le programme affiche bien le texte souhaité.</b>"
   ]
  },
  {
   "cell_type": "markdown",
   "metadata": {},
   "source": [
    "<img src=\"img/structure-console.png\" style=\"width:667px;height:149px\" align=\"middle\"/>"
   ]
  },
  {
   "cell_type": "markdown",
   "metadata": {},
   "source": [
    "<h2> <u> 1-2 Texte et commentaire </u> </h2>"
   ]
  },
  {
   "cell_type": "markdown",
   "metadata": {},
   "source": [
    "<b> <font color=\"blue\" size=3> Ecrire puis tester le programme qui permet d'afficher, rigoureusement, le texte suivant:</b><br>\n",
    "    *Nombres de joueurs maximal*<br>\n",
    "    *Appuyer sur le bouton -Jouer- pour commencer le jeu*<br>\n",
    "    *Appuyer sur le bouton -Quitter- pour sortir du jeu*<br>"
   ]
  },
  {
   "cell_type": "code",
   "execution_count": null,
   "metadata": {},
   "outputs": [],
   "source": []
  },
  {
   "cell_type": "markdown",
   "metadata": {},
   "source": [
    "<b> <font color=\"blue\" size=3> Tester le programme suivant:</b>"
   ]
  },
  {
   "cell_type": "code",
   "execution_count": null,
   "metadata": {},
   "outputs": [],
   "source": [
    "print (\"Je suis du texte et je doit être affiché sur la console d'exécutuion de python\")"
   ]
  },
  {
   "cell_type": "markdown",
   "metadata": {},
   "source": [
    "<b> <font color=\"blue\" size=3> Tester le programme suivant:</b>"
   ]
  },
  {
   "cell_type": "code",
   "execution_count": null,
   "metadata": {},
   "outputs": [],
   "source": [
    "print (\"Je suis du texte et je doit être affiché sur la console d'exécutuion de python\")\n",
    "# print (\"Je suis du texte et je ne serais pas affiché sur la console d'exécutuion de python\")"
   ]
  },
  {
   "cell_type": "markdown",
   "metadata": {},
   "source": [
    "## <b><font color=\"red\"> Dans le deuxième programme la deuxième ligne n'est pas exécutée car elle est considérée comme un commentaire alors que la première est exécutée. Quel est le symbole qui permet d'écrire un commentaire?</b>"
   ]
  }
 ],
 "metadata": {
  "kernelspec": {
   "display_name": "Python 3",
   "language": "python",
   "name": "python3"
  },
  "language_info": {
   "codemirror_mode": {
    "name": "ipython",
    "version": 3
   },
   "file_extension": ".py",
   "mimetype": "text/x-python",
   "name": "python",
   "nbconvert_exporter": "python",
   "pygments_lexer": "ipython3",
   "version": "3.7.6"
  }
 },
 "nbformat": 4,
 "nbformat_minor": 2
}
