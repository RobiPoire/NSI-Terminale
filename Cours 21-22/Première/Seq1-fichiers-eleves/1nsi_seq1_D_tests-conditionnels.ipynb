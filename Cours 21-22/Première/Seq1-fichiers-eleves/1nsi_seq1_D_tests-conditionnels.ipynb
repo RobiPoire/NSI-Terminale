{
 "cells": [
  {
   "cell_type": "markdown",
   "metadata": {},
   "source": [
    "<img src=\"img/modele_nsi.png\" style=\"width:220px;height:107px\" align=\"left\"/> <h2> <font color=\"purple\"> <div align=\"right\">Séquence 1 Tests conditionnels </div>  </h2>"
   ]
  },
  {
   "cell_type": "markdown",
   "metadata": {},
   "source": [
    " <h1> <u>  1- Conditionner une action à un ou plusieurs choix </u> </h1>"
   ]
  },
  {
   "cell_type": "markdown",
   "metadata": {},
   "source": [
    "<h2> <font color=\"red\"> Objectif: Comment faire prendre des décisions à un programme afin qu'il agisse en fonction de la situation </h2>"
   ]
  },
  {
   "cell_type": "markdown",
   "metadata": {},
   "source": [
    "<h2> <u> 1-1 Analyse de la structure test </u> </h2>"
   ]
  },
  {
   "cell_type": "markdown",
   "metadata": {},
   "source": [
    "<b> <font color=\"black\" size=3> Reprennons ce programme déjà étudié précédemment et traduisons le en algorithme</b>"
   ]
  },
  {
   "cell_type": "markdown",
   "metadata": {
    "collapsed": true
   },
   "source": [
    "choix=input(\"Vous devez saisir soit a soit b: \")<br>\n",
    "if choix==\"a\":<br>\n",
    "    &nbsp;&nbsp;&nbsp;&nbsp;&nbsp;&nbsp;print(\"Votre choix est a\")<br>\n",
    "elif choix==\"b\":<br>\n",
    "    &nbsp;&nbsp;&nbsp;&nbsp;&nbsp;&nbsp;print(\"Votre choix est b\")<br>\n",
    "else:<br>\n",
    "    &nbsp;&nbsp;&nbsp;&nbsp;&nbsp;&nbsp;print(\"Erreur\")<br>"
   ]
  },
  {
   "cell_type": "markdown",
   "metadata": {},
   "source": [
    "<b> <font color=\"black\" size=3> Traduisons le en algorithme</b>"
   ]
  },
  {
   "cell_type": "markdown",
   "metadata": {
    "collapsed": true
   },
   "source": [
    "saisir au clavier soit la lettre a soit la lettre b\n",
    "\n",
    "si le choix est la lettre a\n",
    "    \n",
    "    afficher le texte: Votre choix est a\n",
    "    \n",
    "sinon si le choix est la lettre b\n",
    "\n",
    "    afficher le texte: Votre choix est b\n",
    "    \n",
    "sinon:\n",
    "    afficher le texte: Erreur"
   ]
  },
  {
   "cell_type": "markdown",
   "metadata": {},
   "source": [
    "<b> <font color=\"blue\" size=3> Analyser l'algorithme correspondant au programme donné et expliquer d'une façon littérale (avec des mots, des phrases... en français) le principe de fonctionnement du programme.</b>"
   ]
  },
  {
   "cell_type": "markdown",
   "metadata": {},
   "source": [
    "<h2> <u> 1-2 Adapter la structure à un problème donné </u> </h2>"
   ]
  },
  {
   "cell_type": "markdown",
   "metadata": {},
   "source": [
    "<b> <font color=\"black\" size=3> On souhaite que le gamer puisse faire un choix entre 3 lettres C pour continuer, P pour faire une pause dans le jeu et Q pour quitter le jeu. Une mauvaise saisie affiche le message Erreur.</b>\n",
    "\n",
    "<b> <font color=\"blue\" size=3> Ecrire et valider le programme correspondant. </b>"
   ]
  },
  {
   "cell_type": "code",
   "execution_count": null,
   "metadata": {
    "collapsed": true
   },
   "outputs": [],
   "source": []
  },
  {
   "cell_type": "markdown",
   "metadata": {},
   "source": [
    "<h2> <u> 1-3 Les tests des conditions liés aux instructions if et elif </u> </h2>"
   ]
  },
  {
   "cell_type": "markdown",
   "metadata": {},
   "source": [
    "<b> <font color=\"black\" size=3> Dans les exemples précédent nous avons utilisé des variables de type \"chaîne de caractères\" \"string\" en anglais. Nous souhaitons maitenant utiliser des variables de type numérique (entier, flottant...). </b>\n",
    "\n",
    "<b> <font color=\"black\" size=3> Pour tester, comparer... des valeurs numériques nous disposons des opérateurs suivants: </b>"
   ]
  },
  {
   "cell_type": "markdown",
   "metadata": {},
   "source": [
    "<img src=\"img/operateurs.png \" style=\"width:332px;height:320px\" align=\"left\"/>"
   ]
  },
  {
   "cell_type": "markdown",
   "metadata": {},
   "source": [
    "<b> <font color=\"black\" size=3> En fonction du score obtenu par le gamer à la fin du jeu nous souhaitons afficher un message personnalisé. </b>\n",
    "\n",
    "<b> <font color=\"black\" size=3> &nbsp;&nbsp;&nbsp; - Si le score est inférieur à 100, on affiche le message:<br>\n",
    "&nbsp;&nbsp;&nbsp;C'est pas brillant mais vous ferez mieux la prochaine fois. </b>\n",
    "\n",
    "<b> <font color=\"black\" size=3> &nbsp;&nbsp;&nbsp; - Si le score est suppérieur ou égal à 100, on affiche le message:<br> &nbsp;&nbsp;&nbsp;C'est bien mais vous ferez mieux la prochaine fois\". </b>\n",
    "\n",
    "<b> <font color=\"blue\" size=3> Ecrire et valider le programme correspondant. </b>"
   ]
  },
  {
   "cell_type": "code",
   "execution_count": null,
   "metadata": {
    "collapsed": true
   },
   "outputs": [],
   "source": []
  },
  {
   "cell_type": "markdown",
   "metadata": {},
   "source": [
    " <h1> <u>  2- Répéter une action sans connaitre le nombre de répétitions </u> </h1>"
   ]
  },
  {
   "cell_type": "markdown",
   "metadata": {},
   "source": [
    "<h2> <u> 2-1 Saisir au clavier une information </u> </h2>"
   ]
  },
  {
   "cell_type": "markdown",
   "metadata": {},
   "source": [
    "<b> <font color=\"black\" size=3> On a vu lors d'un exercice précédent que l'on pouvait demander à l'utilisateur de notre programme de saisir des données ou des informations au clavier. </b>\n",
    "\n",
    "<b> <font color=\"black\" size=3> Nous avions afficher le texte <i>Erreur</i> lorsque la saisie ne correspondait pas à ce qui était attendu. </b>\n",
    "\n",
    "<b> <font color=\"black\" size=3> Ce que nous souhaitons faire maintenant c'est proposer à nouveau la boite de dialogue à l'utilisateur tant que ce dernier ne saisie pas une donnée valide. </b>"
   ]
  },
  {
   "cell_type": "markdown",
   "metadata": {},
   "source": [
    "<b> <font color=\"black\" size=3> On vous propose le programme suivant: </b>"
   ]
  },
  {
   "cell_type": "code",
   "execution_count": null,
   "metadata": {
    "collapsed": true
   },
   "outputs": [],
   "source": [
    "choix=input(\"Vous devez saisir soit a soit b: \")\n",
    "while choix!=\"a\" and choix!=\"b\":\n",
    "    print(\"Votre saisie est erronée, veuiller saisir à nouveau\")\n",
    "    choix=input(\"Vous devez saisir soit a soit b: \")\n",
    "print(\"Votre choix est: \", choix)"
   ]
  },
  {
   "cell_type": "markdown",
   "metadata": {},
   "source": [
    "<b> <font color=\"black\" size=3> Le gamer à le choix entre 3 difficultés de jeu, 1 pour le premier niveau, 2 pour le deuxième niveau... </b>\n",
    "\n",
    "<b> <font color=\"black\" size=3> Adapter le programme précédent pour que le fonctionnement soit le suivant: </b>\n",
    "\n",
    "<b> <font color=\"black\" size=3> &nbsp;&nbsp;&nbsp; - Message proposé au gamer pour la saisie au clavier: Veuillez choisir le niveau de difficulté, 1 pour le 1er niveau, 2 pour le 2ème niveau et 3 pour le 3ème niveau  </b>\n",
    "\n",
    "<b> <font color=\"black\" size=3> &nbsp;&nbsp;&nbsp; - Message affiché au gamer si le choix est correcte: Vous avez sélectionné le niveau ... </b>\n",
    "\n",
    "<b> <font color=\"black\" size=3> &nbsp;&nbsp;&nbsp; - Si la saisie est erronée on affiche: Saisie erronée et on propose à nouveau le message de saisie </b>"
   ]
  },
  {
   "cell_type": "markdown",
   "metadata": {},
   "source": [
    "<b> <font color=\"blue\" size=3> Ecrire puis tester et valider le programme correspondant. </b>"
   ]
  },
  {
   "cell_type": "code",
   "execution_count": null,
   "metadata": {
    "collapsed": true
   },
   "outputs": [],
   "source": []
  }
 ],
 "metadata": {
  "kernelspec": {
   "display_name": "Python 3",
   "language": "python",
   "name": "python3"
  },
  "language_info": {
   "codemirror_mode": {
    "name": "ipython",
    "version": 3
   },
   "file_extension": ".py",
   "mimetype": "text/x-python",
   "name": "python",
   "nbconvert_exporter": "python",
   "pygments_lexer": "ipython3",
   "version": "3.7.6"
  }
 },
 "nbformat": 4,
 "nbformat_minor": 2
}
