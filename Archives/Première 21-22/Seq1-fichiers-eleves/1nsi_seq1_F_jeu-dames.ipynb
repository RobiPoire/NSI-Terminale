{
 "cells": [
  {
   "cell_type": "markdown",
   "metadata": {},
   "source": [
    "<img src=\"img/modele_nsi.png\" style=\"width:220px;height:107px\" align=\"left\"/> <h2> <font color=\"purple\"> <div align=\"right\">Séquence 1 Jeu de dames </div>  </h2>"
   ]
  },
  {
   "cell_type": "markdown",
   "metadata": {},
   "source": [
    "<h1> <u> 1- Damier du jeu de dames </u> </h1>"
   ]
  },
  {
   "cell_type": "markdown",
   "metadata": {},
   "source": [
    "<h2> <font color=\"red\"> Objectif: Ecrire un programme qui permet de définir simplement un damier de jeu de dames avec interaction programme utilisateur.</h2>"
   ]
  },
  {
   "cell_type": "markdown",
   "metadata": {},
   "source": [
    "<h2> <u> 1-1 Un damier simple 1 ligne 10 </u> </h2>"
   ]
  },
  {
   "cell_type": "markdown",
   "metadata": {},
   "source": [
    "<b> <font color=\"black\" size=3> On met à votre disposition l'algorithme suivant:</b>"
   ]
  },
  {
   "cell_type": "markdown",
   "metadata": {},
   "source": [
    "Répéter 10 fois\n",
    "\n",
    "     Afficher un symbole \"X\""
   ]
  },
  {
   "cell_type": "markdown",
   "metadata": {},
   "source": [
    "<i> Voici un lien vers une ressource de la fonction \"print\" de Python:</i> \n",
    "https://apcpedagogie.com/la-fonction-print-en-python/#:~:text=La%20fonction%20print()%20affiche,renferment%20l'information%20%C3%A0%20afficher."
   ]
  },
  {
   "cell_type": "markdown",
   "metadata": {},
   "source": [
    "<b> <font color=\"blue\" size=3> Ecrire puis valider le programme correspondant à l'algorithme donné.</b>"
   ]
  },
  {
   "cell_type": "code",
   "execution_count": null,
   "metadata": {},
   "outputs": [],
   "source": []
  },
  {
   "cell_type": "markdown",
   "metadata": {},
   "source": [
    "<b> <font color=\"black\" size=3> On complète l'algorithme précédent:</b>"
   ]
  },
  {
   "cell_type": "markdown",
   "metadata": {},
   "source": [
    "Répéter 10 fois\n",
    "\n",
    "     Afficher un symbole \"X\" pour former une ligne de 10 \"X\""
   ]
  },
  {
   "cell_type": "markdown",
   "metadata": {},
   "source": [
    "<b> <font color=\"blue\" size=3> Ecrire puis valider le programme correspondant à l'algorithme donné.</b>"
   ]
  },
  {
   "cell_type": "code",
   "execution_count": null,
   "metadata": {},
   "outputs": [],
   "source": []
  },
  {
   "cell_type": "markdown",
   "metadata": {},
   "source": [
    "<h2> <u> 1-2 Un damier plus complet </u> </h2>"
   ]
  },
  {
   "cell_type": "markdown",
   "metadata": {},
   "source": [
    "<b> <font color=\"black\" size=3> On met à votre disposition l'algorithme suivant:</b>"
   ]
  },
  {
   "cell_type": "markdown",
   "metadata": {},
   "source": [
    "Répéter 5 fois\n",
    "\n",
    "      Répéter 10 fois\n",
    "\n",
    "           Afficher un symbole \"X\" pour former une ligne de 10 \"X\"\n",
    "     \n",
    "      Aller à la ligne"
   ]
  },
  {
   "cell_type": "markdown",
   "metadata": {},
   "source": [
    "<b> <font color=\"blue\" size=3> Ecrire puis valider le programme correspondant à l'algorithme donné.</b>"
   ]
  },
  {
   "cell_type": "code",
   "execution_count": null,
   "metadata": {},
   "outputs": [],
   "source": []
  },
  {
   "cell_type": "markdown",
   "metadata": {},
   "source": [
    "<h2> <u> 1-3 Un damier qui tient compte des cases blanches et des cases noires </u> </h2>"
   ]
  },
  {
   "cell_type": "markdown",
   "metadata": {},
   "source": [
    "<br> <b> <font color=\"black\" size=3> Une case blanche est associée à la lettre \"X\"</b></br>\n",
    "<br> <b> <font color=\"black\" size=3> Une case noire est associée à la lettre \"O\"</b></br>\n",
    "<br> <b> <font color=\"black\" size=3> On souhaite donc obtenir le motif suivant</b></br>\n",
    "</br>\n",
    "<br> <font color=\"black\" size=3> XOXO</br>\n",
    "<br> <font color=\"black\" size=3> OXOX</br>\n",
    "<br> <font color=\"black\" size=3> XOXO</br>\n",
    "<br> <font color=\"black\" size=3> OXOX</br>"
   ]
  },
  {
   "cell_type": "markdown",
   "metadata": {},
   "source": [
    "<b> <font color=\"blue\" size=3> Ecrire puis valider le programme correspondant au descriptif donné.</b> <br>\n",
    "<b> <font color=\"black\" size=3> Vous pouvez écrire et tester votre programme par étapes successives.</b>"
   ]
  },
  {
   "cell_type": "code",
   "execution_count": null,
   "metadata": {},
   "outputs": [],
   "source": []
  },
  {
   "cell_type": "markdown",
   "metadata": {},
   "source": [
    "<b> <font color=\"blue\" size=3> Modifier le programme précédent afin que votre damier corresponde à un vrai jeu de dames.</b>"
   ]
  },
  {
   "cell_type": "code",
   "execution_count": null,
   "metadata": {},
   "outputs": [],
   "source": []
  },
  {
   "cell_type": "markdown",
   "metadata": {},
   "source": [
    "<h2> <u> 1-4 Un damier construit sur mesure </u> </h2>"
   ]
  },
  {
   "cell_type": "markdown",
   "metadata": {},
   "source": [
    "<br> <b> <font color=\"blue\" size=3> Améliorer votre programme afin que toutes les données (nombre de ligne, colonnes, type de motifs utilisés...) qui constituent votre damier soit saisies au clavier par l'utilisateur.</b></br>\n"
   ]
  },
  {
   "cell_type": "code",
   "execution_count": null,
   "metadata": {},
   "outputs": [],
   "source": []
  }
 ],
 "metadata": {
  "kernelspec": {
   "display_name": "Python 3",
   "language": "python",
   "name": "python3"
  },
  "language_info": {
   "codemirror_mode": {
    "name": "ipython",
    "version": 3
   },
   "file_extension": ".py",
   "mimetype": "text/x-python",
   "name": "python",
   "nbconvert_exporter": "python",
   "pygments_lexer": "ipython3",
   "version": "3.7.6"
  }
 },
 "nbformat": 4,
 "nbformat_minor": 2
}
