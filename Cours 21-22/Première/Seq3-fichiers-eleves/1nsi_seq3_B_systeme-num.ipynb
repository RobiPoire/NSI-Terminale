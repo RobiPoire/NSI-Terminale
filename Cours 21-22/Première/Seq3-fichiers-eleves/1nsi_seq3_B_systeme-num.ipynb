{
 "cells": [
  {
   "attachments": {
    "modele_nsi-pm.png": {
     "image/png": "[encoded data removed]"
    }
   },
   "cell_type": "markdown",
   "metadata": {},
   "source": [
    "![modele_nsi-pm.png](attachment:modele_nsi-pm.png)\n",
    "<h2> <font color=\"purple\"> <div align=\"center\">Séquence 3: Système de numération </div>  </h2>"
   ]
  },
  {
   "cell_type": "markdown",
   "metadata": {},
   "source": [
    "<h1> <u> 2 Convertir un nombre </u> </h1>"
   ]
  },
  {
   "cell_type": "markdown",
   "metadata": {},
   "source": [
    "<h2> <font color=\"red\"> Objectif: Convertir un nombre d'une base dans une autre</h2>"
   ]
  },
  {
   "cell_type": "markdown",
   "metadata": {},
   "source": [
    "<p><font color=\"green\" size=4> <b><u>Conseil:</b></u> Tout au long de ce travail vous allez devoir modifier un programme initialement fourni.<br>\n",
    "    Il est fortement conseillé de ne pas travailler sur ce même programme de départ mais d'en recréer un autre chaque fois qu'il est nécessaire et d'utiliser les fonctions copiers coller.<br>\n",
    "    Normalement des zones de saisie ont été prévues, si besoin vous pouvez en insérer des nouvelles.\n",
    "    </p>"
   ]
  },
  {
   "cell_type": "markdown",
   "metadata": {},
   "source": [
    "<p><font color=\"black\" size=4> <b><u>Rappel:</b></u> Pour sortir des zones de texte, appuyer simulatnément sur les touches <b>shift + entrée</b>.\n",
    "    </p>"
   ]
  },
  {
   "cell_type": "markdown",
   "metadata": {},
   "source": [
    "<h2> <u> 2-1 Convertion un nombre binaire en un nombre décimal </u> </h2>"
   ]
  },
  {
   "cell_type": "markdown",
   "metadata": {},
   "source": [
    "<p><font color=\"black\" size=3> On donne ci-dessous le programme incomplet.<br>\n",
    "    Le nombre binaire est donné sous la forme d'une chaine de caractères.</p>"
   ]
  },
  {
   "cell_type": "code",
   "execution_count": null,
   "metadata": {},
   "outputs": [],
   "source": [
    "def bin_to_dec(chaine_bin):\n",
    "    n = 0\n",
    "    for b in chaine_bin:\n",
    "        n = 2 * n + int(b)\n",
    "    return n"
   ]
  },
  {
   "cell_type": "markdown",
   "metadata": {},
   "source": [
    "<b> <font color=\"blue\" size=3> Compléter le programme de façon à le rendre fonctionnel.<br>\n",
    "    On convertira un octet en décimal.<br>\n",
    "    On affichera le résultat sous la forme: Le nombre binaire -------- a pour valeur décimale: __________<br>\n",
    "    Analyser le programme et expliquer chaque ligne de programme. Vous pouvez placer des print (........) pour vous aidez.\n",
    "    </b>"
   ]
  },
  {
   "cell_type": "markdown",
   "metadata": {},
   "source": [
    "<h2> <u> 2-2 Convertion un nombre décimal  en un nombre binaire </u> </h2>"
   ]
  },
  {
   "cell_type": "markdown",
   "metadata": {},
   "source": [
    "<p><font color=\"black\" size=3> On donne ci-dessous le programme incomplet.<br>\n",
    "    Le nombre décimal est donné sous la forme d'une chaine de caractères.</p>"
   ]
  },
  {
   "cell_type": "code",
   "execution_count": null,
   "metadata": {},
   "outputs": [],
   "source": [
    "def dec_to_bin(chaine_dec):\n",
    "    n = int(chaine_dec)\n",
    "    nbreBin=[]\n",
    "    while n>0:\n",
    "        nbreBin.append(n % 2)\n",
    "        n = n // 2\n",
    "    nbreBin.reverse()\n",
    "    return nbreBin"
   ]
  },
  {
   "cell_type": "markdown",
   "metadata": {},
   "source": [
    "<b> <font color=\"blue\" size=3> Compléter le programme de façon à le rendre fonctionnel.<br>\n",
    "    On convertira un nombre décimal en un nombre binaire.<br>\n",
    "    On affichera le résultat sous la forme: Le nombre décimal -------- a pour valeur binaire: __________<br>\n",
    "    Analyser le programme et expliquer chaque ligne de programme. Vous pouvez placer des print (........) pour vous aidez.\n",
    "    </b>"
   ]
  },
  {
   "cell_type": "markdown",
   "metadata": {},
   "source": [
    "<h2> <u> 2-3 Convertion un nombre décimal  en un nombre hexadécimal </u> </h2>"
   ]
  },
  {
   "cell_type": "markdown",
   "metadata": {},
   "source": [
    "<b> <font color=\"blue\" size=3> En vous aidant du programme qui permet de convertir un nombre décimal en un nombre binaire, écrire le programme qui permet de convertir un nombre décimal en un nombre hexadécimal.\n",
    "    </b>"
   ]
  },
  {
   "cell_type": "code",
   "execution_count": null,
   "metadata": {},
   "outputs": [],
   "source": []
  },
  {
   "cell_type": "markdown",
   "metadata": {},
   "source": [
    "<b> <font color=\"blue\" size=3> Votre programme fonctionne-t-il correctement? Le nombre hexadécimal est-il affiché correctement?<br>\n",
    "    Normalement non!\n",
    "    </b>"
   ]
  },
  {
   "cell_type": "markdown",
   "metadata": {},
   "source": [
    "<b> <font color=\"blue\" size=3> Tester le programme suivant en donnant successivement à la variable val des valeur allant de 0 à 15.<br>\n",
    "    Modifier alors votre programme de conversion de façon à ce que le nombre hexadécimal soit affiché correctement.\n",
    "    </b>"
   ]
  },
  {
   "cell_type": "code",
   "execution_count": null,
   "metadata": {},
   "outputs": [],
   "source": [
    "s = \"0123456789ABCDEF\"\n",
    "liste=[]\n",
    "val = 0\n",
    "reste = val % 16\n",
    "print(\"La valeur du reste est:\", reste)\n",
    "liste.append(s[reste])\n",
    "print(liste)"
   ]
  },
  {
   "cell_type": "markdown",
   "metadata": {},
   "source": [
    "<h2> <u> 2-4 Convertion un nombre hexadécimal  en un nombre décimal </u> </h2>"
   ]
  },
  {
   "cell_type": "markdown",
   "metadata": {},
   "source": [
    "<font color=\"black\" size=3> On donne le programme incomplet suivant:<br>"
   ]
  },
  {
   "cell_type": "code",
   "execution_count": 2,
   "metadata": {},
   "outputs": [],
   "source": [
    "def dic_hex_to_dec():\n",
    "    s = '0123456789ABCDEF'\n",
    "    dic = {}\n",
    "    for i in range(16):\n",
    "        dic[s[i]] = i\n",
    "    return dic\n",
    "\n",
    "def hex_to_dec(chaine_hex):\n",
    "    dic = dic_hex_to_dec()\n",
    "    n = 0\n",
    "    for h in chaine_hex:\n",
    "        n = 16 * n + int(dic[h])\n",
    "    return n"
   ]
  },
  {
   "cell_type": "markdown",
   "metadata": {},
   "source": [
    "<b> <font color=\"blue\" size=3> Compléter le programme de façon à le rendre fonctionnel.<br>\n",
    "    On convertira un nombre hexadécimal en décimal.<br>\n",
    "    On affichera le résultat sous la forme: Le nombre hexadécimal -------- a pour valeur décimale: __________<br>\n",
    "    Analyser le programme et expliquer chaque ligne de programme. Vous pouvez placer des print (........) pour vous aidez.\n",
    "    </b>"
   ]
  },
  {
   "cell_type": "markdown",
   "metadata": {},
   "source": [
    "<h2> <u> 2-5 Convertion un nombre hexadécimal  en un nombre binaire et inversement </u> </h2>"
   ]
  },
  {
   "cell_type": "markdown",
   "metadata": {},
   "source": [
    "<b> <font color=\"blue\" size=3> En vous aidant de tous les programmes vus précédemment, écrire un programme permettant de convertir un nombre hexadécimal en un binaire et inversement.<br>\n",
    "    Valider votre programme en affichant les informations utiles.\n",
    "    </b>"
   ]
  },
  {
   "cell_type": "code",
   "execution_count": null,
   "metadata": {},
   "outputs": [],
   "source": [
    "# Ecrire votre programme Utiliser copier coller"
   ]
  },
  {
   "cell_type": "markdown",
   "metadata": {},
   "source": [
    "<h2> <u> 2-6 Pour aller plus loin </u> </h2>"
   ]
  },
  {
   "cell_type": "markdown",
   "metadata": {},
   "source": [
    "<b> <font color=\"blue\" size=3> Ecrire un seul programme permettant de convertir n'importe quel nombre écrit dans une des trois bases traitées en un autre.<br>\n",
    "    La saisie du nombre à convertir peut être faite au clavier ainsi que la base de départ et la base dans laquelle on veut convertir.</b>"
   ]
  },
  {
   "cell_type": "code",
   "execution_count": null,
   "metadata": {},
   "outputs": [],
   "source": []
  },
  {
   "cell_type": "markdown",
   "metadata": {},
   "source": [
    "<b> <font color=\"blue\" size=3> Ecrire une fonction affichage qui permet d'afficher les résultats des conversions sans utiliser le format liste mais en utilisant uniquement des chaines de caractères.</b>"
   ]
  },
  {
   "cell_type": "code",
   "execution_count": null,
   "metadata": {},
   "outputs": [],
   "source": []
  }
 ],
 "metadata": {
  "kernelspec": {
   "display_name": "Python 3",
   "language": "python",
   "name": "python3"
  },
  "language_info": {
   "codemirror_mode": {
    "name": "ipython",
    "version": 3
   },
   "file_extension": ".py",
   "mimetype": "text/x-python",
   "name": "python",
   "nbconvert_exporter": "python",
   "pygments_lexer": "ipython3",
   "version": "3.7.6"
  }
 },
 "nbformat": 4,
 "nbformat_minor": 4
}
