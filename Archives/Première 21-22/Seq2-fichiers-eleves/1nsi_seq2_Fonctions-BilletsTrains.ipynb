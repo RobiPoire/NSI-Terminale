{
 "cells": [
  {
   "cell_type": "markdown",
   "metadata": {},
   "source": [
    "<img src=\"img/modele_nsi.png\" style=\"width:220px;height:107px\" align=\"left\"/> <h2> <font color=\"purple\"> <div align=\"right\">Séquence 2<br>Cartes et billets de trains<br> Utilisation de fonctions</div>  </h2>"
   ]
  },
  {
   "cell_type": "markdown",
   "metadata": {},
   "source": [
    "<h2><font color=\"black\"> Consigne: Compléter rigoureusement le document de cours qui vous est fourni.</h2>"
   ]
  },
  {
   "cell_type": "markdown",
   "metadata": {},
   "source": [
    "<h2><font color=\"red\"> Objectif: Maitriser l'utilisation des fonctions pour structurer un programme</h2>"
   ]
  },
  {
   "cell_type": "markdown",
   "metadata": {},
   "source": [
    "<h1> <u> 1- Structure d'une fonction</u> </h1>"
   ]
  },
  {
   "cell_type": "markdown",
   "metadata": {},
   "source": [
    "<h1> <u> 1-1 Utililité des fonctions </u> </h1>"
   ]
  },
  {
   "cell_type": "markdown",
   "metadata": {},
   "source": [
    "<p><b><font color=\"red\" size=\"3\"> Les fonctions sont des portions de programme auxquelles on a donné un nom, afin de pouvoir les utiliser ensuite en rappelant juste ce nom.</b></p>"
   ]
  },
  {
   "cell_type": "markdown",
   "metadata": {},
   "source": [
    "<p><font color=\"black\" size=\"3\"> Une fonction est utilisée comme une boîte noire : on fournit des valeurs (les paramètres effectifs) et on récupère « quelque chose ».</p>\n",
    "<img src=\"img/rep_fonction1.png\" style=\"width:546px;height:152px\" align=\"left\"/>"
   ]
  },
  {
   "cell_type": "markdown",
   "metadata": {},
   "source": [
    "<h1> <u> 1-2 Définir une fonction (en python) </u> </h1>"
   ]
  },
  {
   "cell_type": "markdown",
   "metadata": {
    "collapsed": true
   },
   "source": [
    "<p><font color=\"black\" size=\"3\">On définit une fonction en:<br>\n",
    "    - la nommant,<br>\n",
    "    - indiquant ses paramètres (éventuellement leurs types), <br>\n",
    "    - donnant le code de la fonction (son contenu).<br>\n",
    "    - indiquant si elle renvoie une donnée (éventuellement le type),<br> </p>"
   ]
  },
  {
   "cell_type": "markdown",
   "metadata": {},
   "source": [
    "<h1> <u> 1-3 Appeler une fonction </u> </h1>"
   ]
  },
  {
   "cell_type": "markdown",
   "metadata": {
    "collapsed": true
   },
   "source": [
    "<p><font color=\"black\" size=\"3\"> Une fois la fonction définie, on peut l’appeler, pour qu’elle soit exécutée: <br>\n",
    "    - en donnant son nom<br>\n",
    "    - en fournissant les valeurs aux paramètres (qu’on appelle alors paramètres réels, paramètres effectifs ou arguments).<br> </p>"
   ]
  },
  {
   "cell_type": "markdown",
   "metadata": {},
   "source": [
    "<h1> <u> 1-4 Exemple de fonction </u> </h1>"
   ]
  },
  {
   "cell_type": "code",
   "execution_count": null,
   "metadata": {},
   "outputs": [],
   "source": [
    "# La fonction\n",
    "def prixTTC(ht, tva):\n",
    "    ttc = ht * (1 + tva / 100)\n",
    "    return ttc\n",
    "\n",
    "\n",
    "# Le programme principal\n",
    "prixHT=100 # Prix hors taxe du produit\n",
    "tauTva=20 # Valeur du taux de TVA en %\n",
    "\n",
    "prixTTC=prixTTC(prixHT, tauTva)\n",
    "print(\"Le prix TTC du produit est: \", prixTTC)"
   ]
  },
  {
   "cell_type": "markdown",
   "metadata": {},
   "source": [
    "<p><b> <font color=\"blue\" size=\"3\"> Question 1- Identifier et encadrer (utiliser plusieurs couleurs) les lignes de code du programme qui concernent:<br>\n",
    "    - le programme principal<br>\n",
    "    - la fonction\n",
    "    </b></p>"
   ]
  },
  {
   "cell_type": "markdown",
   "metadata": {},
   "source": [
    "<p><b> <font color=\"blue\" size=\"3\"> Question 2- Donner:<br>\n",
    "    - le nom de la fonction<br>\n",
    "    - le ou les paramètres de la fonction<br>\n",
    "    - la donnée renvoyée (si elle existe)\n",
    "    </b></p>"
   ]
  },
  {
   "cell_type": "markdown",
   "metadata": {},
   "source": [
    "<p><b> <font color=\"blue\" size=\"3\"> Question 3- Identifier la ligne de code qui permet d'appeler la fonction et justifier la structure de cette ligne<br>\n",
    "    </b></p>"
   ]
  },
  {
   "cell_type": "markdown",
   "metadata": {},
   "source": [
    "<p><b> <font color=\"blue\" size=\"3\"> Question 4- Expliquer le rôle des lignes de codes suivantes:<br>\n",
    "    - prixHT=100<br>\n",
    "    - tauTva=20<br>\n",
    "    - print(\"Le prix TTC du produit est: \", prixTTC)    \n",
    "    </b></p>"
   ]
  },
  {
   "cell_type": "markdown",
   "metadata": {},
   "source": [
    "<p><b> <font color=\"blue\" size=\"3\"> Question 5- Compléter le diagramme fonctionnel de la fonction en plaçant les différents éléments utiles à la compréhension.  \n",
    "    </b></p>"
   ]
  },
  {
   "cell_type": "markdown",
   "metadata": {},
   "source": [
    "<h1> <u> 1-4 Le jeu des différences </u> </h1>"
   ]
  },
  {
   "cell_type": "markdown",
   "metadata": {
    "collapsed": true
   },
   "source": [
    "<p><font color=\"black\" size=\"3\"> On met à votre disposition un programme qui rempli la même fonction que celui donné précédemment.<br> </p>"
   ]
  },
  {
   "cell_type": "code",
   "execution_count": null,
   "metadata": {},
   "outputs": [],
   "source": [
    "# La fonction\n",
    "def prixTTC(ht, tva):\n",
    "    ttc = ht * (1 + tva / 100)\n",
    "    print(\"Le prix TTC du produit est: \", ttc)\n",
    "\n",
    "\n",
    "# Le programme principal\n",
    "prixHT=100 # Prix hors taxe du produit\n",
    "tauTva=20 # Valeur du taux de TVA en %\n",
    "\n",
    "prixTTC(prixHT, tauTva)\n"
   ]
  },
  {
   "cell_type": "markdown",
   "metadata": {},
   "source": [
    "<p><b> <font color=\"blue\" size=\"3\"> Question 6- Indiquer les différences entre les deux programmes. Utiliser un moyen graphiques pour le mettre en évidence\n",
    "    </b></p>"
   ]
  },
  {
   "cell_type": "markdown",
   "metadata": {},
   "source": [
    "<p><b> <font color=\"blue\" size=\"3\"> Question 7- Pour chaque différence repérée, apporter une explication.\n",
    "    </b></p>"
   ]
  },
  {
   "cell_type": "markdown",
   "metadata": {},
   "source": [
    "<h1> <u> 2 Cartes et billets de train </u> </h1>"
   ]
  },
  {
   "cell_type": "markdown",
   "metadata": {},
   "source": [
    "<h1> <u> 2-1 Description </u> </h1>"
   ]
  },
  {
   "cell_type": "markdown",
   "metadata": {
    "collapsed": true
   },
   "source": [
    "<p><font color=\"black\" size=\"3\"> On souhaite programmer une borne interactive qui affiche le prix d'un voyage en train en fonction de certains paramètres (ages du voyageur, le trajet souhaité ...).<br><br>\n",
    "    On considère deux types de carte de réduction:<br>\n",
    "    - la carte Jeune (moins de 25 ans), la réduction est 70% sur le prix du billet<br>\n",
    "    - la carte Senior (plus de 70 ans), la réduction est 50% sur le prix du billet<br><br>\n",
    "    On considère les trajets suivants:<br>\n",
    "    - Grenoble - Paris, prix: 100€<br>\n",
    "    - Grenoble - Lyon, prix: 20€<br>\n",
    "    - Lyon - Paris, prix 80€<br><br>\n",
    "    Les voyageurs dont l'âge est compris entre 25 et 70 ans payent leur billet plein tarif.<br><br>    \n",
    "    Les prix correspondent à un aller simple plein tarif, le prix du retour est identique à celui de l'aller.<br><br>\n",
    "    On met à votre disposition un programme qui permet de satisfaire au cahier des charges. Ce programme n'utilise pas de fonctions.<br><br>\n",
    "    Votre travail va consister à le modifier en créant des fonctions.<br></p>"
   ]
  },
  {
   "cell_type": "markdown",
   "metadata": {},
   "source": [
    "<h1> <u> 2-2 Programme de base </u> </h1>"
   ]
  },
  {
   "cell_type": "code",
   "execution_count": null,
   "metadata": {},
   "outputs": [],
   "source": [
    "valReduc=100\n",
    "typeReduc= input(\"Choisir le type de carte Jeune ou Senior en tapant J pour jeune, S pour sénior, validez si vous ne bénéficiez pas de réduction: \")\n",
    "if typeReduc == \"J\":\n",
    "    valReduc=70\n",
    "    print(\" Vous bénéficiez de\", valReduc, \"% de remise sur votre billet\")\n",
    "elif typeReduc == \"S\":\n",
    "    valReduc=50\n",
    "    print(\" Vous bénéficiez de\", valReduc, \"% de remise sur votre billet\")\n",
    "else:\n",
    "    valReduc=0\n",
    "    print(\" Vous bénéficiez de\", valReduc, \"% de remise sur votre billet\")\n",
    "    \n",
    "choixTrajet=int(input(\"Choisir le trajet souhaité, taper 1 pour Grenoble-Paris, 2 pour Grenoble-Lyon et 3 pour Lyon-Paris\"))\n",
    "if choixTrajet == 1:\n",
    "    prix=100\n",
    "    print(\"Le trajet choisi est Grenoble-Paris, le prix de base est de: \", prix, \"€\")\n",
    "elif choixTrajet == 2:\n",
    "    prix=20\n",
    "    print(\"Le trajet choisi est Grenoble-Lyon, le prix de base est de: \", prix, \"€\")\n",
    "elif choixTrajet==3:\n",
    "    prix=80\n",
    "    print(\"Le trajet choisi est Lyon-Paris, le prix de base est de: \", prix, \"€\")\n",
    "else:\n",
    "    print(\" Le trajet n'existe pas\")\n",
    "\n",
    "alleRetour = input (\"Si vous souhaitez un billet aller-retour, taper AR sinon valider\")\n",
    "if alleRetour==\"AR\":\n",
    "    prixBillet=int(2*prix*(1-(valReduc/100)))\n",
    "else:\n",
    "    prixBillet=int(prix*(1-(valReduc/100)))\n",
    "print(\"Le prix de votre billet est de: \", prixBillet, \"€\")"
   ]
  },
  {
   "cell_type": "markdown",
   "metadata": {},
   "source": [
    "<h1> <u> 2-3 Utilisation de fonctions </u> </h1>"
   ]
  },
  {
   "cell_type": "markdown",
   "metadata": {},
   "source": [
    "<p><b> <font color=\"blue\" size=\"3\"> Question 8- Ecrire une fonction \"reduction\" qui prend en argument une chaîne de caractère correspondant au profil du voyageur (Jeune, Senior, ou autre) et qui renvoie le montant de la réduction.<br>\n",
    "    Afficher le montant de la réduction.<br>\n",
    "    Tester votre première fonction</b></p>\n",
    "<p><b> <font color=\"red\" size=\"3\"> Attention: ne pas modifier le programme précédent, utiliser la zone de programmation ci-dessous (utiliser les fonctions copier-coller).</b></p>"
   ]
  },
  {
   "cell_type": "code",
   "execution_count": null,
   "metadata": {},
   "outputs": [],
   "source": []
  },
  {
   "cell_type": "markdown",
   "metadata": {},
   "source": [
    "<p><b> <font color=\"blue\" size=\"3\"> Question 9- Ecrire une fonction \"choixTrajet\" qui prend en argument un entier correspondant au trajet choisi et qui renvoie le prix du billet sans réduction.<br>\n",
    "    Afficher le prix du billet.<br>\n",
    "    Tester votre programme avec cette deuxième fonction</b></p>\n",
    "<p><b> <font color=\"red\" size=\"3\"> Attention: utiliser le programme créer précédemment.</b></p>"
   ]
  },
  {
   "cell_type": "markdown",
   "metadata": {},
   "source": [
    "<p><b> <font color=\"blue\" size=\"3\"> Question 10- Ecrire une fonction \"prixBillet\" qui calcule le prix du billet en tennant compte de tous las paramètres utiles.<br>\n",
    "    Afficher le prix du billet que le voyageur devra payer.<br>\n",
    "    Tester votre programme</b></p>\n",
    "<p><b> <font color=\"red\" size=\"3\"> Attention: utiliser le programme créer précédemment.</b></p>"
   ]
  },
  {
   "cell_type": "markdown",
   "metadata": {},
   "source": [
    "<h1> <u> 2-4 Pour aller plus loin </u> </h1>"
   ]
  },
  {
   "cell_type": "markdown",
   "metadata": {},
   "source": [
    "<p><b> <font color=\"blue\" size=\"3\"> Question 11- Actuellement si le voyageur saisie un voyage qui n'existe pas le programme se termine et il ne peut pas accéder à une nouvelle demande.<br>\n",
    "    Modifier le programme afin que si le voyageur se trompe en ne saisissant pas le bon trajet, une nouvelle demande lui est proposée.<br></b></p>\n",
    "<p><b> <font color=\"red\" size=\"3\"> Il est tout à fait possible qu'une fonction appelle elle même une autre fonction.</b></p>"
   ]
  },
  {
   "cell_type": "markdown",
   "metadata": {},
   "source": [
    "<p><b> <font color=\"blue\" size=\"3\"> Question 12- Modifier le programme afin qu'une demande de confirmation des informations saisies par le voyageur lui soit demandée avant le calcul du prix du billet.<br>\n",
    "Si la réponse est oui on calcule le prix, sinon on relance la procédure depuis le début.</b></p>"
   ]
  },
  {
   "cell_type": "code",
   "execution_count": null,
   "metadata": {},
   "outputs": [],
   "source": []
  }
 ],
 "metadata": {
  "kernelspec": {
   "display_name": "Python 3",
   "language": "python",
   "name": "python3"
  },
  "language_info": {
   "codemirror_mode": {
    "name": "ipython",
    "version": 3
   },
   "file_extension": ".py",
   "mimetype": "text/x-python",
   "name": "python",
   "nbconvert_exporter": "python",
   "pygments_lexer": "ipython3",
   "version": "3.7.6"
  }
 },
 "nbformat": 4,
 "nbformat_minor": 2
}
