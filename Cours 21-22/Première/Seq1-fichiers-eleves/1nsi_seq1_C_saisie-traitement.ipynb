{
 "cells": [
  {
   "cell_type": "markdown",
   "metadata": {},
   "source": [
    "<img src=\"img/modele_nsi.png\" style=\"width:220px;height:107px\" align=\"left\"/> <h2> <font color=\"purple\"> <div align=\"right\">Séquence 1 Saisie et Traitement </div>  </h2>"
   ]
  },
  {
   "cell_type": "markdown",
   "metadata": {},
   "source": [
    " <h1> <u>  1- Inter agir entre le gamer et le programme </u> </h1>"
   ]
  },
  {
   "cell_type": "markdown",
   "metadata": {},
   "source": [
    "<h2> <font color=\"red\"> Objectif: Demander à l'utilisateur d'un programme de saisir au clavier des informations et les transmettre au programme</h2>"
   ]
  },
  {
   "cell_type": "markdown",
   "metadata": {},
   "source": [
    "<b> <font color=\"black\" size=3> On souhaite demander au gamer s'il souhaire démarrer le jeu. Pour cela au lancement du programme, un message doit apparaitre sur la console. Ce message est:<br>\n",
    "    &nbsp;&nbsp;&nbsp; Souhaitez-vous demarrer le jeu, taper O pour oui et N pour non.<br><br>\n",
    "    Le choix doit être afficher de la façon suivante:<br>\n",
    "    &nbsp;&nbsp;&nbsp; Votre choix est: votre choix (oui ou non).</b>"
   ]
  },
  {
   "cell_type": "markdown",
   "metadata": {},
   "source": [
    "<b> <font color=\"black\" size=3> On met à votre disposition un exemple de programme.<br> <font color=\"blue\"> Testez le adaptez le pour qu'il corresponde à ce qui est demandé </b>"
   ]
  },
  {
   "cell_type": "code",
   "execution_count": null,
   "metadata": {},
   "outputs": [],
   "source": [
    "choix=input(\"Vous devez saisir soit a soit b: \")\n",
    "if choix==\"a\":\n",
    "    print(\"Votre choix est a\")\n",
    "elif choix==\"b\":\n",
    "    print(\"Votre choix est b\")\n",
    "else:\n",
    "    print(\"Erreur\")"
   ]
  },
  {
   "cell_type": "markdown",
   "metadata": {},
   "source": [
    "<b> <font color=\"black\" size=3> On souhaite maintenant demander si le jeu se fera avec 1 ou 2 gamer(s). Le message doit être:<br>\n",
    "&nbsp;&nbsp;&nbsp;Souhaitez-vous jouer seul ou à deux, taper 1 pour jouer seul, taper 2 pour jouer à deux.<br><br>\n",
    "Le choix doit être afficher de la façon suivante:<br>\n",
    "&nbsp;&nbsp;&nbsp;Nombre de joueurs: votre choix.</b>"
   ]
  },
  {
   "cell_type": "markdown",
   "metadata": {},
   "source": [
    "<b> <font color=\"black\" size=3> On met à votre disposition un exemple de programme.<br> <font color=\"blue\"> Testez le adaptez le pour qu'il corresponde à ce qui est demandé </b>"
   ]
  },
  {
   "cell_type": "code",
   "execution_count": null,
   "metadata": {},
   "outputs": [],
   "source": [
    "choix=input(\"Vous devez saisir soit 1 soit 2: \")\n",
    "if choix==1:\n",
    "    print(\"Votre choix est 1\")\n",
    "elif choix==2:\n",
    "    print(\"Votre choix est 2\")\n",
    "else:\n",
    "    print(\"Erreur\")"
   ]
  },
  {
   "cell_type": "markdown",
   "metadata": {},
   "source": [
    "<b> <font color=\"blue\" size=3> Le fonctionnement du programme est-il conforme à vos attentes?</b>"
   ]
  },
  {
   "cell_type": "markdown",
   "metadata": {},
   "source": [
    "<b> <font color=\"black\" size=3> On modifie le programme précedent.<br> <font color=\"blue\"> Testez le, que constatez-vous? </b>"
   ]
  },
  {
   "cell_type": "code",
   "execution_count": null,
   "metadata": {},
   "outputs": [],
   "source": [
    "choix=int(input(\"Vous devez saisir soit 1 soit 2: \"))\n",
    "if choix==1:\n",
    "    print(\"Votre choix est 1\")\n",
    "elif choix==2:\n",
    "    print(\"Votre choix est 2\")\n",
    "else:\n",
    "    print(\"Erreur\")"
   ]
  },
  {
   "cell_type": "markdown",
   "metadata": {},
   "source": [
    "<b> <font color=\"blue\" size=3> Identifier la ligne de code qui a été modifiée. En vous aidant des données sur les variables de l'activité précédente, expliquez pourquoi le programme fonctionne correctement. </b>"
   ]
  }
 ],
 "metadata": {
  "kernelspec": {
   "display_name": "Python 3",
   "language": "python",
   "name": "python3"
  },
  "language_info": {
   "codemirror_mode": {
    "name": "ipython",
    "version": 3
   },
   "file_extension": ".py",
   "mimetype": "text/x-python",
   "name": "python",
   "nbconvert_exporter": "python",
   "pygments_lexer": "ipython3",
   "version": "3.7.6"
  }
 },
 "nbformat": 4,
 "nbformat_minor": 2
}
