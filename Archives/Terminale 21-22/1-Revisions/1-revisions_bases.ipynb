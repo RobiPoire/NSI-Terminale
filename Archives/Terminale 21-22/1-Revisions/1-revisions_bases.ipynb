{
 "cells": [
  {
   "cell_type": "markdown",
   "metadata": {},
   "source": [
    "# Révisions et rappel de première : Python"
   ]
  },
  {
   "cell_type": "markdown",
   "metadata": {},
   "source": [
    "## Travail dans Jupyter"
   ]
  },
  {
   "cell_type": "markdown",
   "metadata": {},
   "source": [
    "Pour un bon fonctionnement, assurez-vous d'avoir copié ce fichier sur lequel vous travaillez dans votre dossier personnel (ou sur le bureau par exemple), afin d'y avoir accès en lecture/écriture."
   ]
  },
  {
   "cell_type": "markdown",
   "metadata": {},
   "source": [
    "### Test de jupyter"
   ]
  },
  {
   "cell_type": "markdown",
   "metadata": {},
   "source": [
    "Quand vous exécutez un programme, vous verrez aussi une sortie. L'exemple de code ci-dessous contient une seule commande <B>print(\"Bonjour, Python !\")</B> qui produit une seule ligne de sortie.\n",
    "Appuyez sur <B>Shift + Entrée</B> dans la ligne de code pour valider le contenu du champ de saisie."
   ]
  },
  {
   "cell_type": "code",
   "execution_count": 1,
   "metadata": {},
   "outputs": [
    {
     "name": "stdout",
     "output_type": "stream",
     "text": [
      "Bonjour, Python !\n"
     ]
    }
   ],
   "source": [
    "#tester ce code avec Shift+Entrée\n",
    "print(\"Bonjour, Python !\")"
   ]
  },
  {
   "cell_type": "markdown",
   "metadata": {},
   "source": [
    "Si vous avez vu le résultat du code apparaitre c'est que tout fonctionne. Parfois le noyau (kernel) python est planté et on ne peut plus executer le code. Il suffit alors de le relancer, menu Kernel/restart."
   ]
  },
  {
   "cell_type": "markdown",
   "metadata": {},
   "source": [
    "## Les variables"
   ]
  },
  {
   "cell_type": "markdown",
   "metadata": {},
   "source": [
    "Affectation :<br /> Le symbole d'affectation utilisé est le simple `=`, pour une comparaison on utilisera le `==`. <br />De ce fait, l'instruction `a=a+1` qui n'a aucun sens mathématique est très utile en informatique et permet d'incrémenter une variable."
   ]
  },
  {
   "cell_type": "code",
   "execution_count": 2,
   "metadata": {},
   "outputs": [
    {
     "name": "stdout",
     "output_type": "stream",
     "text": [
      "4\n"
     ]
    },
    {
     "ename": "NameError",
     "evalue": "name 'A' is not defined",
     "output_type": "error",
     "traceback": [
      "\u001b[1;31m---------------------------------------------------------------------------\u001b[0m",
      "\u001b[1;31mNameError\u001b[0m                                 Traceback (most recent call last)",
      "\u001b[1;32m<ipython-input-2-11a02d05d3d4>\u001b[0m in \u001b[0;36m<module>\u001b[1;34m\u001b[0m\n\u001b[0;32m      3\u001b[0m \u001b[0ma\u001b[0m \u001b[1;33m=\u001b[0m \u001b[0ma\u001b[0m\u001b[1;33m+\u001b[0m\u001b[1;36m1\u001b[0m\u001b[1;33m\u001b[0m\u001b[1;33m\u001b[0m\u001b[0m\n\u001b[0;32m      4\u001b[0m \u001b[0mprint\u001b[0m\u001b[1;33m(\u001b[0m\u001b[0ma\u001b[0m\u001b[1;33m)\u001b[0m\u001b[1;33m\u001b[0m\u001b[1;33m\u001b[0m\u001b[0m\n\u001b[1;32m----> 5\u001b[1;33m \u001b[0mprint\u001b[0m\u001b[1;33m(\u001b[0m\u001b[0mA\u001b[0m\u001b[1;33m)\u001b[0m \u001b[1;31m# la casse (distinction entre majuscules et minuscules) est prise en compte\u001b[0m\u001b[1;33m\u001b[0m\u001b[1;33m\u001b[0m\u001b[0m\n\u001b[0m",
      "\u001b[1;31mNameError\u001b[0m: name 'A' is not defined"
     ]
    }
   ],
   "source": [
    "#tester ce code avec Shift+Entrée\n",
    "a = 3\n",
    "a = a+1\n",
    "print(a)\n",
    "print(A) # la casse (distinction entre majuscules et minuscules) est prise en compte"
   ]
  },
  {
   "cell_type": "markdown",
   "metadata": {},
   "source": [
    "En première ligne, la valeur 3 est affectée dans la place mémoire \"a\". \n",
    "En deuxième ligne, l'ordinateut calcule \"a+1\" puis l'affecte dans la place mémoire \"a\" : la variable \"a\" devient donc égale à 4. On vient d'incrémenter la variable \"a\".\n",
    "La dernière ligne confirme le fait que le langage différencie les lettres minuscules et majuscules, d'où le message d'erreur."
   ]
  },
  {
   "cell_type": "markdown",
   "metadata": {},
   "source": [
    "Avant d'exécuter le code ci-dessous, devinez la valeur de b :"
   ]
  },
  {
   "cell_type": "code",
   "execution_count": 7,
   "metadata": {},
   "outputs": [
    {
     "name": "stdout",
     "output_type": "stream",
     "text": [
      "Quelle est la valeur de b ? 1\n"
     ]
    }
   ],
   "source": [
    "#tester ce code avec Shift+Entrée\n",
    "a=5\n",
    "b=3\n",
    "b=2*b-a\n",
    "print(\"Quelle est la valeur de b ?\",b)"
   ]
  },
  {
   "cell_type": "markdown",
   "metadata": {},
   "source": [
    "<b>Attention à ne pas utiliser</b> des mots clefs du langage comme nom de variable !\n",
    "\n",
    "La liste ce ceux-ci peut être affichée avec la commande ci-dessous : "
   ]
  },
  {
   "cell_type": "code",
   "execution_count": 3,
   "metadata": {},
   "outputs": [
    {
     "name": "stdout",
     "output_type": "stream",
     "text": [
      "False\n",
      "None\n",
      "True\n",
      "and\n",
      "as\n",
      "assert\n",
      "async\n",
      "await\n",
      "break\n",
      "class\n",
      "continue\n",
      "def\n",
      "del\n",
      "elif\n",
      "else\n",
      "except\n",
      "finally\n",
      "for\n",
      "from\n",
      "global\n",
      "if\n",
      "import\n",
      "in\n",
      "is\n",
      "lambda\n",
      "nonlocal\n",
      "not\n",
      "or\n",
      "pass\n",
      "raise\n",
      "return\n",
      "try\n",
      "while\n",
      "with\n",
      "yield\n"
     ]
    }
   ],
   "source": [
    "#tester ce code avec Shift+Entrée\n",
    "import keyword\n",
    "print(\"\\n\".join(keyword.kwlist))"
   ]
  },
  {
   "cell_type": "markdown",
   "metadata": {},
   "source": [
    "## Rappel : Les différents types de base"
   ]
  },
  {
   "cell_type": "markdown",
   "metadata": {},
   "source": [
    "Les variables peuvent contenir différents types d'informations. On dit qu'elles sont de type :\n",
    "- *int* : entiers (ex : -2 ; 5)\n",
    "- *float* : décimal (ex -2.0 ; 2e6=2000000.0)\n",
    "- *str* : chaîne de caractère (ex 'Bonjour' ; \"Autre exemple\" ; \"2+3\" ; \"5\")\n",
    "- *bool* : Booléen : Vrai ou Faux. (ex : 2==3, False, 3<4)\n",
    "- *list* : Tableau ou liste (ex : [1,'toto', 2.0] ; [[1,2],[3,4]])\n",
    "- d'autres types plus complexes seront vus plus tard"
   ]
  },
  {
   "cell_type": "code",
   "execution_count": 4,
   "metadata": {},
   "outputs": [
    {
     "data": {
      "text/plain": [
       "str"
      ]
     },
     "execution_count": 4,
     "metadata": {},
     "output_type": "execute_result"
    }
   ],
   "source": [
    "#tester ce code avec Shift+Entrée\n",
    "chaine=\"Je suis une chaîne de caractère\"\n",
    "type(chaine)"
   ]
  },
  {
   "cell_type": "markdown",
   "metadata": {},
   "source": [
    "Même si ce n'est pas conseillé, on peut aussi changer de type en cours de route :"
   ]
  },
  {
   "cell_type": "code",
   "execution_count": 5,
   "metadata": {},
   "outputs": [
    {
     "name": "stdout",
     "output_type": "stream",
     "text": [
      "Je suis une chaîne\n",
      "12\n"
     ]
    },
    {
     "data": {
      "text/plain": [
       "int"
      ]
     },
     "execution_count": 5,
     "metadata": {},
     "output_type": "execute_result"
    }
   ],
   "source": [
    "#tester ce code avec Shift+Entrée\n",
    "a=\"Je suis une chaîne\"\n",
    "print(a)\n",
    "a=12 # et maintenenant je suis un nombre !!!\n",
    "print(a)\n",
    "type(a)"
   ]
  },
  {
   "cell_type": "markdown",
   "metadata": {},
   "source": [
    "## Affectations simultanées"
   ]
  },
  {
   "cell_type": "code",
   "execution_count": 9,
   "metadata": {},
   "outputs": [
    {
     "name": "stdout",
     "output_type": "stream",
     "text": [
      "1\n",
      "2\n",
      "1 2\n"
     ]
    }
   ],
   "source": [
    "#tester ce code avec Shift+Entrée\n",
    "x,y=1,2\n",
    "print(x)\n",
    "print(y)\n",
    "print(x,y)"
   ]
  },
  {
   "cell_type": "markdown",
   "metadata": {},
   "source": [
    "### Une application très classique de l'affectation simultanée est l'échange du contenu de deux variables"
   ]
  },
  {
   "cell_type": "markdown",
   "metadata": {},
   "source": [
    "On souhaite échanger le contenu de 2 variables, en utilisant \"A=B\" puis \"B=A\", compléter et tester le programme ci-dessous  :"
   ]
  },
  {
   "cell_type": "code",
   "execution_count": null,
   "metadata": {},
   "outputs": [],
   "source": [
    "#tester ce code avec Shift+Entrée\n",
    "A=12\n",
    "B=30\n",
    "#remplacer cette ligne par un code qui affiche les valeurs de A et B\n",
    "A=B\n",
    "B=A\n",
    "#afficher à nouveau les valeurs de A et B"
   ]
  },
  {
   "cell_type": "markdown",
   "metadata": {},
   "source": [
    "***Problème***  : la 4ème ligne efface de la mémoire la valeur de \"A\", de sorte que \"A\" devient égal à \"B\". L'instruction \"B=A\" est alors inutile. \n",
    "\n",
    "Comment contourner ce problème ? il faut avoir recours à une mémoire temporaire, rédiger un bout de code ci-dessous permettant l'échange avec une variable temporaire memoire_Temp"
   ]
  },
  {
   "cell_type": "code",
   "execution_count": null,
   "metadata": {},
   "outputs": [],
   "source": [
    "#tester ce code avec Shift+Entrée\n",
    "A=12\n",
    "B=30\n",
    "......compléter le code......\n"
   ]
  },
  {
   "cell_type": "markdown",
   "metadata": {},
   "source": [
    "L'affectation croisée \"A,B=B,A\" permet en une seule ligne d'échanger les contenus des variables A et B. Tentons maintenant d'échanger deux variables A et B avec une affectation multiple :"
   ]
  },
  {
   "cell_type": "code",
   "execution_count": null,
   "metadata": {},
   "outputs": [],
   "source": [
    "#tester ce code avec Shift+Entrée\n",
    "A,B=32,10\n",
    "print(\"valeur initiale de A et B :\",A,B)\n",
    "\n",
    "#remplacer cette ligne par une affectation croisée de A et B\n",
    "#remplacer cette ligne par un affichage de A et B\n",
    "\n"
   ]
  },
  {
   "cell_type": "markdown",
   "metadata": {},
   "source": [
    "## Type de la variable renvoyé par la fonction input()"
   ]
  },
  {
   "cell_type": "markdown",
   "metadata": {},
   "source": [
    "On est souvent amené à demander des données à l'utilisateur, attention au type renvoyé lors de la saisie :"
   ]
  },
  {
   "cell_type": "code",
   "execution_count": 10,
   "metadata": {},
   "outputs": [
    {
     "name": "stdout",
     "output_type": "stream",
     "text": [
      "Saisir la valeur de x : 23\n",
      "vous avez saisi la valeur 23\n"
     ]
    },
    {
     "data": {
      "text/plain": [
       "str"
      ]
     },
     "execution_count": 10,
     "metadata": {},
     "output_type": "execute_result"
    }
   ],
   "source": [
    "#tester ce code avec Shift+Entrée\n",
    "saisie=input(\"Saisir la valeur de x : \")\n",
    "print(\"vous avez saisi la valeur\",saisie)\n",
    "type(saisie)"
   ]
  },
  {
   "cell_type": "markdown",
   "metadata": {},
   "source": [
    "Vous remarquez que le type est une chaine de caractère, on ne peut pas l'utiliser directement pour des calculs par exemple.\n",
    "\n",
    "essayez ci-dessous en saisissant un nombre :"
   ]
  },
  {
   "cell_type": "code",
   "execution_count": 11,
   "metadata": {},
   "outputs": [
    {
     "name": "stdout",
     "output_type": "stream",
     "text": [
      "Saisir la valeur de x : 12\n"
     ]
    },
    {
     "ename": "TypeError",
     "evalue": "can only concatenate str (not \"int\") to str",
     "output_type": "error",
     "traceback": [
      "\u001b[1;31m---------------------------------------------------------------------------\u001b[0m",
      "\u001b[1;31mTypeError\u001b[0m                                 Traceback (most recent call last)",
      "\u001b[1;32m<ipython-input-11-ad5ca8084a11>\u001b[0m in \u001b[0;36m<module>\u001b[1;34m\u001b[0m\n\u001b[0;32m      1\u001b[0m \u001b[1;31m#tester ce code avec Shift+Entrée\u001b[0m\u001b[1;33m\u001b[0m\u001b[1;33m\u001b[0m\u001b[1;33m\u001b[0m\u001b[0m\n\u001b[0;32m      2\u001b[0m \u001b[0msaisie\u001b[0m\u001b[1;33m=\u001b[0m\u001b[0minput\u001b[0m\u001b[1;33m(\u001b[0m\u001b[1;34m\"Saisir la valeur de x : \"\u001b[0m\u001b[1;33m)\u001b[0m\u001b[1;33m\u001b[0m\u001b[1;33m\u001b[0m\u001b[0m\n\u001b[1;32m----> 3\u001b[1;33m \u001b[0mcalcul\u001b[0m \u001b[1;33m=\u001b[0m \u001b[0msaisie\u001b[0m \u001b[1;33m+\u001b[0m \u001b[1;36m2\u001b[0m\u001b[1;33m\u001b[0m\u001b[1;33m\u001b[0m\u001b[0m\n\u001b[0m",
      "\u001b[1;31mTypeError\u001b[0m: can only concatenate str (not \"int\") to str"
     ]
    }
   ],
   "source": [
    "#tester ce code avec Shift+Entrée\n",
    "saisie=input(\"Saisir la valeur de x : \")\n",
    "calcul = saisie + 2"
   ]
  },
  {
   "cell_type": "markdown",
   "metadata": {},
   "source": [
    "Le message d'erreur nous indique que l'opération se fait sur des chaines (str) et python veut utiliser l'opérateur `+` pour concaténer les chaines, essayez avec une chaine :"
   ]
  },
  {
   "cell_type": "code",
   "execution_count": null,
   "metadata": {},
   "outputs": [],
   "source": [
    "#tester ce code avec Shift+Entrée\n",
    "resultat = \"bonjour \" + saisie\n",
    "print(resultat)"
   ]
  },
  {
   "cell_type": "markdown",
   "metadata": {},
   "source": [
    "Si l'on souhaite utiliser la variable comme un nombre il existe plusieurs fonctions qui permettent de forcer le type d'une variable en un autre type :\n",
    "\n",
    "- int() : permet de modifier une variable en entier.\n",
    "- long() : transforme une valeur en long.\n",
    "- float() : permet la transformation en flottant.\n",
    "- str() : permet de transformer la plupart des variables d'un autre type en chaînes de caractère.\n",
    "- repr() : similaire à str.\n",
    "- eval() : évalue le contenu de son argument comme si c’était du code Python.\n",
    "- unicode() : convertit en Unicode.\n",
    "\n",
    "La fonction eval est assez pratique :\n",
    "\n",
    ">     eval(input(\"Texte affiché à l'utilisateur\"))\n",
    "\n",
    "L'avantage de cette fonction est que le contenu de la ligne est évalué. Vous pouvez vous amuser à saisir `3+5` ou `sqrt(2)/2` !\n",
    "\n",
    "Comparer le résultat en enlevant la fonction `eval`."
   ]
  },
  {
   "cell_type": "code",
   "execution_count": null,
   "metadata": {},
   "outputs": [],
   "source": [
    "#tester ce code avec Shift+Entrée\n",
    "from math import *\n",
    "x=eval(input(\"Saisir la valeur de x : \"))\n",
    "\n",
    "print(\"vous avez saisi la valeur\",x)"
   ]
  },
  {
   "cell_type": "markdown",
   "metadata": {},
   "source": [
    "## Boucle pour"
   ]
  },
  {
   "cell_type": "markdown",
   "metadata": {},
   "source": [
    "Les quelques exemples ci-dessous vous rappelent le fonctionnement de cette instruction."
   ]
  },
  {
   "cell_type": "code",
   "execution_count": 12,
   "metadata": {},
   "outputs": [
    {
     "name": "stdout",
     "output_type": "stream",
     "text": [
      "je répète 5 fois la même chose. Ici, i= 0\n",
      "je répète 5 fois la même chose. Ici, i= 1\n",
      "je répète 5 fois la même chose. Ici, i= 2\n",
      "je répète 5 fois la même chose. Ici, i= 3\n",
      "je répète 5 fois la même chose. Ici, i= 4\n"
     ]
    }
   ],
   "source": [
    "#tester ce code avec Shift+Entrée\n",
    "for i in range(5):\n",
    "    print(\"je répète 5 fois la même chose. Ici, i=\",i)"
   ]
  },
  {
   "cell_type": "markdown",
   "metadata": {},
   "source": [
    "Ce qu'il faut retenir c'est :\n",
    "- que la boucle `for i in range(n)` tournera `n` fois\n",
    "- que la variable `i` prendra les valeurs entières entre 0 et `n-1`"
   ]
  },
  {
   "cell_type": "markdown",
   "metadata": {},
   "source": [
    "***Importance du symbole :***\n",
    "Remarquez bien le `:` après le range. Cela marque le début d'un *bloc*.\n",
    "\n",
    "Un *bloc* en python se distingue par le ***décalage par rapport à la marge***. Il permet de délimiter le début etr la fin du contenu de la boucle pour. En effet, contrairement à d'autres langage, il n'y a par de symbole `{}` (C, Java,...) `end`(TI) ou `next` (casio) pour signifier la fin de la boucle pour.\n",
    "\n",
    "On retrouvera cette notion de bloc également pour les boucles tant que, les tests si... alors... sinon..., les définitions de fonction etc...\n",
    "\n",
    "Soyez donc très attentif à la présence de ces `:` et au décalage de marge qui s'en suit."
   ]
  },
  {
   "cell_type": "markdown",
   "metadata": {},
   "source": [
    "On peut paramétrer un peu l'instruction `range` :\n",
    ">    range(1,10)\n",
    "\n",
    "Le compteur commencera à 1 et s'arrêtera à ***9***"
   ]
  },
  {
   "cell_type": "markdown",
   "metadata": {},
   "source": [
    "Exemple : Expérimenter et expliquer les valeurs prises par la variable `i` dans la boucle \n",
    ">   for i in range( 3,15,2) :"
   ]
  },
  {
   "cell_type": "code",
   "execution_count": null,
   "metadata": {},
   "outputs": [],
   "source": [
    "# expérimenter votre code ici"
   ]
  },
  {
   "cell_type": "markdown",
   "metadata": {},
   "source": [
    "Votre réponse ..."
   ]
  },
  {
   "cell_type": "markdown",
   "metadata": {},
   "source": [
    "### Exercices"
   ]
  },
  {
   "cell_type": "markdown",
   "metadata": {},
   "source": [
    "Ecrire un programme qui demande un nombre à l'utilisateur et qui affiche la table de multiplication de ce nombre. L'affichage de sortie ressemblera à ceci :\n",
    "\n",
    "<PRE>\n",
    "table de 7 : \n",
    "1 x 7= 7\n",
    "2 x 7= 14\n",
    "3 x 7= 21\n",
    "4 x 7= 28\n",
    "5 x 7= 35\n",
    "6 x 7= 42\n",
    "7 x 7= 49\n",
    "8 x 7= 56\n",
    "9 x 7= 63\n",
    "</PRE>"
   ]
  },
  {
   "cell_type": "code",
   "execution_count": null,
   "metadata": {},
   "outputs": [],
   "source": [
    "# Ecrire votre code ici"
   ]
  },
  {
   "cell_type": "markdown",
   "metadata": {},
   "source": [
    "Ecrire un programme qui calcule la somme des entiers de 5 à 112"
   ]
  },
  {
   "cell_type": "code",
   "execution_count": null,
   "metadata": {},
   "outputs": [],
   "source": [
    "# Ecrire votre code ici"
   ]
  },
  {
   "cell_type": "markdown",
   "metadata": {},
   "source": [
    "## Boucle Tant que"
   ]
  },
  {
   "cell_type": "markdown",
   "metadata": {},
   "source": [
    "Rappel de la synthaxe :"
   ]
  },
  {
   "cell_type": "code",
   "execution_count": 13,
   "metadata": {},
   "outputs": [
    {
     "name": "stdout",
     "output_type": "stream",
     "text": [
      "saisissez un nombre non nul : 45\n",
      "l'inverse de 45 est 0.022222222222222223\n"
     ]
    }
   ],
   "source": [
    "#tester ce code avec Shift+Entrée\n",
    "x=0\n",
    "while (x==0):\n",
    "       x=eval(input(\"saisissez un nombre non nul : \"))\n",
    "print(\"l'inverse de\",x,\"est\",1/x)"
   ]
  },
  {
   "cell_type": "markdown",
   "metadata": {},
   "source": [
    "## A vous de jouer ..."
   ]
  },
  {
   "cell_type": "markdown",
   "metadata": {},
   "source": [
    "Soit $(u_n)_{n\\in\\mathbb N}$ la suite définie par\n",
    "- $u_0=2$\n",
    "- $u_{n+1}=0,2\\times u_n+5$\n",
    "\n",
    "Afficher les 10 premiers termes de la suite $(u_n)$"
   ]
  },
  {
   "cell_type": "code",
   "execution_count": null,
   "metadata": {},
   "outputs": [],
   "source": [
    "# Ecrire votre code ici"
   ]
  },
  {
   "cell_type": "markdown",
   "metadata": {},
   "source": [
    "Proposer un autre programme qui s'arrète au rang $n$ pour lequel $u_n\\geqslant 6.24995$"
   ]
  },
  {
   "cell_type": "code",
   "execution_count": null,
   "metadata": {},
   "outputs": [],
   "source": [
    "# Ecrire votre code ici"
   ]
  },
  {
   "cell_type": "markdown",
   "metadata": {},
   "source": [
    "## Instruction Si...Alors...Sinon"
   ]
  },
  {
   "cell_type": "markdown",
   "metadata": {},
   "source": [
    "Observez le fonctionnement du programme ci-dessous :"
   ]
  },
  {
   "cell_type": "code",
   "execution_count": null,
   "metadata": {},
   "outputs": [],
   "source": [
    "#tester ce code avec Shift+Entrée\n",
    "n=eval(input(\"Saisissez la valeur de n\"))\n",
    "if n%2==0 :\n",
    "    print(n, \" est un nombre pair\")\n",
    "else : \n",
    "    print(n, \" est un nombre impair\")"
   ]
  },
  {
   "cell_type": "markdown",
   "metadata": {},
   "source": [
    "Remarquez que pour tester l'égalité, on utilise l'opérateur `==`\n",
    "\n",
    "En effet le signe `=` est déjà utilisé pour l'affectation d'une valeur à une variable."
   ]
  },
  {
   "cell_type": "markdown",
   "metadata": {},
   "source": [
    "## Exercice de remise en forme : Le programme du juste prix !"
   ]
  },
  {
   "cell_type": "markdown",
   "metadata": {},
   "source": [
    "Pour conclure ces révisions d'activité, vous devrez écrire un programme de juste prix. Voici les règles du jeux :\n",
    "- L'ordinateur *pense* à un nombre entre 1 et 100\n",
    "- Vous devez essayer de le deviner en 10 coups maximum\n",
    "- L'ordinateur affiche **gagné** si vous trouvez en moins de 10 coup, ou **perdu** sinon"
   ]
  },
  {
   "cell_type": "markdown",
   "metadata": {},
   "source": [
    "### Quelques indices :"
   ]
  },
  {
   "cell_type": "markdown",
   "metadata": {},
   "source": [
    "Pour choisir un nombre aléatoire entre 1 et 100, on peut utiliser l'instruction **randint** :"
   ]
  },
  {
   "cell_type": "code",
   "execution_count": null,
   "metadata": {},
   "outputs": [],
   "source": [
    "import random #on importe la bibliothèque random qui contient la fonction randint\n",
    "print(random.randint(1,10)) "
   ]
  },
  {
   "cell_type": "markdown",
   "metadata": {},
   "source": [
    "Dans l'exemple ci-dessus, la borne 1 est **incluse** et la borne 10 est **exclue**. N'hésitez pas à lancer plusieurs fois ce code pour tester."
   ]
  },
  {
   "cell_type": "markdown",
   "metadata": {},
   "source": [
    "On pourra utiliser une boucle tant que, une variable pour comptabiliser le nombre de coups et des tests si... alors... sinon.\n",
    "Il est fortement conseillé d'écrire un algorithme en langage naturel avant de se lancer dans le programme.\n",
    "A vous de jouer !"
   ]
  },
  {
   "cell_type": "code",
   "execution_count": null,
   "metadata": {},
   "outputs": [],
   "source": [
    "# Ecrire votre programme ici...."
   ]
  }
 ],
 "metadata": {
  "kernelspec": {
   "display_name": "Python 3",
   "language": "python",
   "name": "python3"
  },
  "language_info": {
   "codemirror_mode": {
    "name": "ipython",
    "version": 3
   },
   "file_extension": ".py",
   "mimetype": "text/x-python",
   "name": "python",
   "nbconvert_exporter": "python",
   "pygments_lexer": "ipython3",
   "version": "3.7.6"
  }
 },
 "nbformat": 4,
 "nbformat_minor": 1
}
