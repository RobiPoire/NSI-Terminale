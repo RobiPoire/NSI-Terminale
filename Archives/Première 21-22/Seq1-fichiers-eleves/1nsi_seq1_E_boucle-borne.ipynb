{
 "cells": [
  {
   "cell_type": "markdown",
   "metadata": {},
   "source": [
    "<img src=\"img/modele_nsi.png\" style=\"width:220px;height:107px\" align=\"left\"/> <h2> <font color=\"purple\"> <div align=\"right\">Séquence 0 Boucle bornée </div>  </h2>"
   ]
  },
  {
   "cell_type": "markdown",
   "metadata": {},
   "source": [
    "<h1> <u> 1- Répéter une ou plusieurs instructions </u> </h1>"
   ]
  },
  {
   "cell_type": "markdown",
   "metadata": {},
   "source": [
    "<h2> <font color=\"red\"> Objectif: Ecrire un programme qui répète plusieurs fois la même action.</h2>"
   ]
  },
  {
   "cell_type": "markdown",
   "metadata": {},
   "source": [
    "<b> <font color=\"blue\" size=3> Ecrire un programme qui affiche 5 fois le mot *Score* en utilisant l'instruction \"print()\"</b>"
   ]
  },
  {
   "cell_type": "code",
   "execution_count": null,
   "metadata": {},
   "outputs": [],
   "source": []
  },
  {
   "cell_type": "markdown",
   "metadata": {},
   "source": [
    "<b> <font color=\"blue\" size=3> Tester le programme suivant:</b>"
   ]
  },
  {
   "cell_type": "code",
   "execution_count": null,
   "metadata": {},
   "outputs": [],
   "source": [
    "for loop in range(5):\n",
    "    print(\"Score partie:\")"
   ]
  },
  {
   "cell_type": "markdown",
   "metadata": {},
   "source": [
    "<b> <font color=\"black\" size=3> On modifie légèrement le programme précédent.</b><br>\n",
    "<b> <font color=\"blue\" size=3> Tester le programme. Que constatez-vous?</b>"
   ]
  },
  {
   "cell_type": "code",
   "execution_count": null,
   "metadata": {},
   "outputs": [],
   "source": [
    "for i in range(5):\n",
    "    print(\"Score partie:\")"
   ]
  },
  {
   "cell_type": "markdown",
   "metadata": {},
   "source": [
    "<b> <font color=\"black\" size=3> On modifie à nouveau le programme précédent.</b><br>\n",
    "<b> <font color=\"blue\" size=3> Quelles modifications avons nous à l'affichage?</b><br>\n",
    "<b> <font color=\"blue\" size=3> Quelles modifications avons-nous apporté au programme?"
   ]
  },
  {
   "cell_type": "code",
   "execution_count": null,
   "metadata": {
    "scrolled": true
   },
   "outputs": [],
   "source": [
    "for i in range(5):\n",
    "    print(\"Score partie:\", i)"
   ]
  },
  {
   "cell_type": "markdown",
   "metadata": {
    "collapsed": true
   },
   "source": [
    "<b> <font color=\"blue\" size=3> Ecrire un programme qui affiche le nombre de voitures qui rentre dans un parking. Le nombre maximale de voiture est de 10.</b>"
   ]
  },
  {
   "cell_type": "markdown",
   "metadata": {
    "collapsed": true
   },
   "source": [
    "#### Résultat attendu:\n",
    "    compteur = 1\n",
    "    compteur = 2\n",
    "    compteur = 3\n",
    "    compteur = 4\n",
    "    ..."
   ]
  },
  {
   "cell_type": "code",
   "execution_count": null,
   "metadata": {},
   "outputs": [],
   "source": []
  }
 ],
 "metadata": {
  "kernelspec": {
   "display_name": "Python 3",
   "language": "python",
   "name": "python3"
  },
  "language_info": {
   "codemirror_mode": {
    "name": "ipython",
    "version": 3
   },
   "file_extension": ".py",
   "mimetype": "text/x-python",
   "name": "python",
   "nbconvert_exporter": "python",
   "pygments_lexer": "ipython3",
   "version": "3.7.6"
  }
 },
 "nbformat": 4,
 "nbformat_minor": 2
}
