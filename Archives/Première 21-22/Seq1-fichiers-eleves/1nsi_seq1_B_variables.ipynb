{
 "cells": [
  {
   "cell_type": "markdown",
   "metadata": {},
   "source": [
    "<img src=\"img/modele_nsi.png\" style=\"width:220px;height:107px\" align=\"left\"/> <h2> <font color=\"purple\"> <div align=\"right\">Séquence 1 Variables </div>  </h2>"
   ]
  },
  {
   "cell_type": "markdown",
   "metadata": {},
   "source": [
    "<h1> <u> 1- Manipuler des chiffres et des nombres </u> </h1>"
   ]
  },
  {
   "cell_type": "markdown",
   "metadata": {},
   "source": [
    "<h2> <font color=\"red\"> Objectif: Manipuler des données chiffrées (par exemple le score d'un jeu) et l'afficher à destination du joueur </h2>"
   ]
  },
  {
   "cell_type": "markdown",
   "metadata": {},
   "source": [
    "<h2> <u> 1-1 Introduction </u> </h2>"
   ]
  },
  {
   "cell_type": "markdown",
   "metadata": {},
   "source": [
    "<b> <font color=\"blue\" size=3> Le programme suivant permet d'afficher le nombre zéro.<br>\n",
    "Exécuter ce programme.</b>"
   ]
  },
  {
   "cell_type": "code",
   "execution_count": null,
   "metadata": {},
   "outputs": [],
   "source": [
    "print(0)"
   ]
  },
  {
   "cell_type": "markdown",
   "metadata": {},
   "source": [
    "<b> <font color=\"blue\" size=3> Le programme suivant permet d'afficher le résultat de l'addition 0+1.<br>\n",
    "Exécuter ce programme. Quel est le résultat obtenu?</b>"
   ]
  },
  {
   "cell_type": "code",
   "execution_count": null,
   "metadata": {},
   "outputs": [],
   "source": [
    "print(0+1)"
   ]
  },
  {
   "cell_type": "markdown",
   "metadata": {},
   "source": [
    "<b> <font color=\"blue\" size=3> Le programme suivant qui est sensé afficher le résultat de l'addition 0+1.<br>\n",
    "Exécuter ce programme. Quel est le résultat obtenu?</b>"
   ]
  },
  {
   "cell_type": "code",
   "execution_count": null,
   "metadata": {},
   "outputs": [],
   "source": [
    "print(\"0+1\")"
   ]
  },
  {
   "cell_type": "markdown",
   "metadata": {},
   "source": [
    "<b> <font color=\"black\" size=3> Quelques explications:</b>"
   ]
  },
  {
   "cell_type": "markdown",
   "metadata": {},
   "source": [
    "<font color=\"black\" size=3>\"0+1\" de l'instruction print(\"0+1\") est appelé chaîne de caractères, c'est tout simplement du texte tel qu'on le saisirait dans un logiciel de traitement de texte.<br>\n",
    "0 de l'instruction print(0) est un nombre stocké dans un emplacement mémoire de l'ordinateur. Il peut être utilisé et réutilisé pour faire du calcul."
   ]
  },
  {
   "cell_type": "markdown",
   "metadata": {},
   "source": [
    "<b> <font color=\"blue\" size=3> Saisir puis exécuter le programme suivant:</b>"
   ]
  },
  {
   "cell_type": "code",
   "execution_count": null,
   "metadata": {},
   "outputs": [],
   "source": [
    "nbre=0\n",
    "print(nbre)"
   ]
  },
  {
   "cell_type": "markdown",
   "metadata": {},
   "source": [
    "<b> <font color=\"blue\" size=3> En vous inspirant uniquement du programme précédent, écrire le programme qui permet d'additionner le chiffre 0 au chiffre 1 et qui affiche le résultat dans la console.</b>"
   ]
  },
  {
   "cell_type": "code",
   "execution_count": null,
   "metadata": {},
   "outputs": [],
   "source": []
  },
  {
   "cell_type": "markdown",
   "metadata": {},
   "source": [
    "<h2> <u> 1-2 Les variables </u> </h2>"
   ]
  },
  {
   "cell_type": "markdown",
   "metadata": {},
   "source": [
    "### a- Une variable c'est quoi?"
   ]
  },
  {
   "cell_type": "markdown",
   "metadata": {},
   "source": [
    "<font color=\"black\" size=3> Les variables permettent de stocker des valeurs.<br>\n",
    "Elles sont un moyen de nommer les informations pour une utilisation dans un programme.<br><br>\n",
    "Chaque variable a un nom, par exemple, dans l'instruction:<br>\n",
    "    &nbsp;&nbsp;&nbsp;<B>nbre=0</B>, <B>nbre</B> est le nom de la variable.<br><br>\n",
    "Pour stocker de l'information dans une variable, nous écrivons une commande en utilisant le signe égal <b>=</b> de la manière suivante: \n",
    "dans notre exemple on affecte la valeur <b>0</b> à la variable <b>nbre</b>"
   ]
  },
  {
   "cell_type": "markdown",
   "metadata": {},
   "source": [
    "<b> <font color=\"blue\" size=3> On souhaite affecter la valeur 25 à la variable varAutil, écrire la ligne qui permet de réaliser l'affectation puis afficher le résultat.</b>"
   ]
  },
  {
   "cell_type": "code",
   "execution_count": null,
   "metadata": {},
   "outputs": [],
   "source": []
  },
  {
   "cell_type": "markdown",
   "metadata": {},
   "source": [
    "### b- Les différents types de variables"
   ]
  },
  {
   "cell_type": "markdown",
   "metadata": {},
   "source": [
    "Les variables peuvent contenir différents types d'informations. On dit qu'elles sont de type :\n",
    "- *int* : entiers (ex : -2 ; 5)\n",
    "- *float* : décimal (ex -2.0 ; 2e6=2000000.0)\n",
    "- *str* : chaîne de caractère (ex 'Bonjour' ; \"Autre exemple\" ; \"2+3\" ; \"5\")\n",
    "- *bool* : Booléen : Vrai ou Faux. (ex : 2==3, False, 3<4)\n",
    "- *list* : Tableau ou liste (ex : [1,'toto', 2.0] ; [[1,2],[3,4]])"
   ]
  },
  {
   "cell_type": "markdown",
   "metadata": {},
   "source": [
    "<h2> <u> 1-3 Manipulations de bases sur les variables </u> </h2>"
   ]
  },
  {
   "cell_type": "markdown",
   "metadata": {},
   "source": [
    "<h3> <u> a- Affectations simples </u> </h3>"
   ]
  },
  {
   "cell_type": "markdown",
   "metadata": {},
   "source": [
    "<b> <font color=\"black\" size=3>On a vu précédemment comment affecter une valeur à une variable.<br>\n",
    "    Python devine tout seul le type des variables.</b>"
   ]
  },
  {
   "cell_type": "markdown",
   "metadata": {},
   "source": [
    "<font color=\"black\" size=3> nbreParticipe=150<br>\n",
    "distance=5.5<br>\n",
    "nomCourse=\"Triathlon de l'Oiselet\""
   ]
  },
  {
   "cell_type": "markdown",
   "metadata": {},
   "source": [
    "<b> <font color=\"blue\" size=3> Indiquer pour chaque variable son type.</b>"
   ]
  },
  {
   "cell_type": "markdown",
   "metadata": {},
   "source": [
    "<h3> <u> b- Affectations simultanées </u> </h3>"
   ]
  },
  {
   "cell_type": "markdown",
   "metadata": {},
   "source": [
    "<b> <font color=\"blue\" size=3> Tester le programme suivant.</b>"
   ]
  },
  {
   "cell_type": "code",
   "execution_count": null,
   "metadata": {},
   "outputs": [],
   "source": [
    "x,y=1,2\n",
    "print(x,y)"
   ]
  },
  {
   "cell_type": "markdown",
   "metadata": {},
   "source": [
    "<h3> <u> c- Echange du contenu de deux variables </u> </h3>"
   ]
  },
  {
   "cell_type": "markdown",
   "metadata": {},
   "source": [
    "<b> <font color=\"black\" size=3>Une application très classique de l'affectation simultanée est l'échange du contenu de deux variables<br>\n",
    "<b> <font color=\"blue\" size=3> On souhaite échanger le contenu de 2 variables, en utilisant A=B puis B=A, compléter et tester le programme ci-dessous:</b>"
   ]
  },
  {
   "cell_type": "code",
   "execution_count": null,
   "metadata": {},
   "outputs": [],
   "source": [
    "A=12\n",
    "B=30\n",
    "#remplacer cette ligne par un code qui affiche les valeurs de A et B\n",
    "A=B\n",
    "B=A\n",
    "#afficher à nouveau les valeurs de A et B"
   ]
  },
  {
   "cell_type": "markdown",
   "metadata": {},
   "source": [
    "<b> <font color=\"black\" size=3> Problème : la 4ème ligne efface de la mémoire la valeur de A, de sorte que A devient égal à B. L'instruction B=A est alors inutile.<br>\n",
    "<font color=\"blue\" size=3> Comment contourner ce problème ? il faut avoir recours à une mémoire temporaire, rédiger un bout de code ci-dessous permettant l'échange avec une variable temporaire nommée temp. </b>"
   ]
  },
  {
   "cell_type": "code",
   "execution_count": null,
   "metadata": {},
   "outputs": [],
   "source": [
    "A=12\n",
    "B=30\n",
    "......compléter le code......"
   ]
  },
  {
   "cell_type": "markdown",
   "metadata": {},
   "source": [
    "<b> <font color=\"black\" size=3> L'affectation croisée A,B=B,A permet en une seule ligne d'échanger les contenus des variables A et B. Tentons maintenant d'échanger deux variables A et B avec une affectation multiple :</b>"
   ]
  },
  {
   "cell_type": "markdown",
   "metadata": {},
   "source": [
    "<b> <font color=\"blue\" size=3> Ecrire un programme qui permet d'échanger le contenu de deux variables en une seule ligne.<br>\n",
    "- Créer et affecter une valeur à la variable<br>\n",
    "- Afficher la valeur initial des deux variables<br>\n",
    "- Echanger les contenus<br>\n",
    "- Afficher la valeur finale des deux variables</b>"
   ]
  },
  {
   "cell_type": "code",
   "execution_count": null,
   "metadata": {},
   "outputs": [],
   "source": []
  },
  {
   "cell_type": "markdown",
   "metadata": {},
   "source": [
    "<h2> <u> 1-4 Application </u> </h2>"
   ]
  },
  {
   "cell_type": "markdown",
   "metadata": {},
   "source": [
    "<b> <font color=\"black\" size=3> Un sportif qui participe à une épreuve de triathlon doit enchaîner 2 km de natation, 34 km de cyclisme et 6 km de cour se à pied."
   ]
  },
  {
   "cell_type": "markdown",
   "metadata": {},
   "source": [
    "<b> <font color=\"blue\" size=3> On souhaire calculer la distance totale parcourue par le triathlète lors de cette épreuve. On vous demande d'écrire le programme permettant de calculer cette valeur. Pour cela Creer une variable:<br>\n",
    "- distNat qui permet de stocker la distance de l'épreuve de natation.<br>\n",
    "- distCycl qui permet de stocker la distance de l'épreuve de cyclisme.<br>\n",
    "- distCourse qui permet de stocker la distance de l'épreuve de course à pied.<br>\n",
    "- distTot qui permet de stocker la distance totale.<br><br>\n",
    "    Puis:\n",
    "- Calculer et afficher dans la console le résultat du calcul.</b>"
   ]
  },
  {
   "cell_type": "code",
   "execution_count": null,
   "metadata": {},
   "outputs": [],
   "source": []
  },
  {
   "cell_type": "markdown",
   "metadata": {},
   "source": [
    "<b> <font color=\"blue\" size=3> On souhaite améliorer l'affichage du résultat. A partir de l'exemple donné ci-dessous, modifier le programme précédent afin d'afficher La distance totale est de 42 km.</b>"
   ]
  },
  {
   "cell_type": "markdown",
   "metadata": {},
   "source": [
    "var = 5<br>\n",
    "print(\"La valeur est de: \", var, \"bombons\")"
   ]
  },
  {
   "cell_type": "code",
   "execution_count": null,
   "metadata": {},
   "outputs": [],
   "source": [
    "# copier coller le programme précédent ici et apporter les modifications"
   ]
  },
  {
   "cell_type": "markdown",
   "metadata": {},
   "source": [
    "### Si le triathlète lors de ses entrainements parcourt en vélo 60 km sur une seule journée. Sachant qu'il s'entraine deux fois par semaine.\n",
    "### <font color=\"blue\"> Ecrire le programme qui permet de calculer puis d'afficher la distance parcourue en un mois. \n",
    "### On utilisera les variables suivantes:<br>\n",
    "    distEntraine pour la distance d'entrainement journée <br>\n",
    "    nbreEntraine pour le nombre d'entrainement par semaine <br>\n",
    "    nbreKmsVelo pour le nombre de kilomètres parcourue en un mois"
   ]
  },
  {
   "cell_type": "code",
   "execution_count": null,
   "metadata": {},
   "outputs": [],
   "source": []
  },
  {
   "cell_type": "markdown",
   "metadata": {},
   "source": [
    "<b> <font color=\"black\" size=3> Notre triathlète a bouclé l'épreuve en un temps total de 113 minutes. Il a parcouru les 34km de vélo en 60 minutes et les 2km de natation en 25 minutes.</b><br>\n",
    "<b> <font color=\"blue\" size=3> Ecrire le programme qui permet de caluler et d'afficher le temps qu'a mis notre athlète pour parcourir les 6 km de course à pieds.</b><br><br>\n",
    "<b> <font color=\"black\" size=3> Vous devez, si besoin, définir le nom des variables qui seraient à créer.</b><br>"
   ]
  },
  {
   "cell_type": "code",
   "execution_count": null,
   "metadata": {},
   "outputs": [],
   "source": []
  },
  {
   "cell_type": "markdown",
   "metadata": {},
   "source": [
    "<b> <font color=\"black\" size=3> Notre sportif de haut niveau a parcouru les 42 km (distance totale) en un temps total de 113 mn.<br>\n",
    "<b> <font color=\"blue\" size=3> Ecrire le programme qui permet de caluler et d'afficher sa vitesse moyenne.</b>\n",
    "    \n",
    "    \n",
    "<b> <font color=\"black\" size=3> Vous devez, si besoin, définir le nom des variables qui seraient à créer.</b><br>    "
   ]
  },
  {
   "cell_type": "code",
   "execution_count": null,
   "metadata": {},
   "outputs": [],
   "source": []
  }
 ],
 "metadata": {
  "kernelspec": {
   "display_name": "Python 3",
   "language": "python",
   "name": "python3"
  },
  "language_info": {
   "codemirror_mode": {
    "name": "ipython",
    "version": 3
   },
   "file_extension": ".py",
   "mimetype": "text/x-python",
   "name": "python",
   "nbconvert_exporter": "python",
   "pygments_lexer": "ipython3",
   "version": "3.7.6"
  }
 },
 "nbformat": 4,
 "nbformat_minor": 2
}
