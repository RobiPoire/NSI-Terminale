{
 "cells": [
  {
   "cell_type": "markdown",
   "metadata": {},
   "source": [
    "Afin de pouvoir personnaliser votre classeur sans détruire le classeur sur lequel travaille votre voisin, vous allez tout d'abord aller dans le menu **`File`** puis **`Make a copy...`**. Renommez le classeur en ajoutant votre nom à la fin du nom de fichier par exemple."
   ]
  },
  {
   "cell_type": "markdown",
   "metadata": {},
   "source": [
    "# Les listes"
   ]
  },
  {
   "cell_type": "markdown",
   "metadata": {},
   "source": [
    "Nous avons déjà rencontré sans le savoir des listes, à travers la commande **range()** :"
   ]
  },
  {
   "cell_type": "code",
   "execution_count": 1,
   "metadata": {},
   "outputs": [
    {
     "data": {
      "text/plain": [
       "[0, 1, 2, 3, 4, 5, 6, 7, 8, 9]"
      ]
     },
     "execution_count": 1,
     "metadata": {},
     "output_type": "execute_result"
    }
   ],
   "source": [
    "#executer cette céllule en appuyant sur MAJ + Entrée\n",
    "list(range(10))"
   ]
  },
  {
   "cell_type": "markdown",
   "metadata": {},
   "source": [
    "Nous allons dans ce chapitre détailler ce qu'est une liste, comment les manipuler et expliquer pourquoi elles sont si importantes en Informatique."
   ]
  },
  {
   "cell_type": "markdown",
   "metadata": {},
   "source": [
    "## Manipulation de listes"
   ]
  },
  {
   "cell_type": "markdown",
   "metadata": {},
   "source": [
    "### Présentation du type list"
   ]
  },
  {
   "cell_type": "markdown",
   "metadata": {},
   "source": [
    "Une **liste** en Python est un objet délimité par deux crochets [  ] et qui renferme un nombre fini d'éléments de n'importe quel type, ces éléments étant séparés par des virgules.\n",
    "\n",
    "Voici quelques caractéristiques sur les listes\n",
    "\n",
    ">- les éléments d'une liste sont ordonnés : si on échange de place deux éléments différents d'une liste, la liste est modifiée.\n",
    ">- les éléments d'une liste sont numérotés **depuis 0**\n",
    ">- un même objet peut appparaître plusieurs fois dans une liste.\n",
    ">- une liste peut contenir des éléments de type différents (nombres, chaines...)"
   ]
  },
  {
   "cell_type": "code",
   "execution_count": 2,
   "metadata": {},
   "outputs": [
    {
     "name": "stdout",
     "output_type": "stream",
     "text": [
      "[21, 'Bonjour', 3, True, [1, 2, 3, 1], 21, 0.284775465498357]\n",
      "<class 'list'>\n"
     ]
    }
   ],
   "source": [
    "Premier_Exemple=[21,\"Bonjour\",1+2,5!=6,[1,2,3,1],21,1.3/4.565] # deux fois la même occurrence\n",
    "print(Premier_Exemple)\n",
    "print(type(Premier_Exemple))"
   ]
  },
  {
   "cell_type": "markdown",
   "metadata": {},
   "source": [
    "### Index d'une liste, longueur d'une liste"
   ]
  },
  {
   "cell_type": "markdown",
   "metadata": {},
   "source": [
    "Les éléments d'une liste appelés **occurrences** sont rangés selon leur **index**, c'est-à-dire la place de l'occurrence dans la liste. Les éléments d'une liste s'appellent via leur index. La syntaxe $L[k]$ donne accès au $k^{\\grave{e}me}$ élément de la liste $L$.\n",
    "\n",
    "Le premier élément d'une liste a pour index $0$. Ainsi, $L[0]$ est toujours égal au premier terme de la liste $L$.\n",
    "\n",
    "La syntaxe $len(L)$ permet de calculer la longueur d'une liste $L$, c'est-à-dire le nombre de ses éléments. \n",
    "\n",
    "Ecrire ci-dessous le code pour afficher le premier élement de la liste Premier_Exemple : ($21$), le quatrième élément ($true$) ainsi que la longueur de la liste ($7$)"
   ]
  },
  {
   "cell_type": "code",
   "execution_count": 3,
   "metadata": {},
   "outputs": [
    {
     "data": {
      "text/plain": [
       "21"
      ]
     },
     "execution_count": 3,
     "metadata": {},
     "output_type": "execute_result"
    }
   ],
   "source": [
    "Premier_Exemple[0]"
   ]
  },
  {
   "cell_type": "markdown",
   "metadata": {},
   "source": [
    "Ecrire ci-dessous le code pour afficher le dernier élement de la liste Premier_Exemple ($ 0.284775465498357$)"
   ]
  },
  {
   "cell_type": "code",
   "execution_count": 4,
   "metadata": {},
   "outputs": [
    {
     "data": {
      "text/plain": [
       "0.284775465498357"
      ]
     },
     "execution_count": 4,
     "metadata": {},
     "output_type": "execute_result"
    }
   ],
   "source": [
    "Premier_Exemple[-1]"
   ]
  },
  {
   "cell_type": "markdown",
   "metadata": {},
   "source": [
    "### Index particuliers :\n",
    "En méttant un $-$ pour l'index, on parcourt la liste en sens inverse (en partant de la fin), $L[-1]$ renvoie toujours au dernier terme de la liste $L$, alors que $L[-len(L)]$ renvoie au premier terme de la liste.\n",
    "\n",
    "La syntaxe $L[k]$, renvoie un message d'erreur si k dépasse la taille de la liste.\n",
    "\n",
    "La liste vide est $[~ ]$ : c'est la seule liste ne contenant aucun élément. Elle sert essentiellement à initialiser une liste à la liste vide pour ensuite la remplir.\n",
    "\n",
    "#### Aplications :\n",
    "Ecrire un code affichant l'avant dernier élément de la liste en utilisant l'indexation inversée (avec un -).\n"
   ]
  },
  {
   "cell_type": "code",
   "execution_count": 5,
   "metadata": {},
   "outputs": [
    {
     "data": {
      "text/plain": [
       "21"
      ]
     },
     "execution_count": 5,
     "metadata": {},
     "output_type": "execute_result"
    }
   ],
   "source": [
    "Premier_Exemple[-2]"
   ]
  },
  {
   "cell_type": "markdown",
   "metadata": {},
   "source": [
    "Afficher l'ensemble des élements de la liste en utilisant une boucle for, un indice k et l'élément de liste Premier_Exemple[k]"
   ]
  },
  {
   "cell_type": "code",
   "execution_count": 7,
   "metadata": {},
   "outputs": [
    {
     "name": "stdout",
     "output_type": "stream",
     "text": [
      "21\n",
      "Bonjour\n",
      "3\n",
      "True\n",
      "[1, 2, 3, 1]\n",
      "21\n",
      "0.284775465498357\n"
     ]
    }
   ],
   "source": [
    "\n",
    "for k in range(len(Premier_Exemple)):\n",
    "    print(Premier_Exemple[k])\n"
   ]
  },
  {
   "cell_type": "markdown",
   "metadata": {},
   "source": [
    "Afficher l'ensemble des élements de la liste en ordre inversé, en utilisant une boucle for, un indice k et l'élément de liste Premier_Exemple[k]"
   ]
  },
  {
   "cell_type": "code",
   "execution_count": 9,
   "metadata": {},
   "outputs": [
    {
     "name": "stdout",
     "output_type": "stream",
     "text": [
      "0.284775465498357\n",
      "21\n",
      "[1, 2, 3, 1]\n",
      "True\n",
      "3\n",
      "Bonjour\n",
      "21\n"
     ]
    }
   ],
   "source": [
    "for k in range(len(Premier_Exemple)):\n",
    "    print(Premier_Exemple[-k-1])"
   ]
  },
  {
   "cell_type": "markdown",
   "metadata": {},
   "source": [
    "### Modification d'une liste"
   ]
  },
  {
   "cell_type": "markdown",
   "metadata": {},
   "source": [
    "Pour modifier une liste, il suffit d'effectuer une affectation à l'un de ses éléments via son index :"
   ]
  },
  {
   "cell_type": "code",
   "execution_count": 10,
   "metadata": {},
   "outputs": [
    {
     "name": "stdout",
     "output_type": "stream",
     "text": [
      "Liste initiale  [[1, 2, 3], 'bonjour', 3]\n",
      "Elément d'index 0 (premier élémment de L) modifié : [[6, 8], 'bonjour', 3]\n",
      "Dernier élément de L modifié : [[6, 8], 'bonjour', 'au revoir']\n",
      "On modifie le premier élément de L : [[6, '8 remplacé par 9'], 'bonjour', 'au revoir']\n"
     ]
    }
   ],
   "source": [
    "L=[[1,2,3],\"bonjour\",3]\n",
    "print(\"Liste initiale \",L)\n",
    "L[0]=[6,8]\n",
    "print(\"Elément d'index 0 (premier élémment de L) modifié :\",L)\n",
    "L[-1]=\"au revoir\"\n",
    "print(\"Dernier élément de L modifié :\", L)\n",
    "L[0][-1]=\"8 remplacé par 9\"\n",
    "print(\"On modifie le premier élément de L :\",L)"
   ]
  },
  {
   "cell_type": "markdown",
   "metadata": {},
   "source": [
    "#### Applications :\n",
    "Ecrire les 2 lignes permettant de modifier le **'au revoir'** en **'See you soon'** et de l'afficher :\n"
   ]
  },
  {
   "cell_type": "code",
   "execution_count": 13,
   "metadata": {},
   "outputs": [
    {
     "name": "stdout",
     "output_type": "stream",
     "text": [
      "[[6, '8 remplacé par 9'], 'bonjour', 'See you soon']\n"
     ]
    }
   ],
   "source": [
    "L[-1]=\"See you soon\"\n",
    "print(L)\n",
    "\n"
   ]
  },
  {
   "cell_type": "markdown",
   "metadata": {},
   "source": [
    "Ecrire un code permettant :\n",
    "- de créer une liste nommée BFF et qui contient **'Emma Watson'** , **'Margot Robbie'** , **'Bradley Cooper'** , **'Cole Sprouse '**,\n",
    "- de l'afficher.\n"
   ]
  },
  {
   "cell_type": "code",
   "execution_count": 14,
   "metadata": {},
   "outputs": [
    {
     "name": "stdout",
     "output_type": "stream",
     "text": [
      "['Emma Watson', 'Margot Robbie', 'Bradley Cooper', 'Cole Sprouse']\n"
     ]
    }
   ],
   "source": [
    "BFF=[\"Emma Watson\",\"Margot Robbie\",\"Bradley Cooper\",\"Cole Sprouse\"]\n",
    "print(BFF)"
   ]
  },
  {
   "cell_type": "markdown",
   "metadata": {},
   "source": [
    "Vous décidez d'ajouter les numéros de télephone dans votre liste BFF :\n",
    "- remplacer chaque **'prénom nom'** par une liste contenant **['prénom nom','numéro de telephone']** \n",
    "- On donne les numéros ci dessous : \n",
    "\n",
    "Emma Watson : 06 12 34 56 78 , Margot Robbie : 07 23 45 67 89 , Bradley Cooper : 06 98 76 54 32 et Cole Sprouse = 07 12 23 34 45  "
   ]
  },
  {
   "cell_type": "code",
   "execution_count": 15,
   "metadata": {},
   "outputs": [
    {
     "name": "stdout",
     "output_type": "stream",
     "text": [
      "[['Emma Watson', '06 12 34 56 78'], ['Margot Robbie', '07 23 45 67 89'], ['Bradley Cooper', '06 98 76 54 32'], ['Cole Sprouse', '07 12 23 34 45']]\n"
     ]
    }
   ],
   "source": [
    "BFF[0]=[\"Emma Watson\",\"06 12 34 56 78\"]\n",
    "BFF[1]=[\"Margot Robbie\",\"07 23 45 67 89\"]\n",
    "BFF[2]=[\"Bradley Cooper\",\"06 98 76 54 32\"]\n",
    "BFF[3]=[\"Cole Sprouse\",\"07 12 23 34 45\"]\n",
    "print(BFF)"
   ]
  },
  {
   "cell_type": "markdown",
   "metadata": {},
   "source": [
    "Vous recevez à l'instant un SMS d'**Emma Watson** qui vous donne son deuxième numéro de téléphone (07 87 65 43 21) : \n",
    "- Compléter la liste pour que le premier élément contienne une liste avec ses prénom nom suivi de ses 2 numéros de téléphone.  "
   ]
  },
  {
   "cell_type": "code",
   "execution_count": 16,
   "metadata": {},
   "outputs": [
    {
     "name": "stdout",
     "output_type": "stream",
     "text": [
      "[['Emma Watson', '06 12 34 56 78', '07 87 65 43 21'], ['Margot Robbie', '07 23 45 67 89'], ['Bradley Cooper', '06 98 76 54 32'], ['Cole Sprouse', '07 12 23 34 45']]\n"
     ]
    }
   ],
   "source": [
    "BFF[0]=[\"Emma Watson\",\"06 12 34 56 78\",\"07 87 65 43 21\"]\n",
    "print(BFF)"
   ]
  },
  {
   "cell_type": "markdown",
   "metadata": {},
   "source": [
    "Vous vous rendez compte que le numéro de **Bradley Cooper** ne se termine pas par 32 mais par 33, corrigez vite cela :"
   ]
  },
  {
   "cell_type": "code",
   "execution_count": 18,
   "metadata": {},
   "outputs": [
    {
     "name": "stdout",
     "output_type": "stream",
     "text": [
      "[['Emma Watson', '06 12 34 56 78', '07 87 65 43 21'], ['Margot Robbie', '07 23 45 67 89'], ['Bradley Cooper', '06 98 76 54 33'], ['Cole Sprouse', '07 12 23 34 45']]\n"
     ]
    }
   ],
   "source": [
    "BFF[2][1]=\"06 98 76 54 33\"\n",
    "print(BFF)"
   ]
  },
  {
   "cell_type": "markdown",
   "metadata": {},
   "source": [
    "## Premières opérations sur les listes"
   ]
  },
  {
   "cell_type": "markdown",
   "metadata": {},
   "source": [
    "Etant donné des listes, à partir de certaines opérations élémentaires, on peut en former d'autres. Le paragraphe précédent montre d'ailleurs un moyen assez performant pour extraire des éléments d'une liste, pour donc en former d'autres. Nous allons présenter ici des manipulations d'ordre algébrique."
   ]
  },
  {
   "cell_type": "markdown",
   "metadata": {},
   "source": [
    "### L'addition ou la concaténation"
   ]
  },
  {
   "cell_type": "markdown",
   "metadata": {},
   "source": [
    "L'**addition** ou la **concaténation** entre listes permet de *coller* deux listes l'une avec l'autre.\n",
    "\n",
    "Si $L$ et $M$ sont deux listes, on peut former la concaténation entre ces deux listes selon la syntaxe : $L+M$ \n",
    "- Compléter l'exemple ci-dessous pour créer une liste N qui est la somme de L et M. \n",
    "- Afficher alors les éléments de cette liste en sens inverse :)"
   ]
  },
  {
   "cell_type": "code",
   "execution_count": 106,
   "metadata": {},
   "outputs": [
    {
     "name": "stdout",
     "output_type": "stream",
     "text": [
      "Luke\n",
      ",\n",
      "je\n",
      "suis\n",
      "ton\n",
      "Père\n",
      "!\n"
     ]
    }
   ],
   "source": [
    "L=[\"!\",\"Père\", \"ton\"]\n",
    "M=[\"suis\",\"je\",\",\",\"Luke\"]\n",
    "\n",
    "N=L+M\n",
    "for k in range(len(N)):\n",
    "    print(N[-k-1])\n",
    "\n"
   ]
  },
  {
   "cell_type": "markdown",
   "metadata": {},
   "source": [
    "### La mutliplication externe d'une liste pas un entier"
   ]
  },
  {
   "cell_type": "markdown",
   "metadata": {},
   "source": [
    "La **multiplication** d'une liste par une **valeur entière** permet la répétition de la liste un nombre de fois égale à l'entier choisi. La multiplication par une valeur non entière conduit à un message d'erreur et conduit à la liste vide lorsque l'entier est négatif ou nul."
   ]
  },
  {
   "cell_type": "code",
   "execution_count": 107,
   "metadata": {},
   "outputs": [
    {
     "name": "stdout",
     "output_type": "stream",
     "text": [
      "Luke , je suis ton Père ! \n",
      "['Luke', ',', 'je', 'suis', 'ton', 'Père', '!', 'Luke', ',', 'je', 'suis', 'ton', 'Père', '!', 'Luke', ',', 'je', 'suis', 'ton', 'Père', '!', 'Luke', ',', 'je', 'suis', 'ton', 'Père', '!', 'Luke', ',', 'je', 'suis', 'ton', 'Père', '!', 'Luke', ',', 'je', 'suis', 'ton', 'Père', '!', 'Luke', ',', 'je', 'suis', 'ton', 'Père', '!', 'Luke', ',', 'je', 'suis', 'ton', 'Père', '!', 'Luke', ',', 'je', 'suis', 'ton', 'Père', '!', 'Luke', ',', 'je', 'suis', 'ton', 'Père', '!']\n",
      "[]\n",
      "[]\n"
     ]
    }
   ],
   "source": [
    "L=[\"!\",\"Père\", \"ton\"]\n",
    "M=[\"suis\",\"je\",\",\",\"Luke\"]\n",
    "N=L+M\n",
    "N.reverse()  ##remarquer cette methode qui permet d'inverser les élèments d'une liste\n",
    "for mots in N: ##remarquer cette methode très efficace pour parcourir la liste :)\n",
    "    print (mots,end=' ')\n",
    "print()\n",
    "print(10*N)\n",
    "print(-1*L)\n",
    "#print(3.56*L)\n",
    "print(0*L)"
   ]
  },
  {
   "cell_type": "markdown",
   "metadata": {},
   "source": [
    "### Chaîne de caractère et liste\n",
    "Les chaînes de caractères et les listes sont très proches, elles appartiennent aux données de type séquences.\n",
    "On peut accéder à un caractère d'une chaine en utilisant son indice : `Bonjour[0]`correspond au caractère 'B'.\n",
    "Taper ci-dessous le code pour afficher la 3ème lettre de la chaine de caractère 'Luke'"
   ]
  },
  {
   "cell_type": "code",
   "execution_count": 109,
   "metadata": {},
   "outputs": [
    {
     "name": "stdout",
     "output_type": "stream",
     "text": [
      "k\n"
     ]
    }
   ],
   "source": [
    "chaine=\"luke\"\n",
    "#code pour afficher la 3ème lettre de la chaine\n",
    "print(chaine[2])\n"
   ]
  },
  {
   "cell_type": "markdown",
   "metadata": {},
   "source": [
    "Si l'on souhaite transformer une chaine en une liste, il suffit d'utiliser la commande ma_liste = list(chaine)\n",
    "Inversemment, on peut transformer une liste en chaine de caractère, en utlisant la commande join :\n",
    "\n",
    "ma_liste =['a','b','c']\n",
    "\n",
    "ma_chaine = \"\".join(ma_liste) \n",
    "\n",
    "donera `abc`\n",
    "\n",
    "Application : On vous donne ci-dessous une liste de lettres, complèter le code pour :\n",
    "- convertir cette liste en chaine de caractères.\n",
    "- l'afficher\n",
    "- modifier le code pour inverser la liste"
   ]
  },
  {
   "cell_type": "code",
   "execution_count": 110,
   "metadata": {},
   "outputs": [
    {
     "name": "stdout",
     "output_type": "stream",
     "text": [
      "La peur est le chemin vers le côté obscur: la peur mène à la colère,  le colère mène à la haine, la haine mène à la souffrance.\n"
     ]
    }
   ],
   "source": [
    "lettres = ['.', 'e', 'c', 'n', 'a', 'r', 'f', 'f', 'u', 'o', 's', ' ', 'a', 'l', ' ', 'à', ' ', 'e', 'n', 'è', 'm', ' ', 'e', 'n', 'i', 'a', 'h', ' ', 'a', 'l', ' ', ',', 'e', 'n', 'i', 'a', 'h', ' ', 'a', 'l', ' ', 'à', ' ', 'e', 'n', 'è', 'm', ' ', 'e', 'r', 'è', 'l', 'o', 'c', ' ', 'e', 'l', ' ', ' ', ',', 'e', 'r', 'è', 'l', 'o', 'c', ' ', 'a', 'l', ' ', 'à', ' ', 'e', 'n', 'è', 'm', ' ', 'r', 'u', 'e', 'p', ' ', 'a', 'l', ' ', ':', 'r', 'u', 'c', 's', 'b', 'o', ' ', 'é', 't', 'ô', 'c', ' ', 'e', 'l', ' ', 's', 'r', 'e', 'v', ' ', 'n', 'i', 'm', 'e', 'h', 'c', ' ', 'e', 'l', ' ', 't', 's', 'e', ' ', 'r', 'u', 'e', 'p', ' ', 'a', 'L']\n",
    "\n",
    "lettres.reverse()\n",
    "chaine = \"\".join(lettres)\n",
    "print(chaine)\n"
   ]
  },
  {
   "cell_type": "markdown",
   "metadata": {},
   "source": [
    "### La longueur d'une liste "
   ]
  },
  {
   "cell_type": "markdown",
   "metadata": {},
   "source": [
    "On rappelle que la syntaxe $len(L)$ donne la longueur de $L$ :"
   ]
  },
  {
   "cell_type": "code",
   "execution_count": 111,
   "metadata": {},
   "outputs": [
    {
     "name": "stdout",
     "output_type": "stream",
     "text": [
      "0\n",
      "9\n"
     ]
    }
   ],
   "source": [
    "print(len([]))\n",
    "L=[3,4,3,2,3,2,\"bonjour\"!=\"au revoir\",\"True\"!=True,2>3.9]\n",
    "print(len(L))"
   ]
  },
  {
   "cell_type": "markdown",
   "metadata": {},
   "source": [
    "### La somme des termes d'une liste"
   ]
  },
  {
   "cell_type": "markdown",
   "metadata": {},
   "source": [
    "On suppose ici qu'une liste ne contient que des valeurs numériques, par exemple la liste L ci-dessous :"
   ]
  },
  {
   "cell_type": "code",
   "execution_count": 112,
   "metadata": {},
   "outputs": [],
   "source": [
    "L=list(range(30))"
   ]
  },
  {
   "cell_type": "markdown",
   "metadata": {},
   "source": [
    "Ecrire une fonction ***somme*** prenant en argument une liste et retournant la somme de tous les termes de la liste"
   ]
  },
  {
   "cell_type": "code",
   "execution_count": 115,
   "metadata": {},
   "outputs": [],
   "source": [
    "def somme(L):\n",
    "    somme=0\n",
    "    for k in range(len(L)):\n",
    "        somme=somme+L[k]\n",
    "    return somme\n"
   ]
  },
  {
   "cell_type": "markdown",
   "metadata": {},
   "source": [
    "Tester votre fonction sur la liste des entiers de 1 à 29 fabriquée ci-dessus"
   ]
  },
  {
   "cell_type": "code",
   "execution_count": 114,
   "metadata": {},
   "outputs": [
    {
     "data": {
      "text/plain": [
       "435"
      ]
     },
     "execution_count": 114,
     "metadata": {},
     "output_type": "execute_result"
    }
   ],
   "source": [
    "somme(L)"
   ]
  },
  {
   "cell_type": "markdown",
   "metadata": {},
   "source": [
    "Le calcul d'une somme de termes d'une liste $L$ se fait par  $sum(L)$, à condition d'avoir uniquement des occurrences numériques. Vérifier le bon fonctionnement de votre fonction en calculant ce résultat à l'aide de la fonciton intégrée à Python"
   ]
  },
  {
   "cell_type": "code",
   "execution_count": 118,
   "metadata": {},
   "outputs": [
    {
     "name": "stdout",
     "output_type": "stream",
     "text": [
      "435\n"
     ]
    }
   ],
   "source": [
    "print(sum(L))"
   ]
  },
  {
   "cell_type": "markdown",
   "metadata": {},
   "source": [
    "## Les méthodes sur les listes"
   ]
  },
  {
   "cell_type": "markdown",
   "metadata": {},
   "source": [
    "Il existe encore d'autres moyens de manipulation de listes.\n",
    "\n",
    "Il existe en fait des fonctions déjà prédéfinies dans le logiciel Python pour modifier des listes. Ces moyens prédéfinis s'appellent des **méthodes** et leur syntaxe générale est, étant donnée une liste $L$ : \n",
    "\n",
    "$L.Methode()$, où $Methode()$ fait référence à l'une des méthodes détaillée ci-dessous.\n",
    "\n",
    "Il est à noter qu'une fois la ligne $L.Methode()$ executée, la liste $L$ est, en général, transformée en sa liste modifiée.\n",
    "\n",
    "Ces méthodes revoient à la programmation orientée objet de Python : les listes sont des objets qui sont manipulés, modifiés selon certains transformations et évoluent au grés de ces modifications.\n",
    "\n",
    "Voici un petit catalogue des méthodes utiles :"
   ]
  },
  {
   "cell_type": "markdown",
   "metadata": {},
   "source": [
    "### La méthode .append()"
   ]
  },
  {
   "cell_type": "markdown",
   "metadata": {},
   "source": [
    "La syntaxe  $L.append(objet)$ ajoute $objet$ à droite dans $L$ :"
   ]
  },
  {
   "cell_type": "code",
   "execution_count": 119,
   "metadata": {},
   "outputs": [
    {
     "name": "stdout",
     "output_type": "stream",
     "text": [
      "[0, 1, 2, 3, 4]\n",
      "[0, 1, 2, 3, 4, 'on ajoute une chaîne à droite']\n"
     ]
    }
   ],
   "source": [
    "L=list(range(5))\n",
    "print(L)\n",
    "L.append(\"on ajoute une chaîne à droite\")\n",
    "print(L)  # la liste initiale vient d'être modifiée !"
   ]
  },
  {
   "cell_type": "markdown",
   "metadata": {},
   "source": [
    "### La méthode .insert()"
   ]
  },
  {
   "cell_type": "markdown",
   "metadata": {},
   "source": [
    "La syntaxe $L.insert(Indice,objet)$ insère $objet$ en place $Indice$ dans la liste $L$ et décale le reste des occurrences de $L$ à droite :"
   ]
  },
  {
   "cell_type": "code",
   "execution_count": 120,
   "metadata": {},
   "outputs": [
    {
     "name": "stdout",
     "output_type": "stream",
     "text": [
      "['Pomme', 'Poire', 'Banane']\n",
      "['Pomme', 'Fraise', 'Poire', 'Banane']\n",
      "['Pomme', 'Fraise', 'Poire', 'Ananas', 'Banane']\n",
      "['Pomme', 'Ananas', 'Fraise', 'Poire', 'Ananas', 'Banane']\n",
      "['Pomme', 'Ananas', 'Fraise', 'Poire', 'Ananas', 'Banane', 'Pamplemousse']\n",
      "['Pamplemousse', 'Pomme', 'Ananas', 'Fraise', 'Poire', 'Ananas', 'Banane', 'Pamplemousse']\n"
     ]
    }
   ],
   "source": [
    "L=[\"Pomme\",\"Poire\",\"Banane\"]\n",
    "print(L)\n",
    "L.insert(1,\"Fraise\") # vient prendre la place de \"Poire\"\n",
    "print(L)\n",
    "L.insert(-1,\"Ananas\") # vient prendre la place de \"Banane\"\n",
    "print(L)\n",
    "L.insert(-4,\"Ananas\") # vient prendre la place de \"Fraise\"\n",
    "print(L)\n",
    "L.insert(56,\"Pamplemousse\")\n",
    "print(L)\n",
    "L.insert(-56,\"Pamplemousse\")\n",
    "print(L)"
   ]
  },
  {
   "cell_type": "markdown",
   "metadata": {},
   "source": [
    "### La méthode .remove()"
   ]
  },
  {
   "cell_type": "markdown",
   "metadata": {},
   "source": [
    "La syntaxe  $L.remove(objet)$ supprime de la liste la première occurrence égale à $objet$ dans la liste $L$. Si $objet$ n'est pas présent dans $L$, cela produit un message d'erreur."
   ]
  },
  {
   "cell_type": "code",
   "execution_count": 101,
   "metadata": {},
   "outputs": [
    {
     "name": "stdout",
     "output_type": "stream",
     "text": [
      "[0, 1, 2, 3, 4, 5, 6, 7, 8, 9, 10, 11, 12, 13, 14, 15, 16, 17, 18, 19, 20, 21, 22, 23, 24, 25, 26, 27, 28, 29, 30, 31, 32, 33]\n",
      "[0, 1, 2, 3, 5, 6, 7, 8, 9, 10, 11, 12, 13, 14, 15, 16, 17, 18, 19, 20, 21, 22, 23, 24, 25, 26, 27, 28, 29, 30, 31, 32, 33]\n",
      "[0, 1, 2, 3, 5, 6, 7, 8, 9, 10, 11, 12, 13, 14, 15, 16, 17, 18, 19, 20, 21, 22, 24, 25, 26, 27, 28, 29, 30, 31, 32, 33]\n",
      "[2, 3, 2, 3, 3, 2, 3]\n",
      "[3, 2, 3, 3, 2, 3]\n",
      "[2, 3, 3, 2, 3]\n"
     ]
    }
   ],
   "source": [
    "L=list(range(34))\n",
    "print(L)\n",
    "L.remove(4.)\n",
    "print(L)\n",
    "#### Vous pouvez décommenter les ligne ci-dessous pour voir le message d'érreur\n",
    "#L.remove(5.7)\n",
    "#print(Liste)\n",
    "L.remove(23)\n",
    "print(L)\n",
    "M=[2,3,2,3,3,2,3]\n",
    "print(M)\n",
    "M.remove(2)\n",
    "print(M)  # seul le premier \"2\" est supprimé !\n",
    "M.remove(3)\n",
    "print(M)  # seul le premier \"3\" est supprimé !"
   ]
  },
  {
   "cell_type": "markdown",
   "metadata": {},
   "source": [
    "### La méthode .pop()"
   ]
  },
  {
   "cell_type": "markdown",
   "metadata": {},
   "source": [
    "La syntaxe  $L.pop([Indice])$ renvoie $L[Indice]$ et supprime l'élément d'index $Indice$ de la liste $L$. Il n'est pas nécessaire que  $Indice$ soit dans les bornes cycliques licites entre $-len(L)$ et $len(L)-1$, mais cela est quand même conseillé pour une meilleure lecture du script."
   ]
  },
  {
   "cell_type": "code",
   "execution_count": 79,
   "metadata": {},
   "outputs": [
    {
     "name": "stdout",
     "output_type": "stream",
     "text": [
      "[2, 3, 2, 2, 1, 2, 'mot', 2, 3]\n",
      "mot\n",
      "[2, 3, 2, 2, 1, 2, 2, 3]\n",
      "[2, 3, 2, 2, 1, 2, 2]\n",
      "[2, 3, 2, 1, 2, 2]\n"
     ]
    }
   ],
   "source": [
    "L=[2,3,2,2,1,2,\"mot\",2,3]\n",
    "print(L)\n",
    "print(L.pop(6))\n",
    "print(L)\n",
    "L.pop(-1)\n",
    "print(L)\n",
    "L.pop(3)\n",
    "print(L)\n",
    "#L.pop(100)\n",
    "#print(L)"
   ]
  },
  {
   "cell_type": "markdown",
   "metadata": {},
   "source": [
    "**Remarque** : on peut aussi supprimer l'élément d'index $Indice$ de la liste $L$ en utilisant la fonction $del$. Avec la syntaxe :\n",
    "$del~L[Indice]$."
   ]
  },
  {
   "cell_type": "code",
   "execution_count": 80,
   "metadata": {},
   "outputs": [
    {
     "name": "stdout",
     "output_type": "stream",
     "text": [
      "[2, 3, 2, 1, 2, 2]\n",
      "[3, 2, 1, 2, 2]\n"
     ]
    }
   ],
   "source": [
    "print(L)\n",
    "del L[0] #supprime le premier élément de L\n",
    "print(L)"
   ]
  },
  {
   "cell_type": "markdown",
   "metadata": {},
   "source": [
    "### La méthode .index()"
   ]
  },
  {
   "cell_type": "markdown",
   "metadata": {},
   "source": [
    "La syntaxe $L.index(objet)$ renvoie l'index de la première occurrence d'$objet$ dans $L$. La liste $L$ n'est pas modifiée par cette méthode. Cela renvoie un message d'erreur lorsque $objet$ ne figure pas dans la liste $L$."
   ]
  },
  {
   "cell_type": "code",
   "execution_count": 81,
   "metadata": {},
   "outputs": [
    {
     "name": "stdout",
     "output_type": "stream",
     "text": [
      "[2, 1, 2, 'un mot', 3, 2, 3, 2]\n",
      "3\n",
      "4\n",
      "[2, 1, 2, 'un mot', 3, 2, 3, 2]\n"
     ]
    }
   ],
   "source": [
    "Liste=[2,1,2,\"un mot\",3,2,3,2]\n",
    "print(Liste)\n",
    "print(Liste.index(\"un mot\"))\n",
    "print(Liste.index(3))\n",
    "print(Liste)  # liste non modifiée"
   ]
  },
  {
   "cell_type": "markdown",
   "metadata": {},
   "source": [
    "### La méthode .count()"
   ]
  },
  {
   "cell_type": "markdown",
   "metadata": {},
   "source": [
    "La syntaxe $L.count(objet)$ renvoie le nombre d'occurrences égales à $objet$ dans la liste $L$. Cele ne modifie pas la liste initiale."
   ]
  },
  {
   "cell_type": "code",
   "execution_count": 121,
   "metadata": {},
   "outputs": [
    {
     "data": {
      "text/plain": [
       "4"
      ]
     },
     "execution_count": 121,
     "metadata": {},
     "output_type": "execute_result"
    }
   ],
   "source": [
    "Liste=[2,1,2,\"un mot\",3,2,3,2]\n",
    "Liste.count(2)"
   ]
  },
  {
   "cell_type": "markdown",
   "metadata": {},
   "source": [
    "## Création de listes par compréhension"
   ]
  },
  {
   "cell_type": "markdown",
   "metadata": {},
   "source": [
    "Supposons que l'on veuille créer de façon automatique la liste des 5 premiers carrés à partir de 1  : $[1,4,9,16,25]$.\n",
    "Une première façon de procéder est d'utiliser une boucle $for$ et la fonction $range$. On part d'une liste vide $L$ à laquelle on ajoute successivement les carrés des entiers de 1 à 5 à l'aide de la méthode $.append()$."
   ]
  },
  {
   "cell_type": "code",
   "execution_count": 83,
   "metadata": {},
   "outputs": [
    {
     "name": "stdout",
     "output_type": "stream",
     "text": [
      "[1, 4, 9, 16, 25]\n"
     ]
    }
   ],
   "source": [
    "L=[]\n",
    "n=5\n",
    "for k in range(1,n+1):\n",
    "    L.append(k**2)\n",
    "print(L)"
   ]
  },
  {
   "cell_type": "markdown",
   "metadata": {},
   "source": [
    "Il est possible de créer cette liste en une ligne grâce à une **compréhension de liste** : "
   ]
  },
  {
   "cell_type": "code",
   "execution_count": 102,
   "metadata": {},
   "outputs": [
    {
     "name": "stdout",
     "output_type": "stream",
     "text": [
      "[1, 4, 9, 16, 25]\n"
     ]
    }
   ],
   "source": [
    "n=5\n",
    "L=[k**2 for k in range(1,n+1)]\n",
    "print(L)"
   ]
  },
  {
   "cell_type": "markdown",
   "metadata": {},
   "source": [
    "Les compréhensions de listes permettent de rajouter une condition $if$ et de faire du *filtrage*.\n",
    "Par exemple, le programme suivant permet de créer une liste ne contenant que les éléments de la liste *nombres* supérieurs à 10 :"
   ]
  },
  {
   "cell_type": "code",
   "execution_count": 103,
   "metadata": {},
   "outputs": [
    {
     "name": "stdout",
     "output_type": "stream",
     "text": [
      "[11, 24, 16]\n"
     ]
    }
   ],
   "source": [
    "nombres=[4,5,11,1,24,16,0,9]\n",
    "\n",
    "ma_liste=[k for k in nombres if k>10]\n",
    "print(ma_liste)"
   ]
  },
  {
   "cell_type": "markdown",
   "metadata": {},
   "source": [
    "On peut aussi utiliser des composantes plus complexes. Le programme suivant crée la liste des \"couples\" composés des nombres pairs de la liste $nombres$ et de leurs carrés:"
   ]
  },
  {
   "cell_type": "code",
   "execution_count": 104,
   "metadata": {},
   "outputs": [
    {
     "name": "stdout",
     "output_type": "stream",
     "text": [
      "[[4, 16], [24, 576], [16, 256], [0, 0]]\n"
     ]
    }
   ],
   "source": [
    "carrés=[[x,x**2] for x in nombres if x%2==0]\n",
    "print(carrés)"
   ]
  },
  {
   "cell_type": "markdown",
   "metadata": {},
   "source": [
    "## Exercices"
   ]
  },
  {
   "cell_type": "markdown",
   "metadata": {},
   "source": [
    "### Exercice 1 : Simulation de lancer de dé"
   ]
  },
  {
   "cell_type": "markdown",
   "metadata": {},
   "source": [
    "Fabriquer une liste de 100 nombres aléatoires de 0 à 6 puis donner la fréquence d'apparition du nombre 6."
   ]
  },
  {
   "cell_type": "markdown",
   "metadata": {},
   "source": [
    "Indication : On pourra utiliser les commandes suivantes pour tirer un nombre aléatoire entre 0 et 6 :"
   ]
  },
  {
   "cell_type": "code",
   "execution_count": 127,
   "metadata": {},
   "outputs": [
    {
     "data": {
      "text/plain": [
       "2"
      ]
     },
     "execution_count": 127,
     "metadata": {},
     "output_type": "execute_result"
    }
   ],
   "source": [
    "from random import * # A mettre au début du programme\n",
    "\n",
    "randint(1,6)"
   ]
  },
  {
   "cell_type": "code",
   "execution_count": 126,
   "metadata": {},
   "outputs": [
    {
     "name": "stdout",
     "output_type": "stream",
     "text": [
      "[6, 3, 1, 1, 5, 2, 2, 4, 3, 2, 5, 6, 5, 0, 1, 1, 0, 0, 5, 0, 2, 5, 0, 4, 2, 4, 4, 3, 3, 4, 5, 5, 4, 2, 5, 4, 6, 0, 2, 1, 2, 1, 6, 4, 3, 2, 3, 3, 3, 3, 0, 6, 2, 5, 2, 4, 0, 2, 1, 5, 5, 6, 5, 5, 3, 2, 6, 1, 3, 6, 5, 2, 2, 0, 1, 1, 0, 2, 5, 5, 6, 2, 3, 4, 1, 6, 3, 4, 2, 0, 2, 5, 6, 0, 4, 1, 2, 2, 5, 3]\n",
      "11\n"
     ]
    }
   ],
   "source": [
    "from random import * \n",
    "\n",
    "L=[randint(0,6) for k in range(100)]\n",
    "print(L)\n",
    "print(L.count(6))"
   ]
  },
  {
   "cell_type": "markdown",
   "metadata": {},
   "source": [
    "### Exercice 2 : compréhensions de listes"
   ]
  },
  {
   "cell_type": "markdown",
   "metadata": {},
   "source": [
    "Pour chaque question, utiliser une **compréhension de liste** pour générer la liste demandée."
   ]
  },
  {
   "cell_type": "markdown",
   "metadata": {},
   "source": [
    "1. Créer une liste des lettres de la chaine de caractères \"Le Retour du Jedi\". Cette liste ne doit donc pas comporter d'espaces."
   ]
  },
  {
   "cell_type": "code",
   "execution_count": 148,
   "metadata": {},
   "outputs": [
    {
     "name": "stdout",
     "output_type": "stream",
     "text": [
      "['L', 'e', 'R', 'e', 't', 'o', 'u', 'r', 'd', 'u', 'J', 'e', 'd', 'i']\n"
     ]
    }
   ],
   "source": [
    "def liste_lettres(chaine):\n",
    "    L=[]\n",
    "    for k in range(len(chaine)):\n",
    "        if chaine[k]!=\" \":\n",
    "            L.append(chaine[k])\n",
    "    return L\n",
    "\n",
    "print(liste_lettres(\"Le Retour du Jedi\"))\n"
   ]
  },
  {
   "cell_type": "markdown",
   "metadata": {},
   "source": [
    "2. $f$ est la fonction numérique qui à tout entier naturel $x$ associe $f(x)$ tel que $f(x)= x//2$ si $x$ est pair et $f(x)=3x+1$ si $x$ est impair. Créer la liste des couples $(x, f(x))$ où $x$ est un entier variant de 0 à 10 par pas de 1."
   ]
  },
  {
   "cell_type": "code",
   "execution_count": 150,
   "metadata": {},
   "outputs": [
    {
     "name": "stdout",
     "output_type": "stream",
     "text": [
      "16\n"
     ]
    }
   ],
   "source": [
    "def f(x):\n",
    "    if x%2==0:\n",
    "        return x//2\n",
    "    else:\n",
    "        return 3*x+1\n",
    "    \n",
    "print(f(5))"
   ]
  },
  {
   "cell_type": "markdown",
   "metadata": {},
   "source": [
    "3. Créer la liste des couples (a, b) d’entiers compris entre 0 et 5 (inclus) tels que a > b. On utilisera deux $for$ successifs."
   ]
  },
  {
   "cell_type": "code",
   "execution_count": 153,
   "metadata": {},
   "outputs": [
    {
     "name": "stdout",
     "output_type": "stream",
     "text": [
      "[[1, 0], [2, 0], [2, 1], [3, 0], [3, 1], [3, 2], [4, 0], [4, 1], [4, 2], [4, 3], [5, 0], [5, 1], [5, 2], [5, 3], [5, 4]]\n"
     ]
    }
   ],
   "source": [
    "def liste_couples():\n",
    "    L=[]\n",
    "    for a in range(6):\n",
    "        for b in range(a):\n",
    "            L.append([a,b])\n",
    "    return L\n",
    "\n",
    "print(liste_couples())\n"
   ]
  },
  {
   "cell_type": "markdown",
   "metadata": {},
   "source": [
    "4. On lance 3 dés. Les 3 valeurs obtenues sont a, b et c. Créer la liste des triplets (a,b,c) tels que la somme des 3 dés soit égale à 7 et a>=b>=c."
   ]
  },
  {
   "cell_type": "code",
   "execution_count": 155,
   "metadata": {},
   "outputs": [
    {
     "name": "stdout",
     "output_type": "stream",
     "text": [
      "[[3, 2, 2], [3, 3, 1], [4, 2, 1], [5, 1, 1]]\n"
     ]
    }
   ],
   "source": [
    "def liste_triples():\n",
    "    L=[]\n",
    "    for a in range(1,7):\n",
    "        for b in range(1,a+1):\n",
    "            for c in range(1,b+1):\n",
    "                if a+b+c==7:\n",
    "                    L.append([a,b,c])\n",
    "    return L\n",
    "\n",
    "print(liste_triples())"
   ]
  },
  {
   "cell_type": "markdown",
   "metadata": {},
   "source": [
    "### Exercice 3 : Défi Turing 90 (optionnel)"
   ]
  },
  {
   "cell_type": "markdown",
   "metadata": {},
   "source": [
    "276 lampes sont numérotées de 1 à 276.\n",
    "Pour passer le temps, 25 enfants appuient sur les interrupteurs à tour de rôle. Le premier enfant presse chaque interrupteur. Le second presse les boutons 2, 4, 6 , etc. (tous les boutons ayant un numéro multiple de 2), le troisième appuie sur les boutons 3, 6, 9, etc. Le quatrième presse tous les boutons ayant un numéro multiple de 4, et ainsi de suite jusqu'au 25ème enfant. \n",
    "Avant le passage du premier enfant, toutes les ampoules sont éteintes. \n",
    "\n",
    "**Combien d'ampoules seront allumées après le passage des 25 enfants ?**"
   ]
  },
  {
   "cell_type": "code",
   "execution_count": 160,
   "metadata": {},
   "outputs": [
    {
     "name": "stdout",
     "output_type": "stream",
     "text": [
      "154\n"
     ]
    }
   ],
   "source": [
    "def lampes():\n",
    "    L=[0 for k in range(276)]\n",
    "    for k in range(1,26):\n",
    "        for i in range(k-1,276,k):\n",
    "            L[i]=1-L[i]\n",
    "    return L\n",
    "\n",
    "print(lampes().count(1))"
   ]
  }
 ],
 "metadata": {
  "kernelspec": {
   "display_name": "Python 3.10.4 64-bit",
   "language": "python",
   "name": "python3"
  },
  "language_info": {
   "codemirror_mode": {
    "name": "ipython",
    "version": 3
   },
   "file_extension": ".py",
   "mimetype": "text/x-python",
   "name": "python",
   "nbconvert_exporter": "python",
   "pygments_lexer": "ipython3",
   "version": "3.10.4"
  },
  "vscode": {
   "interpreter": {
    "hash": "4f946df053fbf2b937619d3c5458e7af74262f9a954d8797ba0b27400bcafe06"
   }
  }
 },
 "nbformat": 4,
 "nbformat_minor": 1
}
